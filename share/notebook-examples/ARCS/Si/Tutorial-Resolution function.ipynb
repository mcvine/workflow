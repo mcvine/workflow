{
 "cells": [
  {
   "cell_type": "markdown",
   "metadata": {},
   "source": [
    "# Simulation of Resolution Function for ARCS Single Crystal Silicon Dataset"
   ]
  },
  {
   "cell_type": "markdown",
   "metadata": {},
   "source": [
    "Instrument: ARCS\n",
    "* Ei=100meV\n",
    "* Fermi chopper: 600 Hz\n",
    "* T0: 120Hz\n",
    "\n",
    "Sample: resolution sample\n",
    "* hkl: -16/3.,-8/3.,8/3.\n",
    "* E: 40"
   ]
  },
  {
   "cell_type": "markdown",
   "metadata": {},
   "source": [
    "## Step 0. some goodies"
   ]
  },
  {
   "cell_type": "code",
   "execution_count": 1,
   "metadata": {
    "collapsed": false
   },
   "outputs": [
    {
     "name": "stderr",
     "output_type": "stream",
     "text": [
      "/home/lj7/miniconda2/envs/dev-mcvine/lib/python2.7/site-packages/matplotlib/font_manager.py:273: UserWarning: Matplotlib is building the font cache using fc-list. This may take a moment.\n",
      "  warnings.warn('Matplotlib is building the font cache using fc-list. This may take a moment.')\n"
     ]
    }
   ],
   "source": [
    "%matplotlib notebook\n",
    "from matplotlib import pyplot as plt\n",
    "import numpy as np\n",
    "import histogram.hdf as hh, histogram as H"
   ]
  },
  {
   "cell_type": "code",
   "execution_count": 2,
   "metadata": {
    "collapsed": false
   },
   "outputs": [
    {
     "name": "stdout",
     "output_type": "stream",
     "text": [
      "/home/lj7/dv/mcvine/workflow/notebook-examples/ARCS/Si\n"
     ]
    }
   ],
   "source": [
    "# where am I?\n",
    "import os\n",
    "PWD=os.path.abspath(\".\")\n",
    "print PWD\n",
    "# It should be the directory where this jupyter notebook is"
   ]
  },
  {
   "cell_type": "markdown",
   "metadata": {},
   "source": [
    "## Step 1. Create dir structure"
   ]
  },
  {
   "cell_type": "code",
   "execution_count": 3,
   "metadata": {
    "collapsed": true
   },
   "outputs": [],
   "source": [
    "# Create a working directory for the simulation\n",
    "# Change the following line to your own directory!!!\n",
    "# This directory should not exist yet. It will be created later.\n",
    "workdir = \"/SNS/users/lj7/simulations/ARCS/Si/08042016/resolution-tutorial\""
   ]
  },
  {
   "cell_type": "code",
   "execution_count": 4,
   "metadata": {
    "collapsed": true
   },
   "outputs": [],
   "source": [
    "# Prepare sample description.\n",
    "# It will be used to generate files for the simulation\n",
    "# and will be used in reduction and analysis"
   ]
  },
  {
   "cell_type": "code",
   "execution_count": 5,
   "metadata": {
    "collapsed": false
   },
   "outputs": [
    {
     "name": "stdout",
     "output_type": "stream",
     "text": [
      "Writing Si.yml\n"
     ]
    }
   ],
   "source": [
    "%%file Si.yml\n",
    "name: Si\n",
    "chemical_formula: Si2\n",
    "lattice: \n",
    " constants: 5.490700041, 5.490700041, 5.490700041, 90, 90, 90\n",
    " basis_vectors:\n",
    "  - 5.490700041, 0, 0\n",
    "  - 0, 5.490700041, 0\n",
    "  - 0, 0, 5.490700041\n",
    " primitive_basis_vectors:\n",
    "  - 0.0, 2.71526503565, 2.71526503565\n",
    "  - 2.71526503565, 0.0, 2.71526503565\n",
    "  - 2.71526503565, 2.71526503565, 0.0\n",
    "excitations:\n",
    "  - type: deltafunction\n",
    "    hkl: -16/3.,-8/3.,8/3.\n",
    "    E: 40.\n",
    "    dE: 0.05\n",
    "orientation:\n",
    " u: -1, 1, -1\n",
    " v: 2, 1, -1\n",
    "shape: hollowCylinder in_radius=\"5./8*inch\" out_radius=\"1.*inch\" height=\"1.5*inch\"\n",
    "temperature: 100*K"
   ]
  },
  {
   "cell_type": "code",
   "execution_count": 6,
   "metadata": {
    "collapsed": true
   },
   "outputs": [],
   "source": [
    "# let mcvine workflow scaffolding helps you build the simulation directory"
   ]
  },
  {
   "cell_type": "code",
   "execution_count": 7,
   "metadata": {
    "collapsed": false
   },
   "outputs": [],
   "source": [
    "!mcvine workflow singlecrystal --outdir={workdir} --type=DGS \\\n",
    "    --instrument=ARCS --sample=Si.yml"
   ]
  },
  {
   "cell_type": "code",
   "execution_count": 8,
   "metadata": {
    "collapsed": false
   },
   "outputs": [
    {
     "name": "stdout",
     "output_type": "stream",
     "text": [
      "/SNS/users/lj7/simulations/ARCS/Si/08042016/resolution-tutorial\n"
     ]
    }
   ],
   "source": [
    "# change to local working directory\n",
    "%cd {workdir}"
   ]
  },
  {
   "cell_type": "code",
   "execution_count": 9,
   "metadata": {
    "collapsed": false
   },
   "outputs": [
    {
     "name": "stdout",
     "output_type": "stream",
     "text": [
      "beam  README.md  sampleassembly  scattering\r\n"
     ]
    }
   ],
   "source": [
    "# list dir contents\n",
    "!ls ."
   ]
  },
  {
   "cell_type": "code",
   "execution_count": 10,
   "metadata": {
    "collapsed": true
   },
   "outputs": [],
   "source": [
    "# move sample yml file here\n",
    "!mv {PWD}/Si.yml ."
   ]
  },
  {
   "cell_type": "code",
   "execution_count": 11,
   "metadata": {
    "collapsed": false
   },
   "outputs": [
    {
     "name": "stdout",
     "output_type": "stream",
     "text": [
      "beam  README.md  sampleassembly  scattering  Si.yml\r\n"
     ]
    }
   ],
   "source": [
    "!ls ."
   ]
  },
  {
   "cell_type": "markdown",
   "metadata": {},
   "source": [
    "## Step 2. Setup beam simulation"
   ]
  },
  {
   "cell_type": "code",
   "execution_count": 12,
   "metadata": {
    "collapsed": true
   },
   "outputs": [],
   "source": [
    "# In this example we won't simulate a new beam but will reuse an existing beam\n",
    "# First remove the beam dir\n",
    "# !!! Be very careful with rm -rf !!!\n",
    "!rm -rf beam\n",
    "# Then make a symlink\n",
    "!ln -s /SNS/users/lj7/simulations/ARCS/beam/100meV beam"
   ]
  },
  {
   "cell_type": "code",
   "execution_count": 13,
   "metadata": {
    "collapsed": false
   },
   "outputs": [
    {
     "name": "stdout",
     "output_type": "stream",
     "text": [
      "total 20\r\n",
      "lrwxrwxrwx 1 lj7 users  43 Aug  6 13:07 \u001b[0m\u001b[01;36mbeam\u001b[0m -> \u001b[01;34m/SNS/users/lj7/simulations/ARCS/beam/100meV\u001b[0m/\r\n",
      "-rw-r--r-- 1 lj7 users  73 Jul 27 13:01 README.md\r\n",
      "drwxr-xr-x 1 lj7 users  83 Aug  6 13:07 \u001b[01;34msampleassembly\u001b[0m/\r\n",
      "drwxr-xr-x 1 lj7 users  47 Jul 28 17:36 \u001b[01;34mscattering\u001b[0m/\r\n",
      "-rw-r--r-- 1 lj7 users 554 Aug  6 13:06 Si.yml\r\n"
     ]
    }
   ],
   "source": [
    "ls -l {workdir}"
   ]
  },
  {
   "cell_type": "code",
   "execution_count": 14,
   "metadata": {
    "collapsed": false
   },
   "outputs": [
    {
     "data": {
      "application/javascript": [
       "/* Put everything inside the global mpl namespace */\n",
       "window.mpl = {};\n",
       "\n",
       "mpl.get_websocket_type = function() {\n",
       "    if (typeof(WebSocket) !== 'undefined') {\n",
       "        return WebSocket;\n",
       "    } else if (typeof(MozWebSocket) !== 'undefined') {\n",
       "        return MozWebSocket;\n",
       "    } else {\n",
       "        alert('Your browser does not have WebSocket support.' +\n",
       "              'Please try Chrome, Safari or Firefox ≥ 6. ' +\n",
       "              'Firefox 4 and 5 are also supported but you ' +\n",
       "              'have to enable WebSockets in about:config.');\n",
       "    };\n",
       "}\n",
       "\n",
       "mpl.figure = function(figure_id, websocket, ondownload, parent_element) {\n",
       "    this.id = figure_id;\n",
       "\n",
       "    this.ws = websocket;\n",
       "\n",
       "    this.supports_binary = (this.ws.binaryType != undefined);\n",
       "\n",
       "    if (!this.supports_binary) {\n",
       "        var warnings = document.getElementById(\"mpl-warnings\");\n",
       "        if (warnings) {\n",
       "            warnings.style.display = 'block';\n",
       "            warnings.textContent = (\n",
       "                \"This browser does not support binary websocket messages. \" +\n",
       "                    \"Performance may be slow.\");\n",
       "        }\n",
       "    }\n",
       "\n",
       "    this.imageObj = new Image();\n",
       "\n",
       "    this.context = undefined;\n",
       "    this.message = undefined;\n",
       "    this.canvas = undefined;\n",
       "    this.rubberband_canvas = undefined;\n",
       "    this.rubberband_context = undefined;\n",
       "    this.format_dropdown = undefined;\n",
       "\n",
       "    this.image_mode = 'full';\n",
       "\n",
       "    this.root = $('<div/>');\n",
       "    this._root_extra_style(this.root)\n",
       "    this.root.attr('style', 'display: inline-block');\n",
       "\n",
       "    $(parent_element).append(this.root);\n",
       "\n",
       "    this._init_header(this);\n",
       "    this._init_canvas(this);\n",
       "    this._init_toolbar(this);\n",
       "\n",
       "    var fig = this;\n",
       "\n",
       "    this.waiting = false;\n",
       "\n",
       "    this.ws.onopen =  function () {\n",
       "            fig.send_message(\"supports_binary\", {value: fig.supports_binary});\n",
       "            fig.send_message(\"send_image_mode\", {});\n",
       "            fig.send_message(\"refresh\", {});\n",
       "        }\n",
       "\n",
       "    this.imageObj.onload = function() {\n",
       "            if (fig.image_mode == 'full') {\n",
       "                // Full images could contain transparency (where diff images\n",
       "                // almost always do), so we need to clear the canvas so that\n",
       "                // there is no ghosting.\n",
       "                fig.context.clearRect(0, 0, fig.canvas.width, fig.canvas.height);\n",
       "            }\n",
       "            fig.context.drawImage(fig.imageObj, 0, 0);\n",
       "        };\n",
       "\n",
       "    this.imageObj.onunload = function() {\n",
       "        this.ws.close();\n",
       "    }\n",
       "\n",
       "    this.ws.onmessage = this._make_on_message_function(this);\n",
       "\n",
       "    this.ondownload = ondownload;\n",
       "}\n",
       "\n",
       "mpl.figure.prototype._init_header = function() {\n",
       "    var titlebar = $(\n",
       "        '<div class=\"ui-dialog-titlebar ui-widget-header ui-corner-all ' +\n",
       "        'ui-helper-clearfix\"/>');\n",
       "    var titletext = $(\n",
       "        '<div class=\"ui-dialog-title\" style=\"width: 100%; ' +\n",
       "        'text-align: center; padding: 3px;\"/>');\n",
       "    titlebar.append(titletext)\n",
       "    this.root.append(titlebar);\n",
       "    this.header = titletext[0];\n",
       "}\n",
       "\n",
       "\n",
       "\n",
       "mpl.figure.prototype._canvas_extra_style = function(canvas_div) {\n",
       "\n",
       "}\n",
       "\n",
       "\n",
       "mpl.figure.prototype._root_extra_style = function(canvas_div) {\n",
       "\n",
       "}\n",
       "\n",
       "mpl.figure.prototype._init_canvas = function() {\n",
       "    var fig = this;\n",
       "\n",
       "    var canvas_div = $('<div/>');\n",
       "\n",
       "    canvas_div.attr('style', 'position: relative; clear: both; outline: 0');\n",
       "\n",
       "    function canvas_keyboard_event(event) {\n",
       "        return fig.key_event(event, event['data']);\n",
       "    }\n",
       "\n",
       "    canvas_div.keydown('key_press', canvas_keyboard_event);\n",
       "    canvas_div.keyup('key_release', canvas_keyboard_event);\n",
       "    this.canvas_div = canvas_div\n",
       "    this._canvas_extra_style(canvas_div)\n",
       "    this.root.append(canvas_div);\n",
       "\n",
       "    var canvas = $('<canvas/>');\n",
       "    canvas.addClass('mpl-canvas');\n",
       "    canvas.attr('style', \"left: 0; top: 0; z-index: 0; outline: 0\")\n",
       "\n",
       "    this.canvas = canvas[0];\n",
       "    this.context = canvas[0].getContext(\"2d\");\n",
       "\n",
       "    var rubberband = $('<canvas/>');\n",
       "    rubberband.attr('style', \"position: absolute; left: 0; top: 0; z-index: 1;\")\n",
       "\n",
       "    var pass_mouse_events = true;\n",
       "\n",
       "    canvas_div.resizable({\n",
       "        start: function(event, ui) {\n",
       "            pass_mouse_events = false;\n",
       "        },\n",
       "        resize: function(event, ui) {\n",
       "            fig.request_resize(ui.size.width, ui.size.height);\n",
       "        },\n",
       "        stop: function(event, ui) {\n",
       "            pass_mouse_events = true;\n",
       "            fig.request_resize(ui.size.width, ui.size.height);\n",
       "        },\n",
       "    });\n",
       "\n",
       "    function mouse_event_fn(event) {\n",
       "        if (pass_mouse_events)\n",
       "            return fig.mouse_event(event, event['data']);\n",
       "    }\n",
       "\n",
       "    rubberband.mousedown('button_press', mouse_event_fn);\n",
       "    rubberband.mouseup('button_release', mouse_event_fn);\n",
       "    // Throttle sequential mouse events to 1 every 20ms.\n",
       "    rubberband.mousemove('motion_notify', mouse_event_fn);\n",
       "\n",
       "    rubberband.mouseenter('figure_enter', mouse_event_fn);\n",
       "    rubberband.mouseleave('figure_leave', mouse_event_fn);\n",
       "\n",
       "    canvas_div.on(\"wheel\", function (event) {\n",
       "        event = event.originalEvent;\n",
       "        event['data'] = 'scroll'\n",
       "        if (event.deltaY < 0) {\n",
       "            event.step = 1;\n",
       "        } else {\n",
       "            event.step = -1;\n",
       "        }\n",
       "        mouse_event_fn(event);\n",
       "    });\n",
       "\n",
       "    canvas_div.append(canvas);\n",
       "    canvas_div.append(rubberband);\n",
       "\n",
       "    this.rubberband = rubberband;\n",
       "    this.rubberband_canvas = rubberband[0];\n",
       "    this.rubberband_context = rubberband[0].getContext(\"2d\");\n",
       "    this.rubberband_context.strokeStyle = \"#000000\";\n",
       "\n",
       "    this._resize_canvas = function(width, height) {\n",
       "        // Keep the size of the canvas, canvas container, and rubber band\n",
       "        // canvas in synch.\n",
       "        canvas_div.css('width', width)\n",
       "        canvas_div.css('height', height)\n",
       "\n",
       "        canvas.attr('width', width);\n",
       "        canvas.attr('height', height);\n",
       "\n",
       "        rubberband.attr('width', width);\n",
       "        rubberband.attr('height', height);\n",
       "    }\n",
       "\n",
       "    // Set the figure to an initial 600x600px, this will subsequently be updated\n",
       "    // upon first draw.\n",
       "    this._resize_canvas(600, 600);\n",
       "\n",
       "    // Disable right mouse context menu.\n",
       "    $(this.rubberband_canvas).bind(\"contextmenu\",function(e){\n",
       "        return false;\n",
       "    });\n",
       "\n",
       "    function set_focus () {\n",
       "        canvas.focus();\n",
       "        canvas_div.focus();\n",
       "    }\n",
       "\n",
       "    window.setTimeout(set_focus, 100);\n",
       "}\n",
       "\n",
       "mpl.figure.prototype._init_toolbar = function() {\n",
       "    var fig = this;\n",
       "\n",
       "    var nav_element = $('<div/>')\n",
       "    nav_element.attr('style', 'width: 100%');\n",
       "    this.root.append(nav_element);\n",
       "\n",
       "    // Define a callback function for later on.\n",
       "    function toolbar_event(event) {\n",
       "        return fig.toolbar_button_onclick(event['data']);\n",
       "    }\n",
       "    function toolbar_mouse_event(event) {\n",
       "        return fig.toolbar_button_onmouseover(event['data']);\n",
       "    }\n",
       "\n",
       "    for(var toolbar_ind in mpl.toolbar_items) {\n",
       "        var name = mpl.toolbar_items[toolbar_ind][0];\n",
       "        var tooltip = mpl.toolbar_items[toolbar_ind][1];\n",
       "        var image = mpl.toolbar_items[toolbar_ind][2];\n",
       "        var method_name = mpl.toolbar_items[toolbar_ind][3];\n",
       "\n",
       "        if (!name) {\n",
       "            // put a spacer in here.\n",
       "            continue;\n",
       "        }\n",
       "        var button = $('<button/>');\n",
       "        button.addClass('ui-button ui-widget ui-state-default ui-corner-all ' +\n",
       "                        'ui-button-icon-only');\n",
       "        button.attr('role', 'button');\n",
       "        button.attr('aria-disabled', 'false');\n",
       "        button.click(method_name, toolbar_event);\n",
       "        button.mouseover(tooltip, toolbar_mouse_event);\n",
       "\n",
       "        var icon_img = $('<span/>');\n",
       "        icon_img.addClass('ui-button-icon-primary ui-icon');\n",
       "        icon_img.addClass(image);\n",
       "        icon_img.addClass('ui-corner-all');\n",
       "\n",
       "        var tooltip_span = $('<span/>');\n",
       "        tooltip_span.addClass('ui-button-text');\n",
       "        tooltip_span.html(tooltip);\n",
       "\n",
       "        button.append(icon_img);\n",
       "        button.append(tooltip_span);\n",
       "\n",
       "        nav_element.append(button);\n",
       "    }\n",
       "\n",
       "    var fmt_picker_span = $('<span/>');\n",
       "\n",
       "    var fmt_picker = $('<select/>');\n",
       "    fmt_picker.addClass('mpl-toolbar-option ui-widget ui-widget-content');\n",
       "    fmt_picker_span.append(fmt_picker);\n",
       "    nav_element.append(fmt_picker_span);\n",
       "    this.format_dropdown = fmt_picker[0];\n",
       "\n",
       "    for (var ind in mpl.extensions) {\n",
       "        var fmt = mpl.extensions[ind];\n",
       "        var option = $(\n",
       "            '<option/>', {selected: fmt === mpl.default_extension}).html(fmt);\n",
       "        fmt_picker.append(option)\n",
       "    }\n",
       "\n",
       "    // Add hover states to the ui-buttons\n",
       "    $( \".ui-button\" ).hover(\n",
       "        function() { $(this).addClass(\"ui-state-hover\");},\n",
       "        function() { $(this).removeClass(\"ui-state-hover\");}\n",
       "    );\n",
       "\n",
       "    var status_bar = $('<span class=\"mpl-message\"/>');\n",
       "    nav_element.append(status_bar);\n",
       "    this.message = status_bar[0];\n",
       "}\n",
       "\n",
       "mpl.figure.prototype.request_resize = function(x_pixels, y_pixels) {\n",
       "    // Request matplotlib to resize the figure. Matplotlib will then trigger a resize in the client,\n",
       "    // which will in turn request a refresh of the image.\n",
       "    this.send_message('resize', {'width': x_pixels, 'height': y_pixels});\n",
       "}\n",
       "\n",
       "mpl.figure.prototype.send_message = function(type, properties) {\n",
       "    properties['type'] = type;\n",
       "    properties['figure_id'] = this.id;\n",
       "    this.ws.send(JSON.stringify(properties));\n",
       "}\n",
       "\n",
       "mpl.figure.prototype.send_draw_message = function() {\n",
       "    if (!this.waiting) {\n",
       "        this.waiting = true;\n",
       "        this.ws.send(JSON.stringify({type: \"draw\", figure_id: this.id}));\n",
       "    }\n",
       "}\n",
       "\n",
       "\n",
       "mpl.figure.prototype.handle_save = function(fig, msg) {\n",
       "    var format_dropdown = fig.format_dropdown;\n",
       "    var format = format_dropdown.options[format_dropdown.selectedIndex].value;\n",
       "    fig.ondownload(fig, format);\n",
       "}\n",
       "\n",
       "\n",
       "mpl.figure.prototype.handle_resize = function(fig, msg) {\n",
       "    var size = msg['size'];\n",
       "    if (size[0] != fig.canvas.width || size[1] != fig.canvas.height) {\n",
       "        fig._resize_canvas(size[0], size[1]);\n",
       "        fig.send_message(\"refresh\", {});\n",
       "    };\n",
       "}\n",
       "\n",
       "mpl.figure.prototype.handle_rubberband = function(fig, msg) {\n",
       "    var x0 = msg['x0'];\n",
       "    var y0 = fig.canvas.height - msg['y0'];\n",
       "    var x1 = msg['x1'];\n",
       "    var y1 = fig.canvas.height - msg['y1'];\n",
       "    x0 = Math.floor(x0) + 0.5;\n",
       "    y0 = Math.floor(y0) + 0.5;\n",
       "    x1 = Math.floor(x1) + 0.5;\n",
       "    y1 = Math.floor(y1) + 0.5;\n",
       "    var min_x = Math.min(x0, x1);\n",
       "    var min_y = Math.min(y0, y1);\n",
       "    var width = Math.abs(x1 - x0);\n",
       "    var height = Math.abs(y1 - y0);\n",
       "\n",
       "    fig.rubberband_context.clearRect(\n",
       "        0, 0, fig.canvas.width, fig.canvas.height);\n",
       "\n",
       "    fig.rubberband_context.strokeRect(min_x, min_y, width, height);\n",
       "}\n",
       "\n",
       "mpl.figure.prototype.handle_figure_label = function(fig, msg) {\n",
       "    // Updates the figure title.\n",
       "    fig.header.textContent = msg['label'];\n",
       "}\n",
       "\n",
       "mpl.figure.prototype.handle_cursor = function(fig, msg) {\n",
       "    var cursor = msg['cursor'];\n",
       "    switch(cursor)\n",
       "    {\n",
       "    case 0:\n",
       "        cursor = 'pointer';\n",
       "        break;\n",
       "    case 1:\n",
       "        cursor = 'default';\n",
       "        break;\n",
       "    case 2:\n",
       "        cursor = 'crosshair';\n",
       "        break;\n",
       "    case 3:\n",
       "        cursor = 'move';\n",
       "        break;\n",
       "    }\n",
       "    fig.rubberband_canvas.style.cursor = cursor;\n",
       "}\n",
       "\n",
       "mpl.figure.prototype.handle_message = function(fig, msg) {\n",
       "    fig.message.textContent = msg['message'];\n",
       "}\n",
       "\n",
       "mpl.figure.prototype.handle_draw = function(fig, msg) {\n",
       "    // Request the server to send over a new figure.\n",
       "    fig.send_draw_message();\n",
       "}\n",
       "\n",
       "mpl.figure.prototype.handle_image_mode = function(fig, msg) {\n",
       "    fig.image_mode = msg['mode'];\n",
       "}\n",
       "\n",
       "mpl.figure.prototype.updated_canvas_event = function() {\n",
       "    // Called whenever the canvas gets updated.\n",
       "    this.send_message(\"ack\", {});\n",
       "}\n",
       "\n",
       "// A function to construct a web socket function for onmessage handling.\n",
       "// Called in the figure constructor.\n",
       "mpl.figure.prototype._make_on_message_function = function(fig) {\n",
       "    return function socket_on_message(evt) {\n",
       "        if (evt.data instanceof Blob) {\n",
       "            /* FIXME: We get \"Resource interpreted as Image but\n",
       "             * transferred with MIME type text/plain:\" errors on\n",
       "             * Chrome.  But how to set the MIME type?  It doesn't seem\n",
       "             * to be part of the websocket stream */\n",
       "            evt.data.type = \"image/png\";\n",
       "\n",
       "            /* Free the memory for the previous frames */\n",
       "            if (fig.imageObj.src) {\n",
       "                (window.URL || window.webkitURL).revokeObjectURL(\n",
       "                    fig.imageObj.src);\n",
       "            }\n",
       "\n",
       "            fig.imageObj.src = (window.URL || window.webkitURL).createObjectURL(\n",
       "                evt.data);\n",
       "            fig.updated_canvas_event();\n",
       "            fig.waiting = false;\n",
       "            return;\n",
       "        }\n",
       "        else if (typeof evt.data === 'string' && evt.data.slice(0, 21) == \"data:image/png;base64\") {\n",
       "            fig.imageObj.src = evt.data;\n",
       "            fig.updated_canvas_event();\n",
       "            fig.waiting = false;\n",
       "            return;\n",
       "        }\n",
       "\n",
       "        var msg = JSON.parse(evt.data);\n",
       "        var msg_type = msg['type'];\n",
       "\n",
       "        // Call the  \"handle_{type}\" callback, which takes\n",
       "        // the figure and JSON message as its only arguments.\n",
       "        try {\n",
       "            var callback = fig[\"handle_\" + msg_type];\n",
       "        } catch (e) {\n",
       "            console.log(\"No handler for the '\" + msg_type + \"' message type: \", msg);\n",
       "            return;\n",
       "        }\n",
       "\n",
       "        if (callback) {\n",
       "            try {\n",
       "                // console.log(\"Handling '\" + msg_type + \"' message: \", msg);\n",
       "                callback(fig, msg);\n",
       "            } catch (e) {\n",
       "                console.log(\"Exception inside the 'handler_\" + msg_type + \"' callback:\", e, e.stack, msg);\n",
       "            }\n",
       "        }\n",
       "    };\n",
       "}\n",
       "\n",
       "// from http://stackoverflow.com/questions/1114465/getting-mouse-location-in-canvas\n",
       "mpl.findpos = function(e) {\n",
       "    //this section is from http://www.quirksmode.org/js/events_properties.html\n",
       "    var targ;\n",
       "    if (!e)\n",
       "        e = window.event;\n",
       "    if (e.target)\n",
       "        targ = e.target;\n",
       "    else if (e.srcElement)\n",
       "        targ = e.srcElement;\n",
       "    if (targ.nodeType == 3) // defeat Safari bug\n",
       "        targ = targ.parentNode;\n",
       "\n",
       "    // jQuery normalizes the pageX and pageY\n",
       "    // pageX,Y are the mouse positions relative to the document\n",
       "    // offset() returns the position of the element relative to the document\n",
       "    var x = e.pageX - $(targ).offset().left;\n",
       "    var y = e.pageY - $(targ).offset().top;\n",
       "\n",
       "    return {\"x\": x, \"y\": y};\n",
       "};\n",
       "\n",
       "/*\n",
       " * return a copy of an object with only non-object keys\n",
       " * we need this to avoid circular references\n",
       " * http://stackoverflow.com/a/24161582/3208463\n",
       " */\n",
       "function simpleKeys (original) {\n",
       "  return Object.keys(original).reduce(function (obj, key) {\n",
       "    if (typeof original[key] !== 'object')\n",
       "        obj[key] = original[key]\n",
       "    return obj;\n",
       "  }, {});\n",
       "}\n",
       "\n",
       "mpl.figure.prototype.mouse_event = function(event, name) {\n",
       "    var canvas_pos = mpl.findpos(event)\n",
       "\n",
       "    if (name === 'button_press')\n",
       "    {\n",
       "        this.canvas.focus();\n",
       "        this.canvas_div.focus();\n",
       "    }\n",
       "\n",
       "    var x = canvas_pos.x;\n",
       "    var y = canvas_pos.y;\n",
       "\n",
       "    this.send_message(name, {x: x, y: y, button: event.button,\n",
       "                             step: event.step,\n",
       "                             guiEvent: simpleKeys(event)});\n",
       "\n",
       "    /* This prevents the web browser from automatically changing to\n",
       "     * the text insertion cursor when the button is pressed.  We want\n",
       "     * to control all of the cursor setting manually through the\n",
       "     * 'cursor' event from matplotlib */\n",
       "    event.preventDefault();\n",
       "    return false;\n",
       "}\n",
       "\n",
       "mpl.figure.prototype._key_event_extra = function(event, name) {\n",
       "    // Handle any extra behaviour associated with a key event\n",
       "}\n",
       "\n",
       "mpl.figure.prototype.key_event = function(event, name) {\n",
       "\n",
       "    // Prevent repeat events\n",
       "    if (name == 'key_press')\n",
       "    {\n",
       "        if (event.which === this._key)\n",
       "            return;\n",
       "        else\n",
       "            this._key = event.which;\n",
       "    }\n",
       "    if (name == 'key_release')\n",
       "        this._key = null;\n",
       "\n",
       "    var value = '';\n",
       "    if (event.ctrlKey && event.which != 17)\n",
       "        value += \"ctrl+\";\n",
       "    if (event.altKey && event.which != 18)\n",
       "        value += \"alt+\";\n",
       "    if (event.shiftKey && event.which != 16)\n",
       "        value += \"shift+\";\n",
       "\n",
       "    value += 'k';\n",
       "    value += event.which.toString();\n",
       "\n",
       "    this._key_event_extra(event, name);\n",
       "\n",
       "    this.send_message(name, {key: value,\n",
       "                             guiEvent: simpleKeys(event)});\n",
       "    return false;\n",
       "}\n",
       "\n",
       "mpl.figure.prototype.toolbar_button_onclick = function(name) {\n",
       "    if (name == 'download') {\n",
       "        this.handle_save(this, null);\n",
       "    } else {\n",
       "        this.send_message(\"toolbar_button\", {name: name});\n",
       "    }\n",
       "};\n",
       "\n",
       "mpl.figure.prototype.toolbar_button_onmouseover = function(tooltip) {\n",
       "    this.message.textContent = tooltip;\n",
       "};\n",
       "mpl.toolbar_items = [[\"Home\", \"Reset original view\", \"fa fa-home icon-home\", \"home\"], [\"Back\", \"Back to  previous view\", \"fa fa-arrow-left icon-arrow-left\", \"back\"], [\"Forward\", \"Forward to next view\", \"fa fa-arrow-right icon-arrow-right\", \"forward\"], [\"\", \"\", \"\", \"\"], [\"Pan\", \"Pan axes with left mouse, zoom with right\", \"fa fa-arrows icon-move\", \"pan\"], [\"Zoom\", \"Zoom to rectangle\", \"fa fa-square-o icon-check-empty\", \"zoom\"], [\"\", \"\", \"\", \"\"], [\"Download\", \"Download plot\", \"fa fa-floppy-o icon-save\", \"download\"]];\n",
       "\n",
       "mpl.extensions = [\"eps\", \"pdf\", \"png\", \"ps\", \"raw\", \"svg\"];\n",
       "\n",
       "mpl.default_extension = \"png\";var comm_websocket_adapter = function(comm) {\n",
       "    // Create a \"websocket\"-like object which calls the given IPython comm\n",
       "    // object with the appropriate methods. Currently this is a non binary\n",
       "    // socket, so there is still some room for performance tuning.\n",
       "    var ws = {};\n",
       "\n",
       "    ws.close = function() {\n",
       "        comm.close()\n",
       "    };\n",
       "    ws.send = function(m) {\n",
       "        //console.log('sending', m);\n",
       "        comm.send(m);\n",
       "    };\n",
       "    // Register the callback with on_msg.\n",
       "    comm.on_msg(function(msg) {\n",
       "        //console.log('receiving', msg['content']['data'], msg);\n",
       "        // Pass the mpl event to the overriden (by mpl) onmessage function.\n",
       "        ws.onmessage(msg['content']['data'])\n",
       "    });\n",
       "    return ws;\n",
       "}\n",
       "\n",
       "mpl.mpl_figure_comm = function(comm, msg) {\n",
       "    // This is the function which gets called when the mpl process\n",
       "    // starts-up an IPython Comm through the \"matplotlib\" channel.\n",
       "\n",
       "    var id = msg.content.data.id;\n",
       "    // Get hold of the div created by the display call when the Comm\n",
       "    // socket was opened in Python.\n",
       "    var element = $(\"#\" + id);\n",
       "    var ws_proxy = comm_websocket_adapter(comm)\n",
       "\n",
       "    function ondownload(figure, format) {\n",
       "        window.open(figure.imageObj.src);\n",
       "    }\n",
       "\n",
       "    var fig = new mpl.figure(id, ws_proxy,\n",
       "                           ondownload,\n",
       "                           element.get(0));\n",
       "\n",
       "    // Call onopen now - mpl needs it, as it is assuming we've passed it a real\n",
       "    // web socket which is closed, not our websocket->open comm proxy.\n",
       "    ws_proxy.onopen();\n",
       "\n",
       "    fig.parent_element = element.get(0);\n",
       "    fig.cell_info = mpl.find_output_cell(\"<div id='\" + id + \"'></div>\");\n",
       "    if (!fig.cell_info) {\n",
       "        console.error(\"Failed to find cell for figure\", id, fig);\n",
       "        return;\n",
       "    }\n",
       "\n",
       "    var output_index = fig.cell_info[2]\n",
       "    var cell = fig.cell_info[0];\n",
       "\n",
       "};\n",
       "\n",
       "mpl.figure.prototype.handle_close = function(fig, msg) {\n",
       "    fig.root.unbind('remove')\n",
       "\n",
       "    // Update the output cell to use the data from the current canvas.\n",
       "    fig.push_to_output();\n",
       "    var dataURL = fig.canvas.toDataURL();\n",
       "    // Re-enable the keyboard manager in IPython - without this line, in FF,\n",
       "    // the notebook keyboard shortcuts fail.\n",
       "    IPython.keyboard_manager.enable()\n",
       "    $(fig.parent_element).html('<img src=\"' + dataURL + '\">');\n",
       "    fig.close_ws(fig, msg);\n",
       "}\n",
       "\n",
       "mpl.figure.prototype.close_ws = function(fig, msg){\n",
       "    fig.send_message('closing', msg);\n",
       "    // fig.ws.close()\n",
       "}\n",
       "\n",
       "mpl.figure.prototype.push_to_output = function(remove_interactive) {\n",
       "    // Turn the data on the canvas into data in the output cell.\n",
       "    var dataURL = this.canvas.toDataURL();\n",
       "    this.cell_info[1]['text/html'] = '<img src=\"' + dataURL + '\">';\n",
       "}\n",
       "\n",
       "mpl.figure.prototype.updated_canvas_event = function() {\n",
       "    // Tell IPython that the notebook contents must change.\n",
       "    IPython.notebook.set_dirty(true);\n",
       "    this.send_message(\"ack\", {});\n",
       "    var fig = this;\n",
       "    // Wait a second, then push the new image to the DOM so\n",
       "    // that it is saved nicely (might be nice to debounce this).\n",
       "    setTimeout(function () { fig.push_to_output() }, 1000);\n",
       "}\n",
       "\n",
       "mpl.figure.prototype._init_toolbar = function() {\n",
       "    var fig = this;\n",
       "\n",
       "    var nav_element = $('<div/>')\n",
       "    nav_element.attr('style', 'width: 100%');\n",
       "    this.root.append(nav_element);\n",
       "\n",
       "    // Define a callback function for later on.\n",
       "    function toolbar_event(event) {\n",
       "        return fig.toolbar_button_onclick(event['data']);\n",
       "    }\n",
       "    function toolbar_mouse_event(event) {\n",
       "        return fig.toolbar_button_onmouseover(event['data']);\n",
       "    }\n",
       "\n",
       "    for(var toolbar_ind in mpl.toolbar_items){\n",
       "        var name = mpl.toolbar_items[toolbar_ind][0];\n",
       "        var tooltip = mpl.toolbar_items[toolbar_ind][1];\n",
       "        var image = mpl.toolbar_items[toolbar_ind][2];\n",
       "        var method_name = mpl.toolbar_items[toolbar_ind][3];\n",
       "\n",
       "        if (!name) { continue; };\n",
       "\n",
       "        var button = $('<button class=\"btn btn-default\" href=\"#\" title=\"' + name + '\"><i class=\"fa ' + image + ' fa-lg\"></i></button>');\n",
       "        button.click(method_name, toolbar_event);\n",
       "        button.mouseover(tooltip, toolbar_mouse_event);\n",
       "        nav_element.append(button);\n",
       "    }\n",
       "\n",
       "    // Add the status bar.\n",
       "    var status_bar = $('<span class=\"mpl-message\" style=\"text-align:right; float: right;\"/>');\n",
       "    nav_element.append(status_bar);\n",
       "    this.message = status_bar[0];\n",
       "\n",
       "    // Add the close button to the window.\n",
       "    var buttongrp = $('<div class=\"btn-group inline pull-right\"></div>');\n",
       "    var button = $('<button class=\"btn btn-mini btn-primary\" href=\"#\" title=\"Stop Interaction\"><i class=\"fa fa-power-off icon-remove icon-large\"></i></button>');\n",
       "    button.click(function (evt) { fig.handle_close(fig, {}); } );\n",
       "    button.mouseover('Stop Interaction', toolbar_mouse_event);\n",
       "    buttongrp.append(button);\n",
       "    var titlebar = this.root.find($('.ui-dialog-titlebar'));\n",
       "    titlebar.prepend(buttongrp);\n",
       "}\n",
       "\n",
       "mpl.figure.prototype._root_extra_style = function(el){\n",
       "    var fig = this\n",
       "    el.on(\"remove\", function(){\n",
       "\tfig.close_ws(fig, {});\n",
       "    });\n",
       "}\n",
       "\n",
       "mpl.figure.prototype._canvas_extra_style = function(el){\n",
       "    // this is important to make the div 'focusable\n",
       "    el.attr('tabindex', 0)\n",
       "    // reach out to IPython and tell the keyboard manager to turn it's self\n",
       "    // off when our div gets focus\n",
       "\n",
       "    // location in version 3\n",
       "    if (IPython.notebook.keyboard_manager) {\n",
       "        IPython.notebook.keyboard_manager.register_events(el);\n",
       "    }\n",
       "    else {\n",
       "        // location in version 2\n",
       "        IPython.keyboard_manager.register_events(el);\n",
       "    }\n",
       "\n",
       "}\n",
       "\n",
       "mpl.figure.prototype._key_event_extra = function(event, name) {\n",
       "    var manager = IPython.notebook.keyboard_manager;\n",
       "    if (!manager)\n",
       "        manager = IPython.keyboard_manager;\n",
       "\n",
       "    // Check for shift+enter\n",
       "    if (event.shiftKey && event.which == 13) {\n",
       "        this.canvas_div.blur();\n",
       "        event.shiftKey = false;\n",
       "        // Send a \"J\" for go to next cell\n",
       "        event.which = 74;\n",
       "        event.keyCode = 74;\n",
       "        manager.command_mode();\n",
       "        manager.handle_keydown(event);\n",
       "    }\n",
       "}\n",
       "\n",
       "mpl.figure.prototype.handle_save = function(fig, msg) {\n",
       "    fig.ondownload(fig, null);\n",
       "}\n",
       "\n",
       "\n",
       "mpl.find_output_cell = function(html_output) {\n",
       "    // Return the cell and output element which can be found *uniquely* in the notebook.\n",
       "    // Note - this is a bit hacky, but it is done because the \"notebook_saving.Notebook\"\n",
       "    // IPython event is triggered only after the cells have been serialised, which for\n",
       "    // our purposes (turning an active figure into a static one), is too late.\n",
       "    var cells = IPython.notebook.get_cells();\n",
       "    var ncells = cells.length;\n",
       "    for (var i=0; i<ncells; i++) {\n",
       "        var cell = cells[i];\n",
       "        if (cell.cell_type === 'code'){\n",
       "            for (var j=0; j<cell.output_area.outputs.length; j++) {\n",
       "                var data = cell.output_area.outputs[j];\n",
       "                if (data.data) {\n",
       "                    // IPython >= 3 moved mimebundle to data attribute of output\n",
       "                    data = data.data;\n",
       "                }\n",
       "                if (data['text/html'] == html_output) {\n",
       "                    return [cell, data, j];\n",
       "                }\n",
       "            }\n",
       "        }\n",
       "    }\n",
       "}\n",
       "\n",
       "// Register the function which deals with the matplotlib target/channel.\n",
       "// The kernel may be null if the page has been refreshed.\n",
       "if (IPython.notebook.kernel != null) {\n",
       "    IPython.notebook.kernel.comm_manager.register_target('matplotlib', mpl.mpl_figure_comm);\n",
       "}\n"
      ],
      "text/plain": [
       "<IPython.core.display.Javascript object>"
      ]
     },
     "metadata": {},
     "output_type": "display_data"
    },
    {
     "data": {
      "text/html": [
       "<img src=\"data:image/png;base64,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\">"
      ],
      "text/plain": [
       "<IPython.core.display.HTML object>"
      ]
     },
     "metadata": {},
     "output_type": "display_data"
    },
    {
     "data": {
      "text/plain": [
       "[<matplotlib.lines.Line2D at 0x7fbef6aed150>]"
      ]
     },
     "execution_count": 14,
     "metadata": {},
     "output_type": "execute_result"
    }
   ],
   "source": [
    "# check beam energy profile\n",
    "import histogram.hdf as hh\n",
    "ie = hh.load(\"beam/out/ienergy.h5\")\n",
    "plt.plot(ie.energy, ie.I)"
   ]
  },
  {
   "cell_type": "markdown",
   "metadata": {},
   "source": [
    "## Step 3. Check and update sample assembly"
   ]
  },
  {
   "cell_type": "code",
   "execution_count": 53,
   "metadata": {
    "collapsed": false
   },
   "outputs": [
    {
     "name": "stdout",
     "output_type": "stream",
     "text": [
      "/SNS/users/lj7/simulations/ARCS/Si/08042016/resolution-tutorial\n"
     ]
    }
   ],
   "source": [
    "%cd {workdir}"
   ]
  },
  {
   "cell_type": "code",
   "execution_count": 20,
   "metadata": {
    "collapsed": false
   },
   "outputs": [],
   "source": [
    "#!cat {workdir}/sampleassembly/sampleassembly.xml"
   ]
  },
  {
   "cell_type": "code",
   "execution_count": 21,
   "metadata": {
    "collapsed": false
   },
   "outputs": [],
   "source": [
    "#!cat {workdir}/sampleassembly/Si.xyz"
   ]
  },
  {
   "cell_type": "code",
   "execution_count": 22,
   "metadata": {
    "collapsed": false
   },
   "outputs": [],
   "source": [
    "#!cat {workdir}/sampleassembly/Si-scatterer.xml"
   ]
  },
  {
   "cell_type": "code",
   "execution_count": null,
   "metadata": {
    "collapsed": true
   },
   "outputs": [],
   "source": [
    "# Change kernel weights"
   ]
  },
  {
   "cell_type": "code",
   "execution_count": 54,
   "metadata": {
    "collapsed": false
   },
   "outputs": [
    {
     "name": "stdout",
     "output_type": "stream",
     "text": [
      "Overwriting /SNS/users/lj7/simulations/ARCS/Si/08042016/resolution-tutorial/sampleassembly/Si-scatterer.xml\n"
     ]
    }
   ],
   "source": [
    "%%file {workdir}/sampleassembly/Si-scatterer.xml\n",
    "<?xml version=\"1.0\"?>\n",
    "\n",
    "<!DOCTYPE scatterer>\n",
    "\n",
    "<!-- weights: absorption, scattering, transmission -->\n",
    "<homogeneous_scatterer \n",
    "  mcweights=\"0, 1, 0.1\"\n",
    "  max_multiplescattering_loops=\"3\"\n",
    "  >\n",
    "  \n",
    "  <KernelContainer average=\"yes\">\n",
    "\n",
    "\n",
    "    <!-- a simple kernel for elastic scattering. more realistic kernel exists. -->\n",
    "    <E_Q_Kernel \n",
    "\tE_Q=\"1\" \n",
    "\tS_Q=\"1\"\n",
    "\tQmin=\"0./angstrom\"\n",
    "\tQmax=\"16./angstrom\"\n",
    "    weight=\".05\"\n",
    "\t/>\n",
    "\n",
    "\n",
    "    <!-- delta function kernel for resolution calculation\n",
    "      Q: Q vector\n",
    "      E: energy transfer (unit: meV)\n",
    "      dE: allowed deviation of energy transfer (unit: meV)\n",
    "      orientation: flattened rotation matrix M. M dot Q_crystal = Q_instrument\n",
    "     -->\n",
    "    <ConstantvQEKernel\n",
    "        momentum-transfer=\"-6.1031055035,-3.05155275175,3.05155275175\"\n",
    "        energy-transfer=\"40.0*meV\"\n",
    "        dE=\"0.1*meV\"\n",
    "        orientation=\"0.816496580928,0.408248290464,-0.408248290464,0.0,-0.707106781187,-0.707106781187,-0.57735026919,0.57735026919,-0.57735026919\"\n",
    "        weight=\"1.0\"\n",
    "        />\n",
    "\n",
    "    \n",
    "  </KernelContainer>\n",
    "  \n",
    "</homogeneous_scatterer>"
   ]
  },
  {
   "cell_type": "code",
   "execution_count": 24,
   "metadata": {
    "collapsed": false
   },
   "outputs": [
    {
     "name": "stdout",
     "output_type": "stream",
     "text": [
      "total 20\r\n",
      "lrwxrwxrwx 1 lj7 users  43 Aug  6 13:07 \u001b[0m\u001b[01;36mbeam\u001b[0m -> \u001b[01;34m/SNS/users/lj7/simulations/ARCS/beam/100meV\u001b[0m/\r\n",
      "-rw-r--r-- 1 lj7 users  73 Jul 27 13:01 README.md\r\n",
      "drwxr-xr-x 1 lj7 users  83 Aug  6 13:07 \u001b[01;34msampleassembly\u001b[0m/\r\n",
      "drwxr-xr-x 1 lj7 users  47 Jul 28 17:36 \u001b[01;34mscattering\u001b[0m/\r\n",
      "-rw-r--r-- 1 lj7 users 554 Aug  6 13:06 Si.yml\r\n"
     ]
    }
   ],
   "source": [
    "ls -l"
   ]
  },
  {
   "cell_type": "code",
   "execution_count": 25,
   "metadata": {
    "collapsed": false
   },
   "outputs": [
    {
     "name": "stdout",
     "output_type": "stream",
     "text": [
      "total 12\r\n",
      "-rw-r--r-- 1 lj7 users  720 Aug  6 13:07 sampleassembly.xml\r\n",
      "-rw-r--r-- 1 lj7 users 1054 Aug  6 13:14 Si-scatterer.xml\r\n",
      "-rw-r--r-- 1 lj7 users  116 Aug  6 13:07 Si.xyz\r\n"
     ]
    }
   ],
   "source": [
    "ls -l sampleassembly/"
   ]
  },
  {
   "cell_type": "markdown",
   "metadata": {},
   "source": [
    "## Step 4. Scattering sim"
   ]
  },
  {
   "cell_type": "code",
   "execution_count": 56,
   "metadata": {
    "collapsed": false
   },
   "outputs": [
    {
     "name": "stdout",
     "output_type": "stream",
     "text": [
      "/SNS/users/lj7/simulations/ARCS/Si/08042016/resolution-tutorial/scattering\n"
     ]
    }
   ],
   "source": [
    "%cd \"{workdir}/scattering\""
   ]
  },
  {
   "cell_type": "code",
   "execution_count": 27,
   "metadata": {
    "collapsed": false
   },
   "outputs": [
    {
     "name": "stdout",
     "output_type": "stream",
     "text": [
      "\u001b[0m\u001b[01;34mscripts\u001b[0m/  \u001b[01;34mtemplate\u001b[0m/\r\n"
     ]
    }
   ],
   "source": [
    "ls ."
   ]
  },
  {
   "cell_type": "code",
   "execution_count": 28,
   "metadata": {
    "collapsed": true
   },
   "outputs": [],
   "source": [
    "# configuration for the simulation deployment"
   ]
  },
  {
   "cell_type": "code",
   "execution_count": 57,
   "metadata": {
    "collapsed": false
   },
   "outputs": [
    {
     "name": "stdout",
     "output_type": "stream",
     "text": [
      "Overwriting sim.yml\n"
     ]
    }
   ],
   "source": [
    "%%file sim.yml\n",
    "\n",
    "cluster:\n",
    "  nodes: 20\n",
    "instrument:\n",
    "  name: arcs\n",
    "scatter:\n",
    "  ncount: 1e7\n",
    "  multiple_scattering: off\n",
    "  template: ./template"
   ]
  },
  {
   "cell_type": "code",
   "execution_count": 32,
   "metadata": {
    "collapsed": false
   },
   "outputs": [
    {
     "name": "stdout",
     "output_type": "stream",
     "text": [
      "46.3746789211\r\n"
     ]
    }
   ],
   "source": [
    "# find the psi angle\n",
    "!mcvine workflow sxu solve_psi {workdir}/Si.yml --Ei=100 \\\n",
    "    --hkl -5.333333333 -2.666666667 2.666666667 \\\n",
    "    --E 40 --psimin -5. --psimax 90 2> /dev/null"
   ]
  },
  {
   "cell_type": "code",
   "execution_count": 30,
   "metadata": {
    "collapsed": true
   },
   "outputs": [],
   "source": [
    "# run simulation for one angle to verify it is working"
   ]
  },
  {
   "cell_type": "code",
   "execution_count": 83,
   "metadata": {
    "collapsed": false,
    "scrolled": true
   },
   "outputs": [
    {
     "name": "stdout",
     "output_type": "stream",
     "text": [
      "make: *** [sim.nxs] Error 1\n",
      "make: *** [sim.nxs] Error 1\n",
      "make: *** [sim.nxs] Error 1\n",
      "make: *** [sim.nxs] Error 1\n"
     ]
    }
   ],
   "source": [
    "! ./scripts/sim.py --angles=\"arange(43,50.1,0.1)\" > log.sim"
   ]
  },
  {
   "cell_type": "code",
   "execution_count": 88,
   "metadata": {
    "collapsed": false
   },
   "outputs": [
    {
     "data": {
      "text/plain": [
       "u'/SNS/users/lj7/simulations/ARCS/Si/08042016/resolution-tutorial/scattering'"
      ]
     },
     "execution_count": 88,
     "metadata": {},
     "output_type": "execute_result"
    }
   ],
   "source": [
    "pwd"
   ]
  },
  {
   "cell_type": "code",
   "execution_count": 89,
   "metadata": {
    "collapsed": true
   },
   "outputs": [],
   "source": [
    "# 4 sim failed. rerun them\n",
    "! ./scripts/sim.py --angles=\"arange(43,50.1,0.1)\" > log.sim.2"
   ]
  },
  {
   "cell_type": "markdown",
   "metadata": {},
   "source": [
    "## Step 5. Reduction"
   ]
  },
  {
   "cell_type": "code",
   "execution_count": 34,
   "metadata": {
    "collapsed": false
   },
   "outputs": [
    {
     "name": "stdout",
     "output_type": "stream",
     "text": [
      "/SNS/users/lj7/simulations/ARCS/Si/08042016/resolution-tutorial/scattering\n"
     ]
    }
   ],
   "source": [
    "%cd \"{workdir}/scattering\""
   ]
  },
  {
   "cell_type": "markdown",
   "metadata": {},
   "source": [
    "First we reduce event-mode nexus data for each angle using Mantid"
   ]
  },
  {
   "cell_type": "code",
   "execution_count": 90,
   "metadata": {
    "collapsed": false
   },
   "outputs": [
    {
     "name": "stdout",
     "output_type": "stream",
     "text": [
      "/home/lj7/miniconda2/envs/dev-mcvine/lib/python2.7/site-packages/mantid/kernel/__init__.py:14: RuntimeWarning: to-Python converter for std::vector<int, std::allocator<int> > already registered; second conversion method ignored.\n",
      "  from ._kernel import *\n",
      "/home/lj7/miniconda2/envs/dev-mcvine/lib/python2.7/site-packages/mantid/kernel/__init__.py:14: RuntimeWarning: to-Python converter for std::vector<double, std::allocator<double> > already registered; second conversion method ignored.\n",
      "  from ._kernel import *\n",
      "10427.65user 712.00system 23:30.99elapsed 789%CPU (0avgtext+0avgdata 12879680maxresident)k\n",
      "8796536inputs+3424outputs (0major+83827838minor)pagefaults 0swaps\n"
     ]
    }
   ],
   "source": [
    "# reduce tof events to E events\n",
    "!time mcvine workflow sxr reduce --type batch \\\n",
    "    --eaxis -5 75 0.5 --psi-axis 43 50.1 0.1 --eiguess 100 \\\n",
    "    --eventnxs work_%s/sim_%s.nxs --out reduced_%s.nxs\\\n",
    "    > log.reduce"
   ]
  },
  {
   "cell_type": "code",
   "execution_count": 91,
   "metadata": {
    "collapsed": false
   },
   "outputs": [],
   "source": [
    "# create configuration file for getting a slice"
   ]
  },
  {
   "cell_type": "code",
   "execution_count": 92,
   "metadata": {
    "collapsed": false
   },
   "outputs": [
    {
     "name": "stdout",
     "output_type": "stream",
     "text": [
      "Overwriting slice_111.yml\n"
     ]
    }
   ],
   "source": [
    "%%file slice_111.yml\n",
    "Eaxis:\n",
    " min: 0\n",
    " max: 75\n",
    " N: 376\n",
    "Q_projections:\n",
    " U:\n",
    "  proj: -1,1,-1\n",
    "  proj_name: -H,H,-H\n",
    "  min: -6\n",
    "  max: 6\n",
    "  N: 481\n",
    " V:\n",
    "  proj: 1,.5,-.5\n",
    "  proj_name: H,0.5H,-0.5H\n",
    "  min: -5.45\n",
    "  max: -5.15\n",
    "  N: 1\n",
    " W:\n",
    "  proj: 0,-1,-1\n",
    "  proj_name: 0,-K,-K\n",
    "  min: -0.3\n",
    "  max: 0.3\n",
    "  N: 1"
   ]
  },
  {
   "cell_type": "code",
   "execution_count": 93,
   "metadata": {
    "collapsed": false
   },
   "outputs": [
    {
     "name": "stdout",
     "output_type": "stream",
     "text": [
      "/home/lj7/miniconda2/envs/dev-mcvine/lib/python2.7/site-packages/mantid/kernel/__init__.py:14: RuntimeWarning: to-Python converter for std::vector<int, std::allocator<int> > already registered; second conversion method ignored.\n",
      "  from ._kernel import *\n",
      "/home/lj7/miniconda2/envs/dev-mcvine/lib/python2.7/site-packages/mantid/kernel/__init__.py:14: RuntimeWarning: to-Python converter for std::vector<double, std::allocator<double> > already registered; second conversion method ignored.\n",
      "  from ._kernel import *\n",
      "1042.22user 811.48system 5:35.35elapsed 552%CPU (0avgtext+0avgdata 17088152maxresident)k\n",
      "16606488inputs+2152outputs (5major+20339331minor)pagefaults 0swaps\n"
     ]
    }
   ],
   "source": [
    "!time mcvine workflow sxr slice \\\n",
    "    --sample {workdir}/Si.yml \\\n",
    "    --psi-axis 43 50.1 0.1 \\\n",
    "    --nxs reduced_%s.nxs \\\n",
    "    --slice slice_111.yml \\\n",
    "    --out slice_111.nxs \\\n",
    "    > log.slice_111"
   ]
  },
  {
   "cell_type": "code",
   "execution_count": 79,
   "metadata": {
    "collapsed": false
   },
   "outputs": [
    {
     "name": "stdout",
     "output_type": "stream",
     "text": [
      "/home/lj7/miniconda2/envs/dev-mcvine/lib/python2.7/site-packages/mantid/kernel/__init__.py:14: RuntimeWarning: to-Python converter for std::vector<int, std::allocator<int> > already registered; second conversion method ignored.\n",
      "  from ._kernel import *\n",
      "/home/lj7/miniconda2/envs/dev-mcvine/lib/python2.7/site-packages/mantid/kernel/__init__.py:14: RuntimeWarning: to-Python converter for std::vector<double, std::allocator<double> > already registered; second conversion method ignored.\n",
      "  from ._kernel import *\n",
      "FrameworkManager-[Notice] Welcome to Mantid 3.7.20160804.1513\n",
      "FrameworkManager-[Notice] Please cite: http://dx.doi.org/10.1016/j.nima.2014.07.029 and this release: http://dx.doi.org/10.5286/Software/Mantid\n",
      "DownloadInstrument-[Notice] All instrument definitions up to date\n",
      "Load-[Notice] Load started\n",
      "Load-[Notice] Load successful, Duration 0.78 seconds\n"
     ]
    }
   ],
   "source": [
    "# convert slice nexus to slice histogram\n",
    "!mcvine workflow sxr slice2hist slice_111.nxs slice_111.h5"
   ]
  },
  {
   "cell_type": "code",
   "execution_count": 94,
   "metadata": {
    "collapsed": false
   },
   "outputs": [
    {
     "name": "stderr",
     "output_type": "stream",
     "text": [
      "/home/lj7/miniconda2/envs/dev-mcvine/lib/python2.7/site-packages/histogram/hdf/__init__.py:55: UserWarning: filename as url is deprecated\n",
      "  warnings.warn(\"filename as url is deprecated\")\n"
     ]
    },
    {
     "ename": "IOError",
     "evalue": "unable to load histogram. filename=., pathinfile=slice_111.h5, kwds={}",
     "output_type": "error",
     "traceback": [
      "\u001b[0;31m---------------------------------------------------------------------------\u001b[0m",
      "\u001b[0;31mIOError\u001b[0m                                   Traceback (most recent call last)",
      "\u001b[0;32m<ipython-input-94-8e4cf8fdd4a7>\u001b[0m in \u001b[0;36m<module>\u001b[0;34m()\u001b[0m\n\u001b[1;32m      1\u001b[0m \u001b[0;31m# plot\u001b[0m\u001b[0;34m\u001b[0m\u001b[0;34m\u001b[0m\u001b[0m\n\u001b[0;32m----> 2\u001b[0;31m \u001b[0mH\u001b[0m\u001b[0;34m.\u001b[0m\u001b[0mplot\u001b[0m\u001b[0;34m(\u001b[0m\u001b[0mhh\u001b[0m\u001b[0;34m.\u001b[0m\u001b[0mload\u001b[0m\u001b[0;34m(\u001b[0m\u001b[0;34m\"./slice_111.h5\"\u001b[0m\u001b[0;34m)\u001b[0m\u001b[0;34m[\u001b[0m\u001b[0;34m(\u001b[0m\u001b[0;34m-\u001b[0m\u001b[0;36m1\u001b[0m\u001b[0;34m,\u001b[0m\u001b[0;36m1\u001b[0m\u001b[0;34m)\u001b[0m\u001b[0;34m,\u001b[0m\u001b[0;34m(\u001b[0m\u001b[0;36m30\u001b[0m\u001b[0;34m,\u001b[0m\u001b[0;36m50\u001b[0m\u001b[0;34m)\u001b[0m\u001b[0;34m]\u001b[0m\u001b[0;34m,\u001b[0m \u001b[0mmin\u001b[0m\u001b[0;34m=\u001b[0m\u001b[0;36m0\u001b[0m\u001b[0;34m,\u001b[0m \u001b[0mmax\u001b[0m\u001b[0;34m=\u001b[0m\u001b[0;36m1e-6\u001b[0m\u001b[0;34m)\u001b[0m\u001b[0;34m\u001b[0m\u001b[0m\n\u001b[0m",
      "\u001b[0;32m/home/lj7/miniconda2/envs/dev-mcvine/lib/python2.7/site-packages/histogram/hdf/__init__.pyc\u001b[0m in \u001b[0;36mload\u001b[0;34m(filename, pathinfile, fs, **kwds)\u001b[0m\n\u001b[1;32m     66\u001b[0m         \u001b[0;32mexcept\u001b[0m \u001b[0mIOError\u001b[0m\u001b[0;34m,\u001b[0m \u001b[0mmsg\u001b[0m\u001b[0;34m:\u001b[0m\u001b[0;34m\u001b[0m\u001b[0m\n\u001b[1;32m     67\u001b[0m             \u001b[0;32mraise\u001b[0m \u001b[0mIOError\u001b[0m\u001b[0;34m,\u001b[0m \u001b[0;34m\"unable to load histogram. filename=%s, \"\u001b[0m\u001b[0;31m\\\u001b[0m\u001b[0;34m\u001b[0m\u001b[0m\n\u001b[0;32m---> 68\u001b[0;31m                 \u001b[0;34m\"pathinfile=%s, kwds=%s\"\u001b[0m \u001b[0;34m%\u001b[0m \u001b[0;34m(\u001b[0m\u001b[0mfilename\u001b[0m\u001b[0;34m,\u001b[0m \u001b[0mpathinfile\u001b[0m\u001b[0;34m,\u001b[0m \u001b[0mkwds\u001b[0m\u001b[0;34m)\u001b[0m\u001b[0;34m\u001b[0m\u001b[0m\n\u001b[0m\u001b[1;32m     69\u001b[0m     \u001b[0;32mfrom\u001b[0m \u001b[0mLoader\u001b[0m \u001b[0;32mimport\u001b[0m \u001b[0mLoader\u001b[0m\u001b[0;34m\u001b[0m\u001b[0m\n\u001b[1;32m     70\u001b[0m     \u001b[0mloader\u001b[0m \u001b[0;34m=\u001b[0m \u001b[0mLoader\u001b[0m\u001b[0;34m(\u001b[0m\u001b[0mfs\u001b[0m\u001b[0;34m,\u001b[0m \u001b[0mpathinfile\u001b[0m\u001b[0;34m)\u001b[0m\u001b[0;34m\u001b[0m\u001b[0m\n",
      "\u001b[0;31mIOError\u001b[0m: unable to load histogram. filename=., pathinfile=slice_111.h5, kwds={}"
     ]
    }
   ],
   "source": [
    "# plot\n",
    "H.plot(hh.load(\"./slice_111.h5\")[(-1,1),(30,50)], min=0, max=1e-6)"
   ]
  },
  {
   "cell_type": "markdown",
   "metadata": {},
   "source": [
    "### Comments\n",
    "This simulation has 2 degrees step size and was not run too long. Result is noisy. It was a quick simulation (~6hours). It is OK. We can run longer on different computing resources."
   ]
  },
  {
   "cell_type": "code",
   "execution_count": null,
   "metadata": {
    "collapsed": true
   },
   "outputs": [],
   "source": []
  }
 ],
 "metadata": {
  "kernelspec": {
   "display_name": "Python 2",
   "language": "python",
   "name": "python2"
  },
  "language_info": {
   "codemirror_mode": {
    "name": "ipython",
    "version": 2
   },
   "file_extension": ".py",
   "mimetype": "text/x-python",
   "name": "python",
   "nbconvert_exporter": "python",
   "pygments_lexer": "ipython2",
   "version": "2.7.12"
  }
 },
 "nbformat": 4,
 "nbformat_minor": 0
}
