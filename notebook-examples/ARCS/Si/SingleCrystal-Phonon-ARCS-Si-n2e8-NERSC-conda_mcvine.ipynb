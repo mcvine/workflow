{
 "cells": [
  {
   "cell_type": "markdown",
   "metadata": {},
   "source": [
    "# Simulation of Phonon Scattering in Single Crystal Silicon"
   ]
  },
  {
   "cell_type": "markdown",
   "metadata": {},
   "source": [
    "Instrument: ARCS\n",
    "* Ei=100meV\n",
    "* Fermi chopper: 600 Hz\n",
    "* T0: 120Hz\n",
    " \n",
    "Sample: silicon\n"
   ]
  },
  {
   "cell_type": "markdown",
   "metadata": {},
   "source": [
    "## Step 0. some goodies"
   ]
  },
  {
   "cell_type": "code",
   "execution_count": 1,
   "metadata": {
    "collapsed": false
   },
   "outputs": [
    {
     "name": "stderr",
     "output_type": "stream",
     "text": [
      "/home/lj7/miniconda2/envs/dev-mcvine/lib/python2.7/site-packages/matplotlib/font_manager.py:273: UserWarning: Matplotlib is building the font cache using fc-list. This may take a moment.\n",
      "  warnings.warn('Matplotlib is building the font cache using fc-list. This may take a moment.')\n"
     ]
    }
   ],
   "source": [
    "# %matplotlib notebook\n",
    "%matplotlib inline\n",
    "from matplotlib import pyplot as plt\n",
    "import numpy as np\n",
    "import histogram.hdf as hh, histogram as H"
   ]
  },
  {
   "cell_type": "code",
   "execution_count": 2,
   "metadata": {
    "collapsed": false
   },
   "outputs": [
    {
     "name": "stdout",
     "output_type": "stream",
     "text": [
      "/home/lj7/dv/mcvine/workflow/notebook-examples/ARCS/Si\n"
     ]
    }
   ],
   "source": [
    "# where am I?\n",
    "import os\n",
    "PWD=os.path.abspath(\".\")\n",
    "print PWD\n",
    "# It should be the directory where this jupyter notebook is"
   ]
  },
  {
   "cell_type": "markdown",
   "metadata": {},
   "source": [
    "## Step 1. Create dir structure"
   ]
  },
  {
   "cell_type": "code",
   "execution_count": 3,
   "metadata": {
    "collapsed": true
   },
   "outputs": [],
   "source": [
    "# Create a working directory for the simulation\n",
    "# Change the following line to your own directory!!!\n",
    "# This directory should not exist yet. It will be created later.\n",
    "workdir = \"/SNS/users/lj7/simulations/ARCS/Si/08042016/100K-nersc-edison-n2e8\""
   ]
  },
  {
   "cell_type": "code",
   "execution_count": 4,
   "metadata": {
    "collapsed": true
   },
   "outputs": [],
   "source": [
    "# Prepare sample description.\n",
    "# It will be used to generate files for the simulation\n",
    "# and will be used in reduction and analysis"
   ]
  },
  {
   "cell_type": "code",
   "execution_count": 5,
   "metadata": {
    "collapsed": false
   },
   "outputs": [
    {
     "name": "stdout",
     "output_type": "stream",
     "text": [
      "Writing Si.yml\n"
     ]
    }
   ],
   "source": [
    "%%file Si.yml\n",
    "name: Si\n",
    "chemical_formula: Si2\n",
    "lattice: \n",
    " constants: 5.490700041, 5.490700041, 5.490700041, 90, 90, 90\n",
    " basis_vectors:\n",
    "  - 5.490700041, 0, 0\n",
    "  - 0, 5.490700041, 0\n",
    "  - 0, 0, 5.490700041\n",
    " primitive_basis_vectors:\n",
    "  - 0.0, 2.71526503565, 2.71526503565\n",
    "  - 2.71526503565, 0.0, 2.71526503565\n",
    "  - 2.71526503565, 2.71526503565, 0.0\n",
    "excitations:\n",
    " - type: phonon\n",
    "   idf_dir: /SNS/users/linjiao/simulations/samples/Si/April2016-TSeries/100K-50cube\n",
    "orientation:\n",
    " u: -1, 1, -1\n",
    " v: 2, 1, -1\n",
    "shape: hollowCylinder in_radius=\"5./8*inch\" out_radius=\"1.*inch\" height=\"1.5*inch\"\n",
    "temperature: 100*K"
   ]
  },
  {
   "cell_type": "code",
   "execution_count": 6,
   "metadata": {
    "collapsed": true
   },
   "outputs": [],
   "source": [
    "# let mcvine workflow scaffolding helps you build the simulation directory"
   ]
  },
  {
   "cell_type": "code",
   "execution_count": 7,
   "metadata": {
    "collapsed": false
   },
   "outputs": [],
   "source": [
    "!mcvine workflow singlecrystal --outdir={workdir} --type=DGS \\\n",
    "    --instrument=ARCS --sample=Si.yml"
   ]
  },
  {
   "cell_type": "code",
   "execution_count": 61,
   "metadata": {
    "collapsed": false
   },
   "outputs": [
    {
     "name": "stdout",
     "output_type": "stream",
     "text": [
      "/SNS/users/lj7/simulations/ARCS/Si/08042016/100K-nersc-edison-n2e8\n"
     ]
    }
   ],
   "source": [
    "# change to local working directory\n",
    "%cd {workdir}"
   ]
  },
  {
   "cell_type": "code",
   "execution_count": 63,
   "metadata": {
    "collapsed": false
   },
   "outputs": [],
   "source": [
    "# list dir contents\n",
    "# !ls ."
   ]
  },
  {
   "cell_type": "code",
   "execution_count": 10,
   "metadata": {
    "collapsed": true
   },
   "outputs": [],
   "source": [
    "# move sample yml file here\n",
    "!mv {PWD}/Si.yml ."
   ]
  },
  {
   "cell_type": "code",
   "execution_count": 64,
   "metadata": {
    "collapsed": false
   },
   "outputs": [],
   "source": [
    "# !ls ."
   ]
  },
  {
   "cell_type": "markdown",
   "metadata": {},
   "source": [
    "## Step 2. Setup beam simulation"
   ]
  },
  {
   "cell_type": "code",
   "execution_count": 12,
   "metadata": {
    "collapsed": true
   },
   "outputs": [],
   "source": [
    "# In this example we won't simulate a new beam but will reuse an existing beam\n",
    "# First remove the beam dir\n",
    "# !!! Be very careful with rm -rf !!!\n",
    "!rm -rf beam\n",
    "# Then make a symlink\n",
    "!ln -s /SNS/users/lj7/simulations/ARCS/beam/100meV beam"
   ]
  },
  {
   "cell_type": "code",
   "execution_count": 13,
   "metadata": {
    "collapsed": false
   },
   "outputs": [
    {
     "name": "stdout",
     "output_type": "stream",
     "text": [
      "total 20\r\n",
      "lrwxrwxrwx 1 lj7 users  43 Aug  6 11:12 \u001b[0m\u001b[01;36mbeam\u001b[0m -> \u001b[01;34m/SNS/users/lj7/simulations/ARCS/beam/100meV\u001b[0m/\r\n",
      "-rw-r--r-- 1 lj7 users  73 Jul 27 13:01 README.md\r\n",
      "drwxr-xr-x 1 lj7 users  83 Aug  6 11:11 \u001b[01;34msampleassembly\u001b[0m/\r\n",
      "drwxr-xr-x 1 lj7 users  47 Jul 28 17:36 \u001b[01;34mscattering\u001b[0m/\r\n",
      "-rw-r--r-- 1 lj7 users 579 Aug  6 11:11 Si.yml\r\n"
     ]
    }
   ],
   "source": [
    "ls -l {workdir}"
   ]
  },
  {
   "cell_type": "code",
   "execution_count": 67,
   "metadata": {
    "collapsed": false
   },
   "outputs": [
    {
     "data": {
      "text/plain": [
       "[<matplotlib.lines.Line2D at 0x7f6fbe8fde10>]"
      ]
     },
     "execution_count": 67,
     "metadata": {},
     "output_type": "execute_result"
    },
    {
     "data": {
      "image/png": "[encoded data removed]",
      "text/plain": [
       "<matplotlib.figure.Figure at 0x7f6fc60a3850>"
      ]
     },
     "metadata": {},
     "output_type": "display_data"
    }
   ],
   "source": [
    "# check beam energy profile\n",
    "import histogram.hdf as hh\n",
    "ie = hh.load(\"beam/out/ienergy.h5\")\n",
    "plt.plot(ie.energy, ie.I)"
   ]
  },
  {
   "cell_type": "markdown",
   "metadata": {},
   "source": [
    "## Step 3. Check and update sample assembly"
   ]
  },
  {
   "cell_type": "code",
   "execution_count": 27,
   "metadata": {
    "collapsed": false
   },
   "outputs": [
    {
     "name": "stdout",
     "output_type": "stream",
     "text": [
      "/SNS/users/lj7/simulations/ARCS/Si/08042016/100K-nersc-edison-n5e8\n"
     ]
    }
   ],
   "source": [
    "%cd {workdir}"
   ]
  },
  {
   "cell_type": "markdown",
   "metadata": {},
   "source": [
    "** Different from the example in mcvine training material, here we are going to use an existing sample assembly **"
   ]
  },
  {
   "cell_type": "code",
   "execution_count": 16,
   "metadata": {
    "collapsed": true
   },
   "outputs": [],
   "source": [
    "# first move the existing sample assembly to a different name\n",
    "! mv sampleassembly/ sampleassembly-by-mcvine-scaffolding"
   ]
  },
  {
   "cell_type": "code",
   "execution_count": 17,
   "metadata": {
    "collapsed": true
   },
   "outputs": [],
   "source": [
    "# This is where the prebuilt sample assembly is\n",
    "sampleassembly_dir = \"/SNS/users/lj7/simulations/samples/Si/demo/100K\""
   ]
  },
  {
   "cell_type": "code",
   "execution_count": 18,
   "metadata": {
    "collapsed": false
   },
   "outputs": [
    {
     "name": "stdout",
     "output_type": "stream",
     "text": [
      "sending incremental file list\n",
      "created directory sampleassembly\n",
      "./\n",
      "Si-scatterer.xml\n",
      "Si.xyz\n",
      "sampleassembly.xml\n",
      "Si-phonons/\n",
      "Si-phonons/DOS\n",
      "Si-phonons/FORCE_CONSTANTS\n",
      "Si-phonons/Omega2\n",
      "Si-phonons/POSCAR\n",
      "Si-phonons/Polarizations\n",
      "Si-phonons/Qgridinfo\n",
      "Si-phonons/compute.py\n",
      "Si-phonons/dos-withbroadening.dat\n",
      "Si-phonons/run.sh\n",
      "\n",
      "sent 72,300,157 bytes  received 296 bytes  13,145,536.91 bytes/sec\n",
      "total size is 91,479,703  speedup is 1.27\n"
     ]
    }
   ],
   "source": [
    "# copy it to the working dir\n",
    "!rsync -avzL {sampleassembly_dir}/ sampleassembly/"
   ]
  },
  {
   "cell_type": "code",
   "execution_count": 19,
   "metadata": {
    "collapsed": false
   },
   "outputs": [
    {
     "name": "stdout",
     "output_type": "stream",
     "text": [
      "total 24\r\n",
      "lrwxrwxrwx 1 lj7 users  43 Aug  6 11:12 \u001b[0m\u001b[01;36mbeam\u001b[0m -> \u001b[01;34m/SNS/users/lj7/simulations/ARCS/beam/100meV\u001b[0m/\r\n",
      "-rw-r--r-- 1 lj7 users  73 Jul 27 13:01 README.md\r\n",
      "drwxr-xr-x 1 lj7 users 104 Aug  4 09:15 \u001b[01;34msampleassembly\u001b[0m/\r\n",
      "drwxr-xr-x 1 lj7 users  83 Aug  6 11:11 \u001b[01;34msampleassembly-by-mcvine-scaffolding\u001b[0m/\r\n",
      "drwxr-xr-x 1 lj7 users  47 Jul 28 17:36 \u001b[01;34mscattering\u001b[0m/\r\n",
      "-rw-r--r-- 1 lj7 users 579 Aug  6 11:11 Si.yml\r\n"
     ]
    }
   ],
   "source": [
    "ls -l"
   ]
  },
  {
   "cell_type": "code",
   "execution_count": 20,
   "metadata": {
    "collapsed": false
   },
   "outputs": [],
   "source": [
    "# check sample assembly files\n",
    "#! cat sampleassembly/Si-scatterer.xml\n",
    "#!cat sampleassembly/sampleassembly.xml"
   ]
  },
  {
   "cell_type": "markdown",
   "metadata": {},
   "source": [
    "## Step 4. Scattering sim"
   ]
  },
  {
   "cell_type": "code",
   "execution_count": 28,
   "metadata": {
    "collapsed": false
   },
   "outputs": [
    {
     "name": "stdout",
     "output_type": "stream",
     "text": [
      "/SNS/users/lj7/simulations/ARCS/Si/08042016/100K-nersc-edison-n5e8/scattering\n"
     ]
    }
   ],
   "source": [
    "%cd \"{workdir}/scattering\""
   ]
  },
  {
   "cell_type": "code",
   "execution_count": 29,
   "metadata": {
    "collapsed": false
   },
   "outputs": [
    {
     "name": "stdout",
     "output_type": "stream",
     "text": [
      "\u001b[0m\u001b[01;34mscripts\u001b[0m/  \u001b[01;34mtemplate\u001b[0m/\r\n"
     ]
    }
   ],
   "source": [
    "ls ."
   ]
  },
  {
   "cell_type": "markdown",
   "metadata": {},
   "source": [
    "### Step 4.1 Staging the simulation files"
   ]
  },
  {
   "cell_type": "code",
   "execution_count": 4,
   "metadata": {
    "collapsed": true
   },
   "outputs": [],
   "source": [
    "# We need both a local work dir and a remote workdir (at nesrc cluster)\n",
    "# Let us be more explicit about that\n",
    "local_workdir = workdir"
   ]
  },
  {
   "cell_type": "code",
   "execution_count": 69,
   "metadata": {
    "collapsed": false
   },
   "outputs": [
    {
     "name": "stdout",
     "output_type": "stream",
     "text": [
      "beam\t   sampleassembly\t\t\t scattering\r\n",
      "README.md  sampleassembly-by-mcvine-scaffolding  Si.yml\r\n"
     ]
    }
   ],
   "source": [
    "!ls {local_workdir}"
   ]
  },
  {
   "cell_type": "code",
   "execution_count": 5,
   "metadata": {
    "collapsed": true
   },
   "outputs": [],
   "source": [
    "cluster = \"edison.nersc.gov\"\n",
    "remote_workdir = \"/scratch2/scratchdirs/linjiao/Si/08042016/T100K-n2e8\""
   ]
  },
  {
   "cell_type": "code",
   "execution_count": 33,
   "metadata": {
    "collapsed": false
   },
   "outputs": [],
   "source": [
    "# create remote workdir\n",
    "!ssh {cluster} mkdir -p {remote_workdir} 2>/dev/null"
   ]
  },
  {
   "cell_type": "code",
   "execution_count": 35,
   "metadata": {
    "collapsed": false
   },
   "outputs": [],
   "source": [
    "# uncomment the following to check if the remote workdir was created correctly\n",
    "# !ssh {cluster} ls -al {remote_workdir}"
   ]
  },
  {
   "cell_type": "code",
   "execution_count": null,
   "metadata": {
    "collapsed": true
   },
   "outputs": [],
   "source": [
    "# Configuration file for simulation\n",
    "# A node at nersc has 24 cores"
   ]
  },
  {
   "cell_type": "code",
   "execution_count": 50,
   "metadata": {
    "collapsed": false
   },
   "outputs": [
    {
     "name": "stdout",
     "output_type": "stream",
     "text": [
      "Overwriting /SNS/users/lj7/simulations/ARCS/Si/08042016/100K-nersc-edison-n5e8/scattering/sim.yml\n"
     ]
    }
   ],
   "source": [
    "%%file {local_workdir}/scattering/sim.yml\n",
    "\n",
    "cluster:\n",
    "  nodes: 24\n",
    "instrument:\n",
    "  name: arcs\n",
    "scatter:\n",
    "  ncount: 2e8\n",
    "  multiple_scattering: off\n",
    "  template: ./template"
   ]
  },
  {
   "cell_type": "code",
   "execution_count": 37,
   "metadata": {
    "collapsed": false,
    "scrolled": true
   },
   "outputs": [
    {
     "name": "stdout",
     "output_type": "stream",
     "text": [
      "  \n",
      " *****************************************************************\n",
      " *                                                               *\n",
      " *                      NOTICE TO USERS                          *\n",
      " *                      ---------------                          *\n",
      " *                                                               *\n",
      " *  Lawrence Berkeley National Laboratory operates this          *\n",
      " *  computer system under contract to the U.S. Department of     *\n",
      " *  Energy.  This computer system is the property of the United  *\n",
      " *  States Government and is for authorized use only.  *Users    *\n",
      " *  (authorized or unauthorized) have no explicit or implicit    *\n",
      " *  expectation of privacy.*                                     *\n",
      " *                                                               *\n",
      " *  Any or all uses of this system and all files on this system  *\n",
      " *  may be intercepted, monitored, recorded, copied, audited,    *\n",
      " *  inspected, and disclosed to site, Department of Energy, and  *\n",
      " *  law enforcement personnel, as well as authorized officials   *\n",
      " *  of other agencies, both domestic and foreign.  *By using     *\n",
      " *  this system, the user consents to such interception,         *\n",
      " *  monitoring, recording, copying, auditing, inspection, and    *\n",
      " *  disclosure at the discretion of authorized site or           *\n",
      " *  Department of Energy personnel.*                             *\n",
      " *                                                               *\n",
      " *  *Unauthorized or improper use of this system may result in   *\n",
      " *  administrative disciplinary action and civil and criminal    *\n",
      " *  penalties.  _By continuing to use this system you indicate   *\n",
      " *  your awareness of and consent to these terms and conditions  *\n",
      " *  of use.  LOG OFF IMMEDIATELY if you do not agree to the      *\n",
      " *  conditions stated in this warning._*                         *\n",
      " *                                                               *\n",
      " *****************************************************************\n",
      "\n",
      "sending incremental file list\n",
      "./\n",
      "README.md\n",
      "Si.yml\n",
      "beam/\n",
      "beam/README.arcs_beam\n",
      "beam/arcs_moderator2sample.pml\n",
      "beam/mcvine-instruments-arcs-analyze_beam.params\n",
      "beam/mcvine-instruments-arcs-beam.params\n",
      "beam/mcvine-instruments-arcs-m2s.params\n",
      "beam/mcvine-instruments-arcs-mod2sample.params\n",
      "beam/mon1-tof.dat\n",
      "beam/mon2-tof.dat\n",
      "beam/run\n",
      "beam/run-m2s.sh\n",
      "beam/_m2sout/\n",
      "beam/_m2sout/mon1-tof.dat\n",
      "beam/_m2sout/mon1-tof.h5\n",
      "beam/_m2sout/mon2-tof.dat\n",
      "beam/_m2sout/mon2-tof.h5\n",
      "beam/out/\n",
      "beam/out/ienergy.h5\n",
      "beam/out/itof.h5\n",
      "beam/out/ix_divx.h5\n",
      "beam/out/ix_divy.h5\n",
      "beam/out/ix_y.h5\n",
      "beam/out/iy_divx.h5\n",
      "beam/out/iy_divy.h5\n",
      "beam/out/mon1-itof-focused.h5\n",
      "beam/out/mon2-itof-focused.h5\n",
      "beam/out/neutrons\n",
      "beam/out/props.json\n",
      "beam/out/rank0-step0/\n",
      "beam/out/rank0-step0/ienergy.h5\n",
      "beam/out/rank0-step0/itof.h5\n",
      "beam/out/rank0-step0/ix_divx.h5\n",
      "beam/out/rank0-step0/ix_divy.h5\n",
      "beam/out/rank0-step0/ix_y.h5\n",
      "beam/out/rank0-step0/iy_divx.h5\n",
      "beam/out/rank0-step0/iy_divy.h5\n",
      "beam/out/rank0-step0/number_of_mc_samples\n",
      "sampleassembly-by-mcvine-scaffolding/\n",
      "sampleassembly-by-mcvine-scaffolding/Si-scatterer.xml\n",
      "sampleassembly-by-mcvine-scaffolding/Si.xyz\n",
      "sampleassembly-by-mcvine-scaffolding/sampleassembly.xml\n",
      "sampleassembly/\n",
      "sampleassembly/Si-scatterer.xml\n",
      "sampleassembly/Si.xyz\n",
      "sampleassembly/sampleassembly.xml\n",
      "sampleassembly/Si-phonons/\n",
      "sampleassembly/Si-phonons/DOS\n",
      "sampleassembly/Si-phonons/FORCE_CONSTANTS\n",
      "sampleassembly/Si-phonons/Omega2\n",
      "sampleassembly/Si-phonons/POSCAR\n",
      "sampleassembly/Si-phonons/Polarizations\n",
      "sampleassembly/Si-phonons/Qgridinfo\n",
      "sampleassembly/Si-phonons/compute.py\n",
      "sampleassembly/Si-phonons/dos-withbroadening.dat\n",
      "sampleassembly/Si-phonons/run.sh\n",
      "scattering/\n",
      "scattering/sim.yml\n",
      "scattering/scripts/\n",
      "scattering/scripts/config.py\n",
      "scattering/scripts/config.pyc\n",
      "scattering/scripts/sim.py\n",
      "scattering/scripts/sim.yml\n",
      "scattering/scripts/sim_oneangle.py\n",
      "scattering/scripts/edison@nersc/\n",
      "scattering/scripts/edison@nersc/scripts/\n",
      "scattering/scripts/edison@nersc/scripts/create_parallel_submit_script.py\n",
      "scattering/scripts/edison@nersc/scripts/create_submit_script.py\n",
      "scattering/scripts/edison@nersc/scripts/create_submit_scripts.py\n",
      "scattering/scripts/edison@nersc/scripts/run-sim.sh\n",
      "scattering/scripts/edison@nersc/scripts/run.py\n",
      "scattering/scripts/edison@nersc/scripts/run_oneangle.py\n",
      "scattering/scripts/edison@nersc/scripts/sim-remainders.py\n",
      "scattering/scripts/edison@nersc/scripts/sim.py\n",
      "scattering/scripts/fermi@ornl/\n",
      "scattering/scripts/fermi@ornl/check.py\n",
      "scattering/scripts/fermi@ornl/rescue_detsim-batch.py\n",
      "scattering/scripts/fermi@ornl/rescue_detsim.py\n",
      "scattering/scripts/fermi@ornl/sim-remainders.py\n",
      "scattering/scripts/fermi@ornl/sim.py\n",
      "scattering/scripts/reduce/\n",
      "scattering/scripts/reduce/getaslice.py\n",
      "scattering/scripts/reduce/getaslice.py.old\n",
      "scattering/scripts/reduce/reduce2nxspe_batch.py\n",
      "scattering/scripts/reduce/reduceKeepingEvents.py\n",
      "scattering/scripts/reduce/reduceKeepingEvents_batch.py\n",
      "scattering/scripts/reduce/slice2hist.py\n",
      "scattering/template/\n",
      "scattering/template/Makefile\n",
      "scattering/template/README\n",
      "scattering/template/create-nxs\n",
      "scattering/template/debug\n",
      "scattering/template/s\n",
      "scattering/template/scatter\n",
      "scattering/template/sss\n",
      "scattering/template/sss.pml\n",
      "\n",
      "sent 116,368,126 bytes  received 1,767 bytes  7,507,735.03 bytes/sec\n",
      "total size is 116,334,000  speedup is 1.00\n"
     ]
    }
   ],
   "source": [
    "# staging by copying files to remote cluster\n",
    "!rsync -avL {local_workdir}/ {cluster}:{remote_workdir}/"
   ]
  },
  {
   "cell_type": "markdown",
   "metadata": {},
   "source": [
    "## Step 4.2 Test drive"
   ]
  },
  {
   "cell_type": "code",
   "execution_count": 71,
   "metadata": {
    "collapsed": false
   },
   "outputs": [
    {
     "name": "stdout",
     "output_type": "stream",
     "text": [
      "\r\n",
      "cluster:\r\n",
      "  nodes: 24\r\n",
      "instrument:\r\n",
      "  name: arcs\r\n",
      "scatter:\r\n",
      "  ncount: 2e8\r\n",
      "  multiple_scattering: off\r\n",
      "  template: ./template"
     ]
    }
   ],
   "source": [
    "# one last check of sim config\n",
    "!ssh {cluster} cat {remote_workdir}/scattering/sim.yml 2>/dev/null"
   ]
  },
  {
   "cell_type": "code",
   "execution_count": 39,
   "metadata": {
    "collapsed": true
   },
   "outputs": [],
   "source": [
    "# some cluster may need additional script to set up env vars\n",
    "setupenv_cluster = \" \""
   ]
  },
  {
   "cell_type": "code",
   "execution_count": 40,
   "metadata": {
    "collapsed": true
   },
   "outputs": [],
   "source": [
    "# create a job submission script"
   ]
  },
  {
   "cell_type": "code",
   "execution_count": 72,
   "metadata": {
    "collapsed": false
   },
   "outputs": [
    {
     "name": "stdout",
     "output_type": "stream",
     "text": [
      "Overwriting /SNS/users/lj7/simulations/ARCS/Si/08042016/100K-nersc-edison-n2e8/scattering/job_30.0.sh\n"
     ]
    }
   ],
   "source": [
    "%%file {local_workdir}/scattering/job_30.0.sh\n",
    "#!/bin/bash -l\n",
    "#SBATCH -p regular\n",
    "#SBATCH --qos=premium\n",
    "#SBATCH -N 1\n",
    "#SBATCH --tasks-per-node=24\n",
    "#SBATCH -t 16:00:00\n",
    "#SBATCH -J Si30.0-100K\n",
    "\n",
    ". /global/homes/l/linjiao/.use-mcvine-in-conda\n",
    "\n",
    "./scripts/sim.py --angle=30.0"
   ]
  },
  {
   "cell_type": "code",
   "execution_count": 51,
   "metadata": {
    "collapsed": false,
    "scrolled": true
   },
   "outputs": [
    {
     "name": "stdout",
     "output_type": "stream",
     "text": [
      "sending incremental file list\n",
      "cannot delete non-empty directory: beam\n",
      "scattering/\n",
      "scattering/sim.yml\n",
      "\n",
      "sent 1,681 bytes  received 182 bytes  532.29 bytes/sec\n",
      "total size is 91,509,856  speedup is 49,119.62\n"
     ]
    }
   ],
   "source": [
    "# copy to remote cluster\n",
    "!rsync -av {local_workdir}/ {cluster}:{remote_workdir}/ 2>/dev/null"
   ]
  },
  {
   "cell_type": "code",
   "execution_count": 73,
   "metadata": {
    "collapsed": false
   },
   "outputs": [
    {
     "name": "stdout",
     "output_type": "stream",
     "text": [
      "bash -c 'cd /scratch2/scratchdirs/linjiao/Si/08042016/T100K-n2e8/scattering; sbatch job_30.0.sh </dev/null >log.submit_30.0 2>&1 &'\n"
     ]
    }
   ],
   "source": [
    "# cmd to submit the job\n",
    "cmd = \"sbatch job_30.0.sh\"\n",
    "cmd2 = \"bash -c 'cd %(remote_workdir)s/scattering; \" % locals()\n",
    "cmd2 += \"%(cmd)s </dev/null >log.submit_30.0 2>&1 &'\" % locals()\n",
    "print cmd2"
   ]
  },
  {
   "cell_type": "code",
   "execution_count": 54,
   "metadata": {
    "collapsed": false,
    "scrolled": true
   },
   "outputs": [
    {
     "name": "stdout",
     "output_type": "stream",
     "text": [
      "  \r\n",
      " *****************************************************************\r\n",
      " *                                                               *\r\n",
      " *                      NOTICE TO USERS                          *\r\n",
      " *                      ---------------                          *\r\n",
      " *                                                               *\r\n",
      " *  Lawrence Berkeley National Laboratory operates this          *\r\n",
      " *  computer system under contract to the U.S. Department of     *\r\n",
      " *  Energy.  This computer system is the property of the United  *\r\n",
      " *  States Government and is for authorized use only.  *Users    *\r\n",
      " *  (authorized or unauthorized) have no explicit or implicit    *\r\n",
      " *  expectation of privacy.*                                     *\r\n",
      " *                                                               *\r\n",
      " *  Any or all uses of this system and all files on this system  *\r\n",
      " *  may be intercepted, monitored, recorded, copied, audited,    *\r\n",
      " *  inspected, and disclosed to site, Department of Energy, and  *\r\n",
      " *  law enforcement personnel, as well as authorized officials   *\r\n",
      " *  of other agencies, both domestic and foreign.  *By using     *\r\n",
      " *  this system, the user consents to such interception,         *\r\n",
      " *  monitoring, recording, copying, auditing, inspection, and    *\r\n",
      " *  disclosure at the discretion of authorized site or           *\r\n",
      " *  Department of Energy personnel.*                             *\r\n",
      " *                                                               *\r\n",
      " *  *Unauthorized or improper use of this system may result in   *\r\n",
      " *  administrative disciplinary action and civil and criminal    *\r\n",
      " *  penalties.  _By continuing to use this system you indicate   *\r\n",
      " *  your awareness of and consent to these terms and conditions  *\r\n",
      " *  of use.  LOG OFF IMMEDIATELY if you do not agree to the      *\r\n",
      " *  conditions stated in this warning._*                         *\r\n",
      " *                                                               *\r\n",
      " *****************************************************************\r\n",
      "\r\n"
     ]
    }
   ],
   "source": [
    "# submit the job to the remote cluster\n",
    "!ssh {cluster} \"{cmd2}\""
   ]
  },
  {
   "cell_type": "code",
   "execution_count": 111,
   "metadata": {
    "collapsed": false
   },
   "outputs": [
    {
     "name": "stdout",
     "output_type": "stream",
     "text": [
      "/scratch2/scratchdirs/linjiao/Si/08042016/T100K-n2e8\n"
     ]
    }
   ],
   "source": [
    "# sanity check\n",
    "print remote_workdir"
   ]
  },
  {
   "cell_type": "code",
   "execution_count": 75,
   "metadata": {
    "collapsed": false
   },
   "outputs": [
    {
     "name": "stdout",
     "output_type": "stream",
     "text": [
      "             JOBID       USER  ACCOUNT       NAME  PARTITION    QOS NODES   TIME_LIMIT       TIME   ST           START_TIME\r\n"
     ]
    }
   ],
   "source": [
    "# check job status\n",
    "!ssh {cluster} \"squeue -u linjiao\" 2>/dev/null"
   ]
  },
  {
   "cell_type": "markdown",
   "metadata": {},
   "source": [
    "** Timing: n=2e8. 2.1 hours **"
   ]
  },
  {
   "cell_type": "markdown",
   "metadata": {},
   "source": [
    "## Step 4.3 Run all angles"
   ]
  },
  {
   "cell_type": "code",
   "execution_count": 89,
   "metadata": {
    "collapsed": true
   },
   "outputs": [],
   "source": [
    "# new job submission script that runs a bunch of angles\n",
    "# every angle needs ~2hours\n",
    "# nersc policy: premium max 36hours. max 8 jobs concurrently\n",
    "# let us set max to 24 hours\n",
    "# say 10 angles per job. 8jobs = 80 angles"
   ]
  },
  {
   "cell_type": "code",
   "execution_count": 95,
   "metadata": {
    "collapsed": true
   },
   "outputs": [],
   "source": [
    "script_template = \"\"\"#!/bin/bash -l\n",
    "#SBATCH -p regular\n",
    "#SBATCH --qos=premium\n",
    "#SBATCH -N 1\n",
    "#SBATCH --tasks-per-node=24\n",
    "#SBATCH -t 24:00:00\n",
    "#SBATCH -J %(jobname)s\n",
    "\n",
    ". /global/homes/l/linjiao/.use-mcvine-in-conda\n",
    "\n",
    "./scripts/sim.py --angles=\"%(angles)s\"\n",
    "\"\"\""
   ]
  },
  {
   "cell_type": "code",
   "execution_count": 84,
   "metadata": {
    "collapsed": false
   },
   "outputs": [],
   "source": [
    "angles = np.arange(-5, 90.1, 1)"
   ]
  },
  {
   "cell_type": "code",
   "execution_count": 96,
   "metadata": {
    "collapsed": false
   },
   "outputs": [
    {
     "name": "stdout",
     "output_type": "stream",
     "text": [
      "10\n"
     ]
    }
   ],
   "source": [
    "anglesperjob = 10\n",
    "Njobs = int(np.ceil(len(angles)*1./anglesperjob))\n",
    "print Njobs\n",
    "scripts = []\n",
    "for ijob in range(Njobs):\n",
    "    angles1 = angles[ijob*anglesperjob:(ijob+1)*anglesperjob]\n",
    "    jobname = 'Si_%s-%s_100K' % (angles1[0], angles1[-1])\n",
    "    d = dict(jobname=jobname, angles=','.join(map(str, angles1)))\n",
    "    # print d\n",
    "    content = script_template % d\n",
    "    # print content\n",
    "    script = '%s.sh' % jobname; scripts.append(script)\n",
    "    fn = os.path.join(local_workdir, 'scattering', script)\n",
    "    # print fn\n",
    "    open(fn, 'wt').write(content)\n",
    "    continue\n"
   ]
  },
  {
   "cell_type": "code",
   "execution_count": 97,
   "metadata": {
    "collapsed": false
   },
   "outputs": [
    {
     "name": "stdout",
     "output_type": "stream",
     "text": [
      "sending incremental file list\n",
      "scattering/\n",
      "scattering/Si_-5.0-4.0_100K.sh\n",
      "scattering/Si_15.0-24.0_100K.sh\n",
      "scattering/Si_25.0-34.0_100K.sh\n",
      "scattering/Si_35.0-44.0_100K.sh\n",
      "scattering/Si_45.0-54.0_100K.sh\n",
      "scattering/Si_5.0-14.0_100K.sh\n",
      "scattering/Si_55.0-64.0_100K.sh\n",
      "scattering/Si_65.0-74.0_100K.sh\n",
      "scattering/Si_75.0-84.0_100K.sh\n",
      "scattering/Si_85.0-90.0_100K.sh\n",
      "scattering/job_30.0.sh\n",
      "\n",
      "sent 5,663 bytes  received 303 bytes  917.85 bytes/sec\n",
      "total size is 116,336,916  speedup is 19,499.99\n"
     ]
    }
   ],
   "source": [
    "# staging\n",
    "!rsync -avL {local_workdir}/ {cluster}:{remote_workdir}/ 2>/dev/null"
   ]
  },
  {
   "cell_type": "code",
   "execution_count": 99,
   "metadata": {
    "collapsed": true
   },
   "outputs": [],
   "source": [
    "import time"
   ]
  },
  {
   "cell_type": "code",
   "execution_count": 100,
   "metadata": {
    "collapsed": false
   },
   "outputs": [
    {
     "name": "stdout",
     "output_type": "stream",
     "text": [
      "bash -c 'cd /scratch2/scratchdirs/linjiao/Si/08042016/T100K-n2e8/scattering; sbatch Si_-5.0-4.0_100K.sh </dev/null >log.submit_-5,90.1,2 2>&1 &'\n",
      "  \n",
      " *****************************************************************\n",
      " *                                                               *\n",
      " *                      NOTICE TO USERS                          *\n",
      " *                      ---------------                          *\n",
      " *                                                               *\n",
      " *  Lawrence Berkeley National Laboratory operates this          *\n",
      " *  computer system under contract to the U.S. Department of     *\n",
      " *  Energy.  This computer system is the property of the United  *\n",
      " *  States Government and is for authorized use only.  *Users    *\n",
      " *  (authorized or unauthorized) have no explicit or implicit    *\n",
      " *  expectation of privacy.*                                     *\n",
      " *                                                               *\n",
      " *  Any or all uses of this system and all files on this system  *\n",
      " *  may be intercepted, monitored, recorded, copied, audited,    *\n",
      " *  inspected, and disclosed to site, Department of Energy, and  *\n",
      " *  law enforcement personnel, as well as authorized officials   *\n",
      " *  of other agencies, both domestic and foreign.  *By using     *\n",
      " *  this system, the user consents to such interception,         *\n",
      " *  monitoring, recording, copying, auditing, inspection, and    *\n",
      " *  disclosure at the discretion of authorized site or           *\n",
      " *  Department of Energy personnel.*                             *\n",
      " *                                                               *\n",
      " *  *Unauthorized or improper use of this system may result in   *\n",
      " *  administrative disciplinary action and civil and criminal    *\n",
      " *  penalties.  _By continuing to use this system you indicate   *\n",
      " *  your awareness of and consent to these terms and conditions  *\n",
      " *  of use.  LOG OFF IMMEDIATELY if you do not agree to the      *\n",
      " *  conditions stated in this warning._*                         *\n",
      " *                                                               *\n",
      " *****************************************************************\n",
      "\n",
      "bash -c 'cd /scratch2/scratchdirs/linjiao/Si/08042016/T100K-n2e8/scattering; sbatch Si_5.0-14.0_100K.sh </dev/null >log.submit_-5,90.1,2 2>&1 &'\n",
      "  \n",
      " *****************************************************************\n",
      " *                                                               *\n",
      " *                      NOTICE TO USERS                          *\n",
      " *                      ---------------                          *\n",
      " *                                                               *\n",
      " *  Lawrence Berkeley National Laboratory operates this          *\n",
      " *  computer system under contract to the U.S. Department of     *\n",
      " *  Energy.  This computer system is the property of the United  *\n",
      " *  States Government and is for authorized use only.  *Users    *\n",
      " *  (authorized or unauthorized) have no explicit or implicit    *\n",
      " *  expectation of privacy.*                                     *\n",
      " *                                                               *\n",
      " *  Any or all uses of this system and all files on this system  *\n",
      " *  may be intercepted, monitored, recorded, copied, audited,    *\n",
      " *  inspected, and disclosed to site, Department of Energy, and  *\n",
      " *  law enforcement personnel, as well as authorized officials   *\n",
      " *  of other agencies, both domestic and foreign.  *By using     *\n",
      " *  this system, the user consents to such interception,         *\n",
      " *  monitoring, recording, copying, auditing, inspection, and    *\n",
      " *  disclosure at the discretion of authorized site or           *\n",
      " *  Department of Energy personnel.*                             *\n",
      " *                                                               *\n",
      " *  *Unauthorized or improper use of this system may result in   *\n",
      " *  administrative disciplinary action and civil and criminal    *\n",
      " *  penalties.  _By continuing to use this system you indicate   *\n",
      " *  your awareness of and consent to these terms and conditions  *\n",
      " *  of use.  LOG OFF IMMEDIATELY if you do not agree to the      *\n",
      " *  conditions stated in this warning._*                         *\n",
      " *                                                               *\n",
      " *****************************************************************\n",
      "\n",
      "bash -c 'cd /scratch2/scratchdirs/linjiao/Si/08042016/T100K-n2e8/scattering; sbatch Si_15.0-24.0_100K.sh </dev/null >log.submit_-5,90.1,2 2>&1 &'\n",
      "  \n",
      " *****************************************************************\n",
      " *                                                               *\n",
      " *                      NOTICE TO USERS                          *\n",
      " *                      ---------------                          *\n",
      " *                                                               *\n",
      " *  Lawrence Berkeley National Laboratory operates this          *\n",
      " *  computer system under contract to the U.S. Department of     *\n",
      " *  Energy.  This computer system is the property of the United  *\n",
      " *  States Government and is for authorized use only.  *Users    *\n",
      " *  (authorized or unauthorized) have no explicit or implicit    *\n",
      " *  expectation of privacy.*                                     *\n",
      " *                                                               *\n",
      " *  Any or all uses of this system and all files on this system  *\n",
      " *  may be intercepted, monitored, recorded, copied, audited,    *\n",
      " *  inspected, and disclosed to site, Department of Energy, and  *\n",
      " *  law enforcement personnel, as well as authorized officials   *\n",
      " *  of other agencies, both domestic and foreign.  *By using     *\n",
      " *  this system, the user consents to such interception,         *\n",
      " *  monitoring, recording, copying, auditing, inspection, and    *\n",
      " *  disclosure at the discretion of authorized site or           *\n",
      " *  Department of Energy personnel.*                             *\n",
      " *                                                               *\n",
      " *  *Unauthorized or improper use of this system may result in   *\n",
      " *  administrative disciplinary action and civil and criminal    *\n",
      " *  penalties.  _By continuing to use this system you indicate   *\n",
      " *  your awareness of and consent to these terms and conditions  *\n",
      " *  of use.  LOG OFF IMMEDIATELY if you do not agree to the      *\n",
      " *  conditions stated in this warning._*                         *\n",
      " *                                                               *\n",
      " *****************************************************************\n",
      "\n",
      "bash -c 'cd /scratch2/scratchdirs/linjiao/Si/08042016/T100K-n2e8/scattering; sbatch Si_25.0-34.0_100K.sh </dev/null >log.submit_-5,90.1,2 2>&1 &'\n",
      "  \n",
      " *****************************************************************\n",
      " *                                                               *\n",
      " *                      NOTICE TO USERS                          *\n",
      " *                      ---------------                          *\n",
      " *                                                               *\n",
      " *  Lawrence Berkeley National Laboratory operates this          *\n",
      " *  computer system under contract to the U.S. Department of     *\n",
      " *  Energy.  This computer system is the property of the United  *\n",
      " *  States Government and is for authorized use only.  *Users    *\n",
      " *  (authorized or unauthorized) have no explicit or implicit    *\n",
      " *  expectation of privacy.*                                     *\n",
      " *                                                               *\n",
      " *  Any or all uses of this system and all files on this system  *\n",
      " *  may be intercepted, monitored, recorded, copied, audited,    *\n",
      " *  inspected, and disclosed to site, Department of Energy, and  *\n",
      " *  law enforcement personnel, as well as authorized officials   *\n",
      " *  of other agencies, both domestic and foreign.  *By using     *\n",
      " *  this system, the user consents to such interception,         *\n",
      " *  monitoring, recording, copying, auditing, inspection, and    *\n",
      " *  disclosure at the discretion of authorized site or           *\n",
      " *  Department of Energy personnel.*                             *\n",
      " *                                                               *\n",
      " *  *Unauthorized or improper use of this system may result in   *\n",
      " *  administrative disciplinary action and civil and criminal    *\n",
      " *  penalties.  _By continuing to use this system you indicate   *\n",
      " *  your awareness of and consent to these terms and conditions  *\n",
      " *  of use.  LOG OFF IMMEDIATELY if you do not agree to the      *\n",
      " *  conditions stated in this warning._*                         *\n",
      " *                                                               *\n",
      " *****************************************************************\n",
      "\n",
      "bash -c 'cd /scratch2/scratchdirs/linjiao/Si/08042016/T100K-n2e8/scattering; sbatch Si_35.0-44.0_100K.sh </dev/null >log.submit_-5,90.1,2 2>&1 &'\n",
      "  \n",
      " *****************************************************************\n",
      " *                                                               *\n",
      " *                      NOTICE TO USERS                          *\n",
      " *                      ---------------                          *\n",
      " *                                                               *\n",
      " *  Lawrence Berkeley National Laboratory operates this          *\n",
      " *  computer system under contract to the U.S. Department of     *\n",
      " *  Energy.  This computer system is the property of the United  *\n",
      " *  States Government and is for authorized use only.  *Users    *\n",
      " *  (authorized or unauthorized) have no explicit or implicit    *\n",
      " *  expectation of privacy.*                                     *\n",
      " *                                                               *\n",
      " *  Any or all uses of this system and all files on this system  *\n",
      " *  may be intercepted, monitored, recorded, copied, audited,    *\n",
      " *  inspected, and disclosed to site, Department of Energy, and  *\n",
      " *  law enforcement personnel, as well as authorized officials   *\n",
      " *  of other agencies, both domestic and foreign.  *By using     *\n",
      " *  this system, the user consents to such interception,         *\n",
      " *  monitoring, recording, copying, auditing, inspection, and    *\n",
      " *  disclosure at the discretion of authorized site or           *\n",
      " *  Department of Energy personnel.*                             *\n",
      " *                                                               *\n",
      " *  *Unauthorized or improper use of this system may result in   *\n",
      " *  administrative disciplinary action and civil and criminal    *\n",
      " *  penalties.  _By continuing to use this system you indicate   *\n",
      " *  your awareness of and consent to these terms and conditions  *\n",
      " *  of use.  LOG OFF IMMEDIATELY if you do not agree to the      *\n",
      " *  conditions stated in this warning._*                         *\n",
      " *                                                               *\n",
      " *****************************************************************\n",
      "\n",
      "bash -c 'cd /scratch2/scratchdirs/linjiao/Si/08042016/T100K-n2e8/scattering; sbatch Si_45.0-54.0_100K.sh </dev/null >log.submit_-5,90.1,2 2>&1 &'\n",
      "  \n",
      " *****************************************************************\n",
      " *                                                               *\n",
      " *                      NOTICE TO USERS                          *\n",
      " *                      ---------------                          *\n",
      " *                                                               *\n",
      " *  Lawrence Berkeley National Laboratory operates this          *\n",
      " *  computer system under contract to the U.S. Department of     *\n",
      " *  Energy.  This computer system is the property of the United  *\n",
      " *  States Government and is for authorized use only.  *Users    *\n",
      " *  (authorized or unauthorized) have no explicit or implicit    *\n",
      " *  expectation of privacy.*                                     *\n",
      " *                                                               *\n",
      " *  Any or all uses of this system and all files on this system  *\n",
      " *  may be intercepted, monitored, recorded, copied, audited,    *\n",
      " *  inspected, and disclosed to site, Department of Energy, and  *\n",
      " *  law enforcement personnel, as well as authorized officials   *\n",
      " *  of other agencies, both domestic and foreign.  *By using     *\n",
      " *  this system, the user consents to such interception,         *\n",
      " *  monitoring, recording, copying, auditing, inspection, and    *\n",
      " *  disclosure at the discretion of authorized site or           *\n",
      " *  Department of Energy personnel.*                             *\n",
      " *                                                               *\n",
      " *  *Unauthorized or improper use of this system may result in   *\n",
      " *  administrative disciplinary action and civil and criminal    *\n",
      " *  penalties.  _By continuing to use this system you indicate   *\n",
      " *  your awareness of and consent to these terms and conditions  *\n",
      " *  of use.  LOG OFF IMMEDIATELY if you do not agree to the      *\n",
      " *  conditions stated in this warning._*                         *\n",
      " *                                                               *\n",
      " *****************************************************************\n",
      "\n",
      "bash -c 'cd /scratch2/scratchdirs/linjiao/Si/08042016/T100K-n2e8/scattering; sbatch Si_55.0-64.0_100K.sh </dev/null >log.submit_-5,90.1,2 2>&1 &'\n",
      "  \n",
      " *****************************************************************\n",
      " *                                                               *\n",
      " *                      NOTICE TO USERS                          *\n",
      " *                      ---------------                          *\n",
      " *                                                               *\n",
      " *  Lawrence Berkeley National Laboratory operates this          *\n",
      " *  computer system under contract to the U.S. Department of     *\n",
      " *  Energy.  This computer system is the property of the United  *\n",
      " *  States Government and is for authorized use only.  *Users    *\n",
      " *  (authorized or unauthorized) have no explicit or implicit    *\n",
      " *  expectation of privacy.*                                     *\n",
      " *                                                               *\n",
      " *  Any or all uses of this system and all files on this system  *\n",
      " *  may be intercepted, monitored, recorded, copied, audited,    *\n",
      " *  inspected, and disclosed to site, Department of Energy, and  *\n",
      " *  law enforcement personnel, as well as authorized officials   *\n",
      " *  of other agencies, both domestic and foreign.  *By using     *\n",
      " *  this system, the user consents to such interception,         *\n",
      " *  monitoring, recording, copying, auditing, inspection, and    *\n",
      " *  disclosure at the discretion of authorized site or           *\n",
      " *  Department of Energy personnel.*                             *\n",
      " *                                                               *\n",
      " *  *Unauthorized or improper use of this system may result in   *\n",
      " *  administrative disciplinary action and civil and criminal    *\n",
      " *  penalties.  _By continuing to use this system you indicate   *\n",
      " *  your awareness of and consent to these terms and conditions  *\n",
      " *  of use.  LOG OFF IMMEDIATELY if you do not agree to the      *\n",
      " *  conditions stated in this warning._*                         *\n",
      " *                                                               *\n",
      " *****************************************************************\n",
      "\n",
      "bash -c 'cd /scratch2/scratchdirs/linjiao/Si/08042016/T100K-n2e8/scattering; sbatch Si_65.0-74.0_100K.sh </dev/null >log.submit_-5,90.1,2 2>&1 &'\n",
      "  \n",
      " *****************************************************************\n",
      " *                                                               *\n",
      " *                      NOTICE TO USERS                          *\n",
      " *                      ---------------                          *\n",
      " *                                                               *\n",
      " *  Lawrence Berkeley National Laboratory operates this          *\n",
      " *  computer system under contract to the U.S. Department of     *\n",
      " *  Energy.  This computer system is the property of the United  *\n",
      " *  States Government and is for authorized use only.  *Users    *\n",
      " *  (authorized or unauthorized) have no explicit or implicit    *\n",
      " *  expectation of privacy.*                                     *\n",
      " *                                                               *\n",
      " *  Any or all uses of this system and all files on this system  *\n",
      " *  may be intercepted, monitored, recorded, copied, audited,    *\n",
      " *  inspected, and disclosed to site, Department of Energy, and  *\n",
      " *  law enforcement personnel, as well as authorized officials   *\n",
      " *  of other agencies, both domestic and foreign.  *By using     *\n",
      " *  this system, the user consents to such interception,         *\n",
      " *  monitoring, recording, copying, auditing, inspection, and    *\n",
      " *  disclosure at the discretion of authorized site or           *\n",
      " *  Department of Energy personnel.*                             *\n",
      " *                                                               *\n",
      " *  *Unauthorized or improper use of this system may result in   *\n",
      " *  administrative disciplinary action and civil and criminal    *\n",
      " *  penalties.  _By continuing to use this system you indicate   *\n",
      " *  your awareness of and consent to these terms and conditions  *\n",
      " *  of use.  LOG OFF IMMEDIATELY if you do not agree to the      *\n",
      " *  conditions stated in this warning._*                         *\n",
      " *                                                               *\n",
      " *****************************************************************\n",
      "\n",
      "bash -c 'cd /scratch2/scratchdirs/linjiao/Si/08042016/T100K-n2e8/scattering; sbatch Si_75.0-84.0_100K.sh </dev/null >log.submit_-5,90.1,2 2>&1 &'\n",
      "  \n",
      " *****************************************************************\n",
      " *                                                               *\n",
      " *                      NOTICE TO USERS                          *\n",
      " *                      ---------------                          *\n",
      " *                                                               *\n",
      " *  Lawrence Berkeley National Laboratory operates this          *\n",
      " *  computer system under contract to the U.S. Department of     *\n",
      " *  Energy.  This computer system is the property of the United  *\n",
      " *  States Government and is for authorized use only.  *Users    *\n",
      " *  (authorized or unauthorized) have no explicit or implicit    *\n",
      " *  expectation of privacy.*                                     *\n",
      " *                                                               *\n",
      " *  Any or all uses of this system and all files on this system  *\n",
      " *  may be intercepted, monitored, recorded, copied, audited,    *\n",
      " *  inspected, and disclosed to site, Department of Energy, and  *\n",
      " *  law enforcement personnel, as well as authorized officials   *\n",
      " *  of other agencies, both domestic and foreign.  *By using     *\n",
      " *  this system, the user consents to such interception,         *\n",
      " *  monitoring, recording, copying, auditing, inspection, and    *\n",
      " *  disclosure at the discretion of authorized site or           *\n",
      " *  Department of Energy personnel.*                             *\n",
      " *                                                               *\n",
      " *  *Unauthorized or improper use of this system may result in   *\n",
      " *  administrative disciplinary action and civil and criminal    *\n",
      " *  penalties.  _By continuing to use this system you indicate   *\n",
      " *  your awareness of and consent to these terms and conditions  *\n",
      " *  of use.  LOG OFF IMMEDIATELY if you do not agree to the      *\n",
      " *  conditions stated in this warning._*                         *\n",
      " *                                                               *\n",
      " *****************************************************************\n",
      "\n",
      "bash -c 'cd /scratch2/scratchdirs/linjiao/Si/08042016/T100K-n2e8/scattering; sbatch Si_85.0-90.0_100K.sh </dev/null >log.submit_-5,90.1,2 2>&1 &'\n",
      "  \n",
      " *****************************************************************\n",
      " *                                                               *\n",
      " *                      NOTICE TO USERS                          *\n",
      " *                      ---------------                          *\n",
      " *                                                               *\n",
      " *  Lawrence Berkeley National Laboratory operates this          *\n",
      " *  computer system under contract to the U.S. Department of     *\n",
      " *  Energy.  This computer system is the property of the United  *\n",
      " *  States Government and is for authorized use only.  *Users    *\n",
      " *  (authorized or unauthorized) have no explicit or implicit    *\n",
      " *  expectation of privacy.*                                     *\n",
      " *                                                               *\n",
      " *  Any or all uses of this system and all files on this system  *\n",
      " *  may be intercepted, monitored, recorded, copied, audited,    *\n",
      " *  inspected, and disclosed to site, Department of Energy, and  *\n",
      " *  law enforcement personnel, as well as authorized officials   *\n",
      " *  of other agencies, both domestic and foreign.  *By using     *\n",
      " *  this system, the user consents to such interception,         *\n",
      " *  monitoring, recording, copying, auditing, inspection, and    *\n",
      " *  disclosure at the discretion of authorized site or           *\n",
      " *  Department of Energy personnel.*                             *\n",
      " *                                                               *\n",
      " *  *Unauthorized or improper use of this system may result in   *\n",
      " *  administrative disciplinary action and civil and criminal    *\n",
      " *  penalties.  _By continuing to use this system you indicate   *\n",
      " *  your awareness of and consent to these terms and conditions  *\n",
      " *  of use.  LOG OFF IMMEDIATELY if you do not agree to the      *\n",
      " *  conditions stated in this warning._*                         *\n",
      " *                                                               *\n",
      " *****************************************************************\n",
      "\n"
     ]
    }
   ],
   "source": [
    "for script in scripts:\n",
    "    # cmd to submit the job\n",
    "    cmd = \"sbatch %s\" % script\n",
    "    cmd2 = \"bash -c 'cd %(remote_workdir)s/scattering; \" % locals()\n",
    "    cmd2 += \"%(cmd)s </dev/null >log.%(script)s 2>&1 &'\" % locals()\n",
    "    print cmd2\n",
    "    # submit the job to the cluster\n",
    "    !ssh {cluster} \"{cmd2}\"\n",
    "    time.sleep(1)\n",
    "    continue"
   ]
  },
  {
   "cell_type": "code",
   "execution_count": 105,
   "metadata": {
    "collapsed": false
   },
   "outputs": [
    {
     "name": "stdout",
     "output_type": "stream",
     "text": [
      "             JOBID       USER  ACCOUNT       NAME  PARTITION    QOS NODES   TIME_LIMIT       TIME   ST           START_TIME\r\n"
     ]
    }
   ],
   "source": [
    "# check job status\n",
    "!ssh {cluster} \"squeue -u linjiao\" 2>/dev/null"
   ]
  },
  {
   "cell_type": "code",
   "execution_count": 108,
   "metadata": {
    "collapsed": false
   },
   "outputs": [],
   "source": [
    "# use this to check results at the remote cluster\n",
    "# cd %(remote_workdir)s/scattering; ls work_*/sim_*.nxs\n",
    "# found out that one of the job does not even run \n",
    "# angles 5-14\n",
    "# and angle 80.0 does not finish the detector simulation"
   ]
  },
  {
   "cell_type": "code",
   "execution_count": 12,
   "metadata": {
    "collapsed": true
   },
   "outputs": [],
   "source": [
    "script_template = \"\"\"#!/bin/bash -l\n",
    "#SBATCH -p regular\n",
    "#SBATCH --qos=premium\n",
    "#SBATCH -N 1\n",
    "#SBATCH --tasks-per-node=24\n",
    "#SBATCH -t 10:00:00\n",
    "#SBATCH -J %(jobname)s\n",
    "\n",
    ". /global/homes/l/linjiao/.use-mcvine-in-conda\n",
    "\n",
    "./scripts/sim.py --angles=\"%(angles)s\"\n",
    "\"\"\""
   ]
  },
  {
   "cell_type": "code",
   "execution_count": 9,
   "metadata": {
    "collapsed": false
   },
   "outputs": [
    {
     "name": "stdout",
     "output_type": "stream",
     "text": [
      "[5.0, 6.0, 7.0, 8.0, 9.0, 10.0, 11.0, 12.0, 13.0, 14.0, 80.0]\n"
     ]
    }
   ],
   "source": [
    "angles = np.arange(5,14.1, 1.)\n",
    "angles = list(angles) + [80.]\n",
    "print angles"
   ]
  },
  {
   "cell_type": "code",
   "execution_count": 14,
   "metadata": {
    "collapsed": false
   },
   "outputs": [
    {
     "name": "stdout",
     "output_type": "stream",
     "text": [
      "4\n"
     ]
    }
   ],
   "source": [
    "anglesperjob = 3\n",
    "Njobs = int(np.ceil(len(angles)*1./anglesperjob))\n",
    "print Njobs\n",
    "scripts = []\n",
    "for ijob in range(Njobs):\n",
    "    angles1 = angles[ijob*anglesperjob:(ijob+1)*anglesperjob]\n",
    "    jobname = 'Si_%s_100K' % (','.join([str(a) for a in angles1]))\n",
    "    d = dict(jobname=jobname, angles=','.join(map(str, angles1)))\n",
    "    # print d\n",
    "    content = script_template % d\n",
    "    # print content\n",
    "    script = '%s.sh' % jobname; scripts.append(script)\n",
    "    fn = os.path.join(local_workdir, 'scattering', script)\n",
    "    # print fn\n",
    "    open(fn, 'wt').write(content)\n",
    "    continue"
   ]
  },
  {
   "cell_type": "code",
   "execution_count": 7,
   "metadata": {
    "collapsed": false
   },
   "outputs": [
    {
     "name": "stdout",
     "output_type": "stream",
     "text": [
      "/SNS/users/lj7/simulations/ARCS/Si/08042016/100K-nersc-edison-n2e8 edison.nersc.gov /scratch2/scratchdirs/linjiao/Si/08042016/T100K-n2e8\n"
     ]
    }
   ],
   "source": [
    "print local_workdir, cluster, remote_workdir"
   ]
  },
  {
   "cell_type": "code",
   "execution_count": 6,
   "metadata": {
    "collapsed": false
   },
   "outputs": [
    {
     "name": "stdout",
     "output_type": "stream",
     "text": [
      "sending incremental file list\n",
      "^C\n"
     ]
    }
   ],
   "source": [
    "# staging\n",
    "!rsync -avL {local_workdir}/ {cluster}:{remote_workdir}/ 2>/dev/null"
   ]
  },
  {
   "cell_type": "code",
   "execution_count": null,
   "metadata": {
    "collapsed": true
   },
   "outputs": [],
   "source": [
    "for script in scripts:\n",
    "    # cmd to submit the job\n",
    "    cmd = \"sbatch %s\" % script\n",
    "    cmd2 = \"bash -c 'cd %(remote_workdir)s/scattering; \" % locals()\n",
    "    cmd2 += \"%(cmd)s </dev/null >log.%(script)s 2>&1 &'\" % locals()\n",
    "    print cmd2\n",
    "    # submit the job to the cluster\n",
    "    !ssh {cluster} \"{cmd2}\"\n",
    "    time.sleep(1)\n",
    "    continue"
   ]
  },
  {
   "cell_type": "markdown",
   "metadata": {},
   "source": [
    "## Step 5. Reduction"
   ]
  },
  {
   "cell_type": "code",
   "execution_count": 15,
   "metadata": {
    "collapsed": false
   },
   "outputs": [
    {
     "name": "stdout",
     "output_type": "stream",
     "text": [
      "/SNS/users/lj7/simulations/ARCS/Si/08042016/100K-nersc-edison-n2e8/scattering\n"
     ]
    }
   ],
   "source": [
    "# copy data back to local dir\n",
    "%cd \"{local_workdir}/scattering\"\n",
    "!mkdir nxs"
   ]
  },
  {
   "cell_type": "code",
   "execution_count": 16,
   "metadata": {
    "collapsed": false
   },
   "outputs": [
    {
     "name": "stdout",
     "output_type": "stream",
     "text": [
      "sim_-1.0.nxs                                  100%  310MB  12.9MB/s   00:24    \n",
      "sim_-2.0.nxs                                  100%  310MB  23.8MB/s   00:13    \n",
      "sim_-3.0.nxs                                  100%  310MB  14.1MB/s   00:22    \n",
      "sim_-4.0.nxs                                  100%  310MB  20.7MB/s   00:15    \n",
      "sim_-5.0.nxs                                  100%  310MB  17.2MB/s   00:18    \n",
      "sim_0.0.nxs                                   100%  311MB  15.6MB/s   00:20    \n",
      "sim_1.0.nxs                                   100%  312MB  24.0MB/s   00:13    \n",
      "sim_10.0.nxs                                  100%  312MB  19.5MB/s   00:16    \n",
      "sim_11.0.nxs                                  100%  312MB  12.0MB/s   00:26    \n",
      "sim_12.0.nxs                                  100%  312MB  20.8MB/s   00:15    \n",
      "sim_13.0.nxs                                  100%  312MB  24.0MB/s   00:13    \n",
      "sim_14.0.nxs                                  100%  312MB   2.9MB/s   01:49    \n",
      "sim_15.0.nxs                                  100%  312MB  22.3MB/s   00:14    \n",
      "sim_16.0.nxs                                  100%  312MB   7.6MB/s   00:41    \n",
      "sim_17.0.nxs                                  100%  312MB  19.5MB/s   00:16    \n",
      "sim_18.0.nxs                                  100%  312MB  24.0MB/s   00:13    \n",
      "sim_19.0.nxs                                  100%  312MB  24.0MB/s   00:13    \n",
      "sim_2.0.nxs                                   100%  312MB  24.0MB/s   00:13    \n",
      "sim_20.0.nxs                                  100%  312MB  22.3MB/s   00:14    \n",
      "sim_21.0.nxs                                  100%  312MB   8.9MB/s   00:35    \n",
      "sim_22.0.nxs                                  100%  312MB  24.0MB/s   00:13    \n",
      "sim_23.0.nxs                                  100%  312MB  10.8MB/s   00:29    \n",
      "sim_24.0.nxs                                  100%  312MB  14.2MB/s   00:22    \n",
      "sim_25.0.nxs                                  100%  312MB  26.0MB/s   00:12    \n",
      "sim_26.0.nxs                                  100%  312MB  26.0MB/s   00:12    \n",
      "sim_27.0.nxs                                  100%  312MB   7.1MB/s   00:44    \n",
      "sim_28.0.nxs                                  100%  312MB  22.3MB/s   00:14    \n",
      "sim_29.0.nxs                                  100%  312MB  11.6MB/s   00:27    \n",
      "sim_3.0.nxs                                   100%  312MB   6.6MB/s   00:47    \n",
      "sim_30.0.nxs                                  100%  312MB  13.0MB/s   00:24    \n",
      "sim_31.0.nxs                                  100%  312MB  24.0MB/s   00:13    \n",
      "sim_32.0.nxs                                  100%  312MB  24.0MB/s   00:13    \n",
      "sim_33.0.nxs                                  100%  312MB  19.5MB/s   00:16    \n",
      "sim_34.0.nxs                                  100%  312MB   4.5MB/s   01:10    \n",
      "sim_35.0.nxs                                  100%  312MB  14.9MB/s   00:21    \n",
      "sim_36.0.nxs                                  100%  312MB  24.0MB/s   00:13    \n",
      "sim_37.0.nxs                                  100%  312MB  24.0MB/s   00:13    \n",
      "sim_38.0.nxs                                  100%  312MB  20.8MB/s   00:15    \n",
      "sim_39.0.nxs                                  100%  312MB  26.0MB/s   00:12    \n",
      "sim_4.0.nxs                                   100%  312MB  26.0MB/s   00:12    \n",
      "sim_40.0.nxs                                  100%  312MB  26.0MB/s   00:12    \n",
      "sim_41.0.nxs                                  100%  312MB  13.6MB/s   00:23    \n",
      "sim_42.0.nxs                                  100%  312MB  24.0MB/s   00:13    \n",
      "sim_43.0.nxs                                  100%  312MB  16.4MB/s   00:19    \n",
      "sim_44.0.nxs                                  100%  312MB  26.0MB/s   00:12    \n",
      "sim_45.0.nxs                                  100%  312MB  10.1MB/s   00:31    \n",
      "sim_46.0.nxs                                  100%  312MB   6.6MB/s   00:47    \n",
      "sim_47.0.nxs                                  100%  312MB  11.1MB/s   00:28    \n",
      "sim_48.0.nxs                                  100%  312MB  10.1MB/s   00:31    \n",
      "sim_49.0.nxs                                  100%  312MB  22.3MB/s   00:14    \n",
      "sim_5.0.nxs                                   100%  312MB  18.3MB/s   00:17    \n",
      "sim_50.0.nxs                                  100%  312MB  10.1MB/s   00:31    \n",
      "sim_51.0.nxs                                  100%  312MB  18.4MB/s   00:17    \n",
      "sim_52.0.nxs                                  100%  312MB  24.0MB/s   00:13    \n",
      "sim_53.0.nxs                                  100%  312MB  14.2MB/s   00:22    \n",
      "sim_54.0.nxs                                  100%  312MB  11.1MB/s   00:28    \n",
      "sim_55.0.nxs                                  100%  312MB  17.3MB/s   00:18    \n",
      "sim_56.0.nxs                                  100%  312MB  24.0MB/s   00:13    \n",
      "sim_57.0.nxs                                  100%  312MB  24.0MB/s   00:13    \n",
      "sim_58.0.nxs                                  100%  312MB  26.0MB/s   00:12    \n",
      "sim_59.0.nxs                                  100%  312MB  26.0MB/s   00:12    \n",
      "sim_6.0.nxs                                   100%  312MB  26.0MB/s   00:12    \n",
      "sim_60.0.nxs                                  100%  312MB  18.3MB/s   00:17    \n",
      "sim_61.0.nxs                                  100%  312MB  22.3MB/s   00:14    \n",
      "sim_62.0.nxs                                  100%  312MB  12.0MB/s   00:26    \n",
      "sim_63.0.nxs                                  100%  312MB   3.6MB/s   01:26    \n",
      "sim_64.0.nxs                                  100%  312MB  16.4MB/s   00:19    \n",
      "sim_65.0.nxs                                  100%  312MB  19.5MB/s   00:16    \n",
      "sim_66.0.nxs                                  100%  312MB  19.5MB/s   00:16    \n",
      "sim_67.0.nxs                                  100%  312MB  22.3MB/s   00:14    \n",
      "sim_68.0.nxs                                  100%  312MB  19.5MB/s   00:16    \n",
      "sim_69.0.nxs                                  100%  312MB  18.3MB/s   00:17    \n",
      "sim_7.0.nxs                                   100%  312MB  24.0MB/s   00:13    \n",
      "sim_70.0.nxs                                  100%  312MB  10.8MB/s   00:29    \n",
      "sim_71.0.nxs                                  100%  312MB   5.5MB/s   00:57    \n",
      "sim_72.0.nxs                                  100%  312MB  24.0MB/s   00:13    \n",
      "sim_73.0.nxs                                  100%  312MB  24.0MB/s   00:13    \n",
      "sim_74.0.nxs                                  100%  312MB  18.4MB/s   00:17    \n",
      "sim_75.0.nxs                                  100%  312MB  22.3MB/s   00:14    \n",
      "sim_76.0.nxs                                  100%  312MB  24.0MB/s   00:13    \n",
      "sim_77.0.nxs                                  100%  312MB   7.6MB/s   00:41    \n",
      "sim_78.0.nxs                                  100%  312MB  19.5MB/s   00:16    \n",
      "sim_79.0.nxs                                  100%  312MB  16.4MB/s   00:19    \n",
      "sim_8.0.nxs                                   100%  312MB  11.6MB/s   00:27    \n",
      "sim_80.0.nxs                                  100%  312MB  26.0MB/s   00:12    \n",
      "sim_81.0.nxs                                  100%  312MB  24.0MB/s   00:13    \n",
      "sim_82.0.nxs                                  100%  312MB  22.3MB/s   00:14    \n",
      "sim_83.0.nxs                                  100%  312MB  22.3MB/s   00:14    \n",
      "sim_84.0.nxs                                  100%  312MB  22.3MB/s   00:14    \n",
      "sim_85.0.nxs                                  100%  312MB  14.2MB/s   00:22    \n",
      "sim_86.0.nxs                                  100%  312MB  20.8MB/s   00:15    \n",
      "sim_87.0.nxs                                  100%  312MB   7.6MB/s   00:41    \n",
      "sim_88.0.nxs                                  100%  312MB  19.5MB/s   00:16    \n",
      "sim_89.0.nxs                                  100%  312MB   6.2MB/s   00:50    \n",
      "sim_9.0.nxs                                   100%  312MB   5.5MB/s   00:57    \n",
      "sim_90.0.nxs                                  100%  312MB  12.5MB/s   00:25    \n"
     ]
    }
   ],
   "source": [
    "!scp {cluster}:{remote_workdir}/scattering/work_*/sim_*.nxs {local_workdir}/scattering/nxs/ 2>/dev/null"
   ]
  },
  {
   "cell_type": "markdown",
   "metadata": {},
   "source": [
    "First we reduce event-mode nexus data for each angle using Mantid"
   ]
  },
  {
   "cell_type": "code",
   "execution_count": 17,
   "metadata": {
    "collapsed": false
   },
   "outputs": [
    {
     "name": "stdout",
     "output_type": "stream",
     "text": [
      "/home/lj7/miniconda2/envs/dev-mcvine/lib/python2.7/site-packages/mantid/kernel/__init__.py:14: RuntimeWarning: to-Python converter for std::vector<int, std::allocator<int> > already registered; second conversion method ignored.\n",
      "  from ._kernel import *\n",
      "/home/lj7/miniconda2/envs/dev-mcvine/lib/python2.7/site-packages/mantid/kernel/__init__.py:14: RuntimeWarning: to-Python converter for std::vector<double, std::allocator<double> > already registered; second conversion method ignored.\n",
      "  from ._kernel import *\n",
      "14783.92user 1047.43system 35:14.61elapsed 748%CPU (0avgtext+0avgdata 6541084maxresident)k\n",
      "61293728inputs+6648outputs (0major+225223709minor)pagefaults 0swaps\n"
     ]
    }
   ],
   "source": [
    "# reduce tof events to E events\n",
    "# this takes about 13 minutes\n",
    "!time mcvine workflow sxr reduce --type batch \\\n",
    "    --eaxis -5 75 0.5 --psi-axis -5 90.1 1. --eiguess 100 \\\n",
    "    --eventnxs nxs/sim_%s.nxs --out nxs/reduced_%s.nxs\\\n",
    "    > log.reduce"
   ]
  },
  {
   "cell_type": "code",
   "execution_count": 100,
   "metadata": {
    "collapsed": false
   },
   "outputs": [],
   "source": [
    "# create configuration file for getting a slice"
   ]
  },
  {
   "cell_type": "code",
   "execution_count": 31,
   "metadata": {
    "collapsed": false
   },
   "outputs": [
    {
     "name": "stdout",
     "output_type": "stream",
     "text": [
      "Overwriting slice_111.yml\n"
     ]
    }
   ],
   "source": [
    "%%file slice_111.yml\n",
    "Eaxis:\n",
    " min: 0\n",
    " max: 75\n",
    " N: 151\n",
    "Q_projections:\n",
    " U:\n",
    "  proj: -1,1,-1\n",
    "  proj_name: -H,H,-H\n",
    "  min: -6\n",
    "  max: 6\n",
    "  N: 241\n",
    " V:\n",
    "  proj: 1,.5,-.5\n",
    "  proj_name: H,0.5H,-0.5H\n",
    "  min: -5.483333\n",
    "  max: -5.183333\n",
    "  N: 1\n",
    " W:\n",
    "  proj: 0,-1,-1\n",
    "  proj_name: 0,-K,-K\n",
    "  min: -0.3\n",
    "  max: 0.3\n",
    "  N: 1"
   ]
  },
  {
   "cell_type": "code",
   "execution_count": 19,
   "metadata": {
    "collapsed": false
   },
   "outputs": [
    {
     "name": "stdout",
     "output_type": "stream",
     "text": [
      "job_30.0.sh                Si_25.0-34.0_100K.sh    Si_65.0-74.0_100K.sh\r\n",
      "log.reduce                 Si_35.0-44.0_100K.sh    Si_75.0-84.0_100K.sh\r\n",
      "\u001b[0m\u001b[01;34mnxs\u001b[0m/                       Si_45.0-54.0_100K.sh    Si_8.0,9.0,10.0_100K.sh\r\n",
      "\u001b[01;34mscripts\u001b[0m/                   Si_5.0-14.0_100K.sh     Si_85.0-90.0_100K.sh\r\n",
      "Si_11.0,12.0,13.0_100K.sh  Si_-5.0-4.0_100K.sh     sim.yml\r\n",
      "Si_14.0,80.0_100K.sh       Si_5.0,6.0,7.0_100K.sh  slice_111.yml\r\n",
      "Si_15.0-24.0_100K.sh       Si_55.0-64.0_100K.sh    \u001b[01;34mtemplate\u001b[0m/\r\n"
     ]
    }
   ],
   "source": [
    "ls"
   ]
  },
  {
   "cell_type": "code",
   "execution_count": 32,
   "metadata": {
    "collapsed": false
   },
   "outputs": [
    {
     "name": "stdout",
     "output_type": "stream",
     "text": [
      "/home/lj7/miniconda2/envs/dev-mcvine/lib/python2.7/site-packages/mantid/kernel/__init__.py:14: RuntimeWarning: to-Python converter for std::vector<int, std::allocator<int> > already registered; second conversion method ignored.\n",
      "  from ._kernel import *\n",
      "/home/lj7/miniconda2/envs/dev-mcvine/lib/python2.7/site-packages/mantid/kernel/__init__.py:14: RuntimeWarning: to-Python converter for std::vector<double, std::allocator<double> > already registered; second conversion method ignored.\n",
      "  from ._kernel import *\n",
      "1702.32user 1084.04system 10:48.14elapsed 429%CPU (0avgtext+0avgdata 69308844maxresident)k\n",
      "24182440inputs+2960outputs (0major+100082056minor)pagefaults 0swaps\n"
     ]
    }
   ],
   "source": [
    "!time mcvine workflow sxr slice \\\n",
    "    --sample {local_workdir}/Si.yml \\\n",
    "    --psi-axis -5 90.1 1. \\\n",
    "    --nxs nxs/reduced_%s.nxs \\\n",
    "    --slice slice_111.yml \\\n",
    "    --out slice_111.nxs \\\n",
    "    > log.slice_111"
   ]
  },
  {
   "cell_type": "code",
   "execution_count": 33,
   "metadata": {
    "collapsed": false
   },
   "outputs": [
    {
     "name": "stdout",
     "output_type": "stream",
     "text": [
      "/home/lj7/miniconda2/envs/dev-mcvine/lib/python2.7/site-packages/mantid/kernel/__init__.py:14: RuntimeWarning: to-Python converter for std::vector<int, std::allocator<int> > already registered; second conversion method ignored.\n",
      "  from ._kernel import *\n",
      "/home/lj7/miniconda2/envs/dev-mcvine/lib/python2.7/site-packages/mantid/kernel/__init__.py:14: RuntimeWarning: to-Python converter for std::vector<double, std::allocator<double> > already registered; second conversion method ignored.\n",
      "  from ._kernel import *\n",
      "FrameworkManager-[Notice] Welcome to Mantid 3.7.20160804.1513\n",
      "FrameworkManager-[Notice] Please cite: http://dx.doi.org/10.1016/j.nima.2014.07.029 and this release: http://dx.doi.org/10.5286/Software/Mantid\n",
      "DownloadInstrument-[Notice] All instrument definitions up to date\n",
      "Load-[Notice] Load started\n",
      "Load-[Notice] Load successful, Duration 0.74 seconds\n"
     ]
    }
   ],
   "source": [
    "# convert slice nexus to slice histogram\n",
    "!mcvine workflow sxr slice2hist slice_111.nxs slice_111.h5"
   ]
  },
  {
   "cell_type": "code",
   "execution_count": 36,
   "metadata": {
    "collapsed": false,
    "scrolled": true
   },
   "outputs": [
    {
     "name": "stdout",
     "output_type": "stream",
     "text": [
      "plot z in (0, 3e-06)\n"
     ]
    },
    {
     "data": {
      "image/png": "[encoded data removed]",
      "text/plain": [
       "<matplotlib.figure.Figure at 0x7fcfb50be190>"
      ]
     },
     "metadata": {},
     "output_type": "display_data"
    }
   ],
   "source": [
    "# plot\n",
    "H.plot(hh.load(\"./slice_111.h5\"), min=0, max=3e-6)"
   ]
  },
  {
   "cell_type": "code",
   "execution_count": null,
   "metadata": {
    "collapsed": true
   },
   "outputs": [],
   "source": []
  }
 ],
 "metadata": {
  "kernelspec": {
   "display_name": "Python 2",
   "language": "python",
   "name": "python2"
  },
  "language_info": {
   "codemirror_mode": {
    "name": "ipython",
    "version": 2
   },
   "file_extension": ".py",
   "mimetype": "text/x-python",
   "name": "python",
   "nbconvert_exporter": "python",
   "pygments_lexer": "ipython2",
   "version": "2.7.12"
  }
 },
 "nbformat": 4,
 "nbformat_minor": 0
}
