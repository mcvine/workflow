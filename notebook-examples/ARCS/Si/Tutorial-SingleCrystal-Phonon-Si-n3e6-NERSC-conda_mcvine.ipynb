{
 "cells": [
  {
   "cell_type": "markdown",
   "metadata": {},
   "source": [
    "# Simulation of Phonon Scattering in Single Crystal Silicon"
   ]
  },
  {
   "cell_type": "markdown",
   "metadata": {},
   "source": [
    "Instrument: ARCS\n",
    "* Ei=100meV\n",
    "* Fermi chopper: 600 Hz\n",
    "* T0: 120Hz\n",
    " \n",
    "Sample: silicon\n"
   ]
  },
  {
   "cell_type": "markdown",
   "metadata": {},
   "source": [
    "## Step 0. some goodies"
   ]
  },
  {
   "cell_type": "code",
   "execution_count": 1,
   "metadata": {
    "collapsed": false
   },
   "outputs": [
    {
     "name": "stderr",
     "output_type": "stream",
     "text": [
      "/home/lj7/anaconda2/envs/mcvine/lib/python2.7/site-packages/matplotlib/font_manager.py:273: UserWarning: Matplotlib is building the font cache using fc-list. This may take a moment.\n",
      "  warnings.warn('Matplotlib is building the font cache using fc-list. This may take a moment.')\n"
     ]
    }
   ],
   "source": [
    "%matplotlib notebook\n",
    "from matplotlib import pyplot as plt\n",
    "import numpy as np\n",
    "import histogram.hdf as hh, histogram as H"
   ]
  },
  {
   "cell_type": "code",
   "execution_count": 2,
   "metadata": {
    "collapsed": false
   },
   "outputs": [
    {
     "name": "stdout",
     "output_type": "stream",
     "text": [
      "/home/lj7/dv/mcvine/training/ARCS\n"
     ]
    }
   ],
   "source": [
    "# where am I?\n",
    "import os\n",
    "PWD=os.path.abspath(\".\")\n",
    "print PWD\n",
    "# It should be the directory where this jupyter notebook is"
   ]
  },
  {
   "cell_type": "markdown",
   "metadata": {},
   "source": [
    "## Step 1. Create dir structure"
   ]
  },
  {
   "cell_type": "code",
   "execution_count": 2,
   "metadata": {
    "collapsed": true
   },
   "outputs": [],
   "source": [
    "# Create a working directory for the simulation\n",
    "# Change the following line to your own directory!!!\n",
    "# This directory should not exist yet. It will be created later.\n",
    "workdir = \"/SNS/users/lj7/simulations/ARCS/Si/08042016/100K-nersc-edison\""
   ]
  },
  {
   "cell_type": "code",
   "execution_count": 5,
   "metadata": {
    "collapsed": true
   },
   "outputs": [],
   "source": [
    "# Prepare sample description.\n",
    "# It will be used to generate files for the simulation\n",
    "# and will be used in reduction and analysis"
   ]
  },
  {
   "cell_type": "code",
   "execution_count": 6,
   "metadata": {
    "collapsed": false
   },
   "outputs": [
    {
     "name": "stdout",
     "output_type": "stream",
     "text": [
      "Writing Si.yml\n"
     ]
    }
   ],
   "source": [
    "%%file Si.yml\n",
    "name: Si\n",
    "chemical_formula: Si2\n",
    "lattice: \n",
    " constants: 5.490700041, 5.490700041, 5.490700041, 90, 90, 90\n",
    " basis_vectors:\n",
    "  - 5.490700041, 0, 0\n",
    "  - 0, 5.490700041, 0\n",
    "  - 0, 0, 5.490700041\n",
    " primitive_basis_vectors:\n",
    "  - 0.0, 2.71526503565, 2.71526503565\n",
    "  - 2.71526503565, 0.0, 2.71526503565\n",
    "  - 2.71526503565, 2.71526503565, 0.0\n",
    "excitations:\n",
    " - type: phonon\n",
    "   idf_dir: /SNS/users/linjiao/simulations/samples/Si/April2016-TSeries/100K-50cube\n",
    "orientation:\n",
    " u: -1, 1, -1\n",
    " v: 2, 1, -1\n",
    "shape: hollowCylinder in_radius=\"5./8*inch\" out_radius=\"1.*inch\" height=\"1.5*inch\"\n",
    "temperature: 100*K"
   ]
  },
  {
   "cell_type": "code",
   "execution_count": 7,
   "metadata": {
    "collapsed": true
   },
   "outputs": [],
   "source": [
    "# let mcvine workflow scaffolding helps you build the simulation directory"
   ]
  },
  {
   "cell_type": "code",
   "execution_count": 12,
   "metadata": {
    "collapsed": false
   },
   "outputs": [
    {
     "name": "stdout",
     "output_type": "stream",
     "text": [
      "/home/lj7/anaconda2/envs/mcvine/lib/python2.7/site-packages/mcvine/deployment_info.py:41: UserWarning: Neither environment variable MCVINE_DIR nor DANSE_DIR was defined. Assumed that it is /home/lj7/anaconda2/envs/mcvine.\r\n",
      "  warnings.warn(msg)\r\n"
     ]
    }
   ],
   "source": [
    "!mcvine workflow singlecrystal --outdir={workdir} --type=DGS \\\n",
    "    --instrument=ARCS --sample=Si.yml"
   ]
  },
  {
   "cell_type": "code",
   "execution_count": 28,
   "metadata": {
    "collapsed": false
   },
   "outputs": [
    {
     "name": "stdout",
     "output_type": "stream",
     "text": [
      "/SNS/users/lj7/simulations/ARCS/Si/08042016/100K-nersc-edison\n"
     ]
    }
   ],
   "source": [
    "# change to local working directory\n",
    "%cd {workdir}"
   ]
  },
  {
   "cell_type": "code",
   "execution_count": 14,
   "metadata": {
    "collapsed": false
   },
   "outputs": [
    {
     "name": "stdout",
     "output_type": "stream",
     "text": [
      "beam  README.md  sampleassembly  scattering\r\n"
     ]
    }
   ],
   "source": [
    "# list dir contents\n",
    "!ls ."
   ]
  },
  {
   "cell_type": "code",
   "execution_count": 15,
   "metadata": {
    "collapsed": true
   },
   "outputs": [],
   "source": [
    "# move sample yml file here\n",
    "!mv {PWD}/Si.yml ."
   ]
  },
  {
   "cell_type": "code",
   "execution_count": 16,
   "metadata": {
    "collapsed": false
   },
   "outputs": [
    {
     "name": "stdout",
     "output_type": "stream",
     "text": [
      "beam  README.md  sampleassembly  scattering  Si.yml\r\n"
     ]
    }
   ],
   "source": [
    "!ls ."
   ]
  },
  {
   "cell_type": "markdown",
   "metadata": {},
   "source": [
    "## Step 2. Setup beam simulation"
   ]
  },
  {
   "cell_type": "code",
   "execution_count": 18,
   "metadata": {
    "collapsed": true
   },
   "outputs": [],
   "source": [
    "# In this example we won't simulate a new beam but will reuse an existing beam\n",
    "# First remove the beam dir\n",
    "# !!! Be very careful with rm -rf !!!\n",
    "!rm -rf beam\n",
    "# Then make a symlink\n",
    "!ln -s /SNS/users/lj7/simulations/ARCS/beam/100meV beam"
   ]
  },
  {
   "cell_type": "code",
   "execution_count": 19,
   "metadata": {
    "collapsed": false
   },
   "outputs": [
    {
     "name": "stdout",
     "output_type": "stream",
     "text": [
      "total 20\r\n",
      "lrwxrwxrwx 1 lj7 users  43 Aug  4 08:45 \u001b[0m\u001b[01;36mbeam\u001b[0m -> \u001b[01;34m/SNS/users/lj7/simulations/ARCS/beam/100meV\u001b[0m/\r\n",
      "-rw-r--r-- 1 lj7 users  73 Aug  1 20:12 README.md\r\n",
      "drwxr-xr-x 1 lj7 users  83 Aug  4 08:43 \u001b[01;34msampleassembly\u001b[0m/\r\n",
      "drwxr-xr-x 1 lj7 users  47 Aug  4 08:42 \u001b[01;34mscattering\u001b[0m/\r\n",
      "-rw-r--r-- 1 lj7 users 579 Aug  4 08:39 Si.yml\r\n"
     ]
    }
   ],
   "source": [
    "ls -l {workdir}"
   ]
  },
  {
   "cell_type": "code",
   "execution_count": 20,
   "metadata": {
    "collapsed": false
   },
   "outputs": [
    {
     "data": {
      "application/javascript": [
       "/* Put everything inside the global mpl namespace */\n",
       "window.mpl = {};\n",
       "\n",
       "mpl.get_websocket_type = function() {\n",
       "    if (typeof(WebSocket) !== 'undefined') {\n",
       "        return WebSocket;\n",
       "    } else if (typeof(MozWebSocket) !== 'undefined') {\n",
       "        return MozWebSocket;\n",
       "    } else {\n",
       "        alert('Your browser does not have WebSocket support.' +\n",
       "              'Please try Chrome, Safari or Firefox ≥ 6. ' +\n",
       "              'Firefox 4 and 5 are also supported but you ' +\n",
       "              'have to enable WebSockets in about:config.');\n",
       "    };\n",
       "}\n",
       "\n",
       "mpl.figure = function(figure_id, websocket, ondownload, parent_element) {\n",
       "    this.id = figure_id;\n",
       "\n",
       "    this.ws = websocket;\n",
       "\n",
       "    this.supports_binary = (this.ws.binaryType != undefined);\n",
       "\n",
       "    if (!this.supports_binary) {\n",
       "        var warnings = document.getElementById(\"mpl-warnings\");\n",
       "        if (warnings) {\n",
       "            warnings.style.display = 'block';\n",
       "            warnings.textContent = (\n",
       "                \"This browser does not support binary websocket messages. \" +\n",
       "                    \"Performance may be slow.\");\n",
       "        }\n",
       "    }\n",
       "\n",
       "    this.imageObj = new Image();\n",
       "\n",
       "    this.context = undefined;\n",
       "    this.message = undefined;\n",
       "    this.canvas = undefined;\n",
       "    this.rubberband_canvas = undefined;\n",
       "    this.rubberband_context = undefined;\n",
       "    this.format_dropdown = undefined;\n",
       "\n",
       "    this.image_mode = 'full';\n",
       "\n",
       "    this.root = $('<div/>');\n",
       "    this._root_extra_style(this.root)\n",
       "    this.root.attr('style', 'display: inline-block');\n",
       "\n",
       "    $(parent_element).append(this.root);\n",
       "\n",
       "    this._init_header(this);\n",
       "    this._init_canvas(this);\n",
       "    this._init_toolbar(this);\n",
       "\n",
       "    var fig = this;\n",
       "\n",
       "    this.waiting = false;\n",
       "\n",
       "    this.ws.onopen =  function () {\n",
       "            fig.send_message(\"supports_binary\", {value: fig.supports_binary});\n",
       "            fig.send_message(\"send_image_mode\", {});\n",
       "            fig.send_message(\"refresh\", {});\n",
       "        }\n",
       "\n",
       "    this.imageObj.onload = function() {\n",
       "            if (fig.image_mode == 'full') {\n",
       "                // Full images could contain transparency (where diff images\n",
       "                // almost always do), so we need to clear the canvas so that\n",
       "                // there is no ghosting.\n",
       "                fig.context.clearRect(0, 0, fig.canvas.width, fig.canvas.height);\n",
       "            }\n",
       "            fig.context.drawImage(fig.imageObj, 0, 0);\n",
       "        };\n",
       "\n",
       "    this.imageObj.onunload = function() {\n",
       "        this.ws.close();\n",
       "    }\n",
       "\n",
       "    this.ws.onmessage = this._make_on_message_function(this);\n",
       "\n",
       "    this.ondownload = ondownload;\n",
       "}\n",
       "\n",
       "mpl.figure.prototype._init_header = function() {\n",
       "    var titlebar = $(\n",
       "        '<div class=\"ui-dialog-titlebar ui-widget-header ui-corner-all ' +\n",
       "        'ui-helper-clearfix\"/>');\n",
       "    var titletext = $(\n",
       "        '<div class=\"ui-dialog-title\" style=\"width: 100%; ' +\n",
       "        'text-align: center; padding: 3px;\"/>');\n",
       "    titlebar.append(titletext)\n",
       "    this.root.append(titlebar);\n",
       "    this.header = titletext[0];\n",
       "}\n",
       "\n",
       "\n",
       "\n",
       "mpl.figure.prototype._canvas_extra_style = function(canvas_div) {\n",
       "\n",
       "}\n",
       "\n",
       "\n",
       "mpl.figure.prototype._root_extra_style = function(canvas_div) {\n",
       "\n",
       "}\n",
       "\n",
       "mpl.figure.prototype._init_canvas = function() {\n",
       "    var fig = this;\n",
       "\n",
       "    var canvas_div = $('<div/>');\n",
       "\n",
       "    canvas_div.attr('style', 'position: relative; clear: both; outline: 0');\n",
       "\n",
       "    function canvas_keyboard_event(event) {\n",
       "        return fig.key_event(event, event['data']);\n",
       "    }\n",
       "\n",
       "    canvas_div.keydown('key_press', canvas_keyboard_event);\n",
       "    canvas_div.keyup('key_release', canvas_keyboard_event);\n",
       "    this.canvas_div = canvas_div\n",
       "    this._canvas_extra_style(canvas_div)\n",
       "    this.root.append(canvas_div);\n",
       "\n",
       "    var canvas = $('<canvas/>');\n",
       "    canvas.addClass('mpl-canvas');\n",
       "    canvas.attr('style', \"left: 0; top: 0; z-index: 0; outline: 0\")\n",
       "\n",
       "    this.canvas = canvas[0];\n",
       "    this.context = canvas[0].getContext(\"2d\");\n",
       "\n",
       "    var rubberband = $('<canvas/>');\n",
       "    rubberband.attr('style', \"position: absolute; left: 0; top: 0; z-index: 1;\")\n",
       "\n",
       "    var pass_mouse_events = true;\n",
       "\n",
       "    canvas_div.resizable({\n",
       "        start: function(event, ui) {\n",
       "            pass_mouse_events = false;\n",
       "        },\n",
       "        resize: function(event, ui) {\n",
       "            fig.request_resize(ui.size.width, ui.size.height);\n",
       "        },\n",
       "        stop: function(event, ui) {\n",
       "            pass_mouse_events = true;\n",
       "            fig.request_resize(ui.size.width, ui.size.height);\n",
       "        },\n",
       "    });\n",
       "\n",
       "    function mouse_event_fn(event) {\n",
       "        if (pass_mouse_events)\n",
       "            return fig.mouse_event(event, event['data']);\n",
       "    }\n",
       "\n",
       "    rubberband.mousedown('button_press', mouse_event_fn);\n",
       "    rubberband.mouseup('button_release', mouse_event_fn);\n",
       "    // Throttle sequential mouse events to 1 every 20ms.\n",
       "    rubberband.mousemove('motion_notify', mouse_event_fn);\n",
       "\n",
       "    rubberband.mouseenter('figure_enter', mouse_event_fn);\n",
       "    rubberband.mouseleave('figure_leave', mouse_event_fn);\n",
       "\n",
       "    canvas_div.on(\"wheel\", function (event) {\n",
       "        event = event.originalEvent;\n",
       "        event['data'] = 'scroll'\n",
       "        if (event.deltaY < 0) {\n",
       "            event.step = 1;\n",
       "        } else {\n",
       "            event.step = -1;\n",
       "        }\n",
       "        mouse_event_fn(event);\n",
       "    });\n",
       "\n",
       "    canvas_div.append(canvas);\n",
       "    canvas_div.append(rubberband);\n",
       "\n",
       "    this.rubberband = rubberband;\n",
       "    this.rubberband_canvas = rubberband[0];\n",
       "    this.rubberband_context = rubberband[0].getContext(\"2d\");\n",
       "    this.rubberband_context.strokeStyle = \"#000000\";\n",
       "\n",
       "    this._resize_canvas = function(width, height) {\n",
       "        // Keep the size of the canvas, canvas container, and rubber band\n",
       "        // canvas in synch.\n",
       "        canvas_div.css('width', width)\n",
       "        canvas_div.css('height', height)\n",
       "\n",
       "        canvas.attr('width', width);\n",
       "        canvas.attr('height', height);\n",
       "\n",
       "        rubberband.attr('width', width);\n",
       "        rubberband.attr('height', height);\n",
       "    }\n",
       "\n",
       "    // Set the figure to an initial 600x600px, this will subsequently be updated\n",
       "    // upon first draw.\n",
       "    this._resize_canvas(600, 600);\n",
       "\n",
       "    // Disable right mouse context menu.\n",
       "    $(this.rubberband_canvas).bind(\"contextmenu\",function(e){\n",
       "        return false;\n",
       "    });\n",
       "\n",
       "    function set_focus () {\n",
       "        canvas.focus();\n",
       "        canvas_div.focus();\n",
       "    }\n",
       "\n",
       "    window.setTimeout(set_focus, 100);\n",
       "}\n",
       "\n",
       "mpl.figure.prototype._init_toolbar = function() {\n",
       "    var fig = this;\n",
       "\n",
       "    var nav_element = $('<div/>')\n",
       "    nav_element.attr('style', 'width: 100%');\n",
       "    this.root.append(nav_element);\n",
       "\n",
       "    // Define a callback function for later on.\n",
       "    function toolbar_event(event) {\n",
       "        return fig.toolbar_button_onclick(event['data']);\n",
       "    }\n",
       "    function toolbar_mouse_event(event) {\n",
       "        return fig.toolbar_button_onmouseover(event['data']);\n",
       "    }\n",
       "\n",
       "    for(var toolbar_ind in mpl.toolbar_items) {\n",
       "        var name = mpl.toolbar_items[toolbar_ind][0];\n",
       "        var tooltip = mpl.toolbar_items[toolbar_ind][1];\n",
       "        var image = mpl.toolbar_items[toolbar_ind][2];\n",
       "        var method_name = mpl.toolbar_items[toolbar_ind][3];\n",
       "\n",
       "        if (!name) {\n",
       "            // put a spacer in here.\n",
       "            continue;\n",
       "        }\n",
       "        var button = $('<button/>');\n",
       "        button.addClass('ui-button ui-widget ui-state-default ui-corner-all ' +\n",
       "                        'ui-button-icon-only');\n",
       "        button.attr('role', 'button');\n",
       "        button.attr('aria-disabled', 'false');\n",
       "        button.click(method_name, toolbar_event);\n",
       "        button.mouseover(tooltip, toolbar_mouse_event);\n",
       "\n",
       "        var icon_img = $('<span/>');\n",
       "        icon_img.addClass('ui-button-icon-primary ui-icon');\n",
       "        icon_img.addClass(image);\n",
       "        icon_img.addClass('ui-corner-all');\n",
       "\n",
       "        var tooltip_span = $('<span/>');\n",
       "        tooltip_span.addClass('ui-button-text');\n",
       "        tooltip_span.html(tooltip);\n",
       "\n",
       "        button.append(icon_img);\n",
       "        button.append(tooltip_span);\n",
       "\n",
       "        nav_element.append(button);\n",
       "    }\n",
       "\n",
       "    var fmt_picker_span = $('<span/>');\n",
       "\n",
       "    var fmt_picker = $('<select/>');\n",
       "    fmt_picker.addClass('mpl-toolbar-option ui-widget ui-widget-content');\n",
       "    fmt_picker_span.append(fmt_picker);\n",
       "    nav_element.append(fmt_picker_span);\n",
       "    this.format_dropdown = fmt_picker[0];\n",
       "\n",
       "    for (var ind in mpl.extensions) {\n",
       "        var fmt = mpl.extensions[ind];\n",
       "        var option = $(\n",
       "            '<option/>', {selected: fmt === mpl.default_extension}).html(fmt);\n",
       "        fmt_picker.append(option)\n",
       "    }\n",
       "\n",
       "    // Add hover states to the ui-buttons\n",
       "    $( \".ui-button\" ).hover(\n",
       "        function() { $(this).addClass(\"ui-state-hover\");},\n",
       "        function() { $(this).removeClass(\"ui-state-hover\");}\n",
       "    );\n",
       "\n",
       "    var status_bar = $('<span class=\"mpl-message\"/>');\n",
       "    nav_element.append(status_bar);\n",
       "    this.message = status_bar[0];\n",
       "}\n",
       "\n",
       "mpl.figure.prototype.request_resize = function(x_pixels, y_pixels) {\n",
       "    // Request matplotlib to resize the figure. Matplotlib will then trigger a resize in the client,\n",
       "    // which will in turn request a refresh of the image.\n",
       "    this.send_message('resize', {'width': x_pixels, 'height': y_pixels});\n",
       "}\n",
       "\n",
       "mpl.figure.prototype.send_message = function(type, properties) {\n",
       "    properties['type'] = type;\n",
       "    properties['figure_id'] = this.id;\n",
       "    this.ws.send(JSON.stringify(properties));\n",
       "}\n",
       "\n",
       "mpl.figure.prototype.send_draw_message = function() {\n",
       "    if (!this.waiting) {\n",
       "        this.waiting = true;\n",
       "        this.ws.send(JSON.stringify({type: \"draw\", figure_id: this.id}));\n",
       "    }\n",
       "}\n",
       "\n",
       "\n",
       "mpl.figure.prototype.handle_save = function(fig, msg) {\n",
       "    var format_dropdown = fig.format_dropdown;\n",
       "    var format = format_dropdown.options[format_dropdown.selectedIndex].value;\n",
       "    fig.ondownload(fig, format);\n",
       "}\n",
       "\n",
       "\n",
       "mpl.figure.prototype.handle_resize = function(fig, msg) {\n",
       "    var size = msg['size'];\n",
       "    if (size[0] != fig.canvas.width || size[1] != fig.canvas.height) {\n",
       "        fig._resize_canvas(size[0], size[1]);\n",
       "        fig.send_message(\"refresh\", {});\n",
       "    };\n",
       "}\n",
       "\n",
       "mpl.figure.prototype.handle_rubberband = function(fig, msg) {\n",
       "    var x0 = msg['x0'];\n",
       "    var y0 = fig.canvas.height - msg['y0'];\n",
       "    var x1 = msg['x1'];\n",
       "    var y1 = fig.canvas.height - msg['y1'];\n",
       "    x0 = Math.floor(x0) + 0.5;\n",
       "    y0 = Math.floor(y0) + 0.5;\n",
       "    x1 = Math.floor(x1) + 0.5;\n",
       "    y1 = Math.floor(y1) + 0.5;\n",
       "    var min_x = Math.min(x0, x1);\n",
       "    var min_y = Math.min(y0, y1);\n",
       "    var width = Math.abs(x1 - x0);\n",
       "    var height = Math.abs(y1 - y0);\n",
       "\n",
       "    fig.rubberband_context.clearRect(\n",
       "        0, 0, fig.canvas.width, fig.canvas.height);\n",
       "\n",
       "    fig.rubberband_context.strokeRect(min_x, min_y, width, height);\n",
       "}\n",
       "\n",
       "mpl.figure.prototype.handle_figure_label = function(fig, msg) {\n",
       "    // Updates the figure title.\n",
       "    fig.header.textContent = msg['label'];\n",
       "}\n",
       "\n",
       "mpl.figure.prototype.handle_cursor = function(fig, msg) {\n",
       "    var cursor = msg['cursor'];\n",
       "    switch(cursor)\n",
       "    {\n",
       "    case 0:\n",
       "        cursor = 'pointer';\n",
       "        break;\n",
       "    case 1:\n",
       "        cursor = 'default';\n",
       "        break;\n",
       "    case 2:\n",
       "        cursor = 'crosshair';\n",
       "        break;\n",
       "    case 3:\n",
       "        cursor = 'move';\n",
       "        break;\n",
       "    }\n",
       "    fig.rubberband_canvas.style.cursor = cursor;\n",
       "}\n",
       "\n",
       "mpl.figure.prototype.handle_message = function(fig, msg) {\n",
       "    fig.message.textContent = msg['message'];\n",
       "}\n",
       "\n",
       "mpl.figure.prototype.handle_draw = function(fig, msg) {\n",
       "    // Request the server to send over a new figure.\n",
       "    fig.send_draw_message();\n",
       "}\n",
       "\n",
       "mpl.figure.prototype.handle_image_mode = function(fig, msg) {\n",
       "    fig.image_mode = msg['mode'];\n",
       "}\n",
       "\n",
       "mpl.figure.prototype.updated_canvas_event = function() {\n",
       "    // Called whenever the canvas gets updated.\n",
       "    this.send_message(\"ack\", {});\n",
       "}\n",
       "\n",
       "// A function to construct a web socket function for onmessage handling.\n",
       "// Called in the figure constructor.\n",
       "mpl.figure.prototype._make_on_message_function = function(fig) {\n",
       "    return function socket_on_message(evt) {\n",
       "        if (evt.data instanceof Blob) {\n",
       "            /* FIXME: We get \"Resource interpreted as Image but\n",
       "             * transferred with MIME type text/plain:\" errors on\n",
       "             * Chrome.  But how to set the MIME type?  It doesn't seem\n",
       "             * to be part of the websocket stream */\n",
       "            evt.data.type = \"image/png\";\n",
       "\n",
       "            /* Free the memory for the previous frames */\n",
       "            if (fig.imageObj.src) {\n",
       "                (window.URL || window.webkitURL).revokeObjectURL(\n",
       "                    fig.imageObj.src);\n",
       "            }\n",
       "\n",
       "            fig.imageObj.src = (window.URL || window.webkitURL).createObjectURL(\n",
       "                evt.data);\n",
       "            fig.updated_canvas_event();\n",
       "            fig.waiting = false;\n",
       "            return;\n",
       "        }\n",
       "        else if (typeof evt.data === 'string' && evt.data.slice(0, 21) == \"data:image/png;base64\") {\n",
       "            fig.imageObj.src = evt.data;\n",
       "            fig.updated_canvas_event();\n",
       "            fig.waiting = false;\n",
       "            return;\n",
       "        }\n",
       "\n",
       "        var msg = JSON.parse(evt.data);\n",
       "        var msg_type = msg['type'];\n",
       "\n",
       "        // Call the  \"handle_{type}\" callback, which takes\n",
       "        // the figure and JSON message as its only arguments.\n",
       "        try {\n",
       "            var callback = fig[\"handle_\" + msg_type];\n",
       "        } catch (e) {\n",
       "            console.log(\"No handler for the '\" + msg_type + \"' message type: \", msg);\n",
       "            return;\n",
       "        }\n",
       "\n",
       "        if (callback) {\n",
       "            try {\n",
       "                // console.log(\"Handling '\" + msg_type + \"' message: \", msg);\n",
       "                callback(fig, msg);\n",
       "            } catch (e) {\n",
       "                console.log(\"Exception inside the 'handler_\" + msg_type + \"' callback:\", e, e.stack, msg);\n",
       "            }\n",
       "        }\n",
       "    };\n",
       "}\n",
       "\n",
       "// from http://stackoverflow.com/questions/1114465/getting-mouse-location-in-canvas\n",
       "mpl.findpos = function(e) {\n",
       "    //this section is from http://www.quirksmode.org/js/events_properties.html\n",
       "    var targ;\n",
       "    if (!e)\n",
       "        e = window.event;\n",
       "    if (e.target)\n",
       "        targ = e.target;\n",
       "    else if (e.srcElement)\n",
       "        targ = e.srcElement;\n",
       "    if (targ.nodeType == 3) // defeat Safari bug\n",
       "        targ = targ.parentNode;\n",
       "\n",
       "    // jQuery normalizes the pageX and pageY\n",
       "    // pageX,Y are the mouse positions relative to the document\n",
       "    // offset() returns the position of the element relative to the document\n",
       "    var x = e.pageX - $(targ).offset().left;\n",
       "    var y = e.pageY - $(targ).offset().top;\n",
       "\n",
       "    return {\"x\": x, \"y\": y};\n",
       "};\n",
       "\n",
       "/*\n",
       " * return a copy of an object with only non-object keys\n",
       " * we need this to avoid circular references\n",
       " * http://stackoverflow.com/a/24161582/3208463\n",
       " */\n",
       "function simpleKeys (original) {\n",
       "  return Object.keys(original).reduce(function (obj, key) {\n",
       "    if (typeof original[key] !== 'object')\n",
       "        obj[key] = original[key]\n",
       "    return obj;\n",
       "  }, {});\n",
       "}\n",
       "\n",
       "mpl.figure.prototype.mouse_event = function(event, name) {\n",
       "    var canvas_pos = mpl.findpos(event)\n",
       "\n",
       "    if (name === 'button_press')\n",
       "    {\n",
       "        this.canvas.focus();\n",
       "        this.canvas_div.focus();\n",
       "    }\n",
       "\n",
       "    var x = canvas_pos.x;\n",
       "    var y = canvas_pos.y;\n",
       "\n",
       "    this.send_message(name, {x: x, y: y, button: event.button,\n",
       "                             step: event.step,\n",
       "                             guiEvent: simpleKeys(event)});\n",
       "\n",
       "    /* This prevents the web browser from automatically changing to\n",
       "     * the text insertion cursor when the button is pressed.  We want\n",
       "     * to control all of the cursor setting manually through the\n",
       "     * 'cursor' event from matplotlib */\n",
       "    event.preventDefault();\n",
       "    return false;\n",
       "}\n",
       "\n",
       "mpl.figure.prototype._key_event_extra = function(event, name) {\n",
       "    // Handle any extra behaviour associated with a key event\n",
       "}\n",
       "\n",
       "mpl.figure.prototype.key_event = function(event, name) {\n",
       "\n",
       "    // Prevent repeat events\n",
       "    if (name == 'key_press')\n",
       "    {\n",
       "        if (event.which === this._key)\n",
       "            return;\n",
       "        else\n",
       "            this._key = event.which;\n",
       "    }\n",
       "    if (name == 'key_release')\n",
       "        this._key = null;\n",
       "\n",
       "    var value = '';\n",
       "    if (event.ctrlKey && event.which != 17)\n",
       "        value += \"ctrl+\";\n",
       "    if (event.altKey && event.which != 18)\n",
       "        value += \"alt+\";\n",
       "    if (event.shiftKey && event.which != 16)\n",
       "        value += \"shift+\";\n",
       "\n",
       "    value += 'k';\n",
       "    value += event.which.toString();\n",
       "\n",
       "    this._key_event_extra(event, name);\n",
       "\n",
       "    this.send_message(name, {key: value,\n",
       "                             guiEvent: simpleKeys(event)});\n",
       "    return false;\n",
       "}\n",
       "\n",
       "mpl.figure.prototype.toolbar_button_onclick = function(name) {\n",
       "    if (name == 'download') {\n",
       "        this.handle_save(this, null);\n",
       "    } else {\n",
       "        this.send_message(\"toolbar_button\", {name: name});\n",
       "    }\n",
       "};\n",
       "\n",
       "mpl.figure.prototype.toolbar_button_onmouseover = function(tooltip) {\n",
       "    this.message.textContent = tooltip;\n",
       "};\n",
       "mpl.toolbar_items = [[\"Home\", \"Reset original view\", \"fa fa-home icon-home\", \"home\"], [\"Back\", \"Back to  previous view\", \"fa fa-arrow-left icon-arrow-left\", \"back\"], [\"Forward\", \"Forward to next view\", \"fa fa-arrow-right icon-arrow-right\", \"forward\"], [\"\", \"\", \"\", \"\"], [\"Pan\", \"Pan axes with left mouse, zoom with right\", \"fa fa-arrows icon-move\", \"pan\"], [\"Zoom\", \"Zoom to rectangle\", \"fa fa-square-o icon-check-empty\", \"zoom\"], [\"\", \"\", \"\", \"\"], [\"Download\", \"Download plot\", \"fa fa-floppy-o icon-save\", \"download\"]];\n",
       "\n",
       "mpl.extensions = [\"eps\", \"pdf\", \"png\", \"ps\", \"raw\", \"svg\"];\n",
       "\n",
       "mpl.default_extension = \"png\";var comm_websocket_adapter = function(comm) {\n",
       "    // Create a \"websocket\"-like object which calls the given IPython comm\n",
       "    // object with the appropriate methods. Currently this is a non binary\n",
       "    // socket, so there is still some room for performance tuning.\n",
       "    var ws = {};\n",
       "\n",
       "    ws.close = function() {\n",
       "        comm.close()\n",
       "    };\n",
       "    ws.send = function(m) {\n",
       "        //console.log('sending', m);\n",
       "        comm.send(m);\n",
       "    };\n",
       "    // Register the callback with on_msg.\n",
       "    comm.on_msg(function(msg) {\n",
       "        //console.log('receiving', msg['content']['data'], msg);\n",
       "        // Pass the mpl event to the overriden (by mpl) onmessage function.\n",
       "        ws.onmessage(msg['content']['data'])\n",
       "    });\n",
       "    return ws;\n",
       "}\n",
       "\n",
       "mpl.mpl_figure_comm = function(comm, msg) {\n",
       "    // This is the function which gets called when the mpl process\n",
       "    // starts-up an IPython Comm through the \"matplotlib\" channel.\n",
       "\n",
       "    var id = msg.content.data.id;\n",
       "    // Get hold of the div created by the display call when the Comm\n",
       "    // socket was opened in Python.\n",
       "    var element = $(\"#\" + id);\n",
       "    var ws_proxy = comm_websocket_adapter(comm)\n",
       "\n",
       "    function ondownload(figure, format) {\n",
       "        window.open(figure.imageObj.src);\n",
       "    }\n",
       "\n",
       "    var fig = new mpl.figure(id, ws_proxy,\n",
       "                           ondownload,\n",
       "                           element.get(0));\n",
       "\n",
       "    // Call onopen now - mpl needs it, as it is assuming we've passed it a real\n",
       "    // web socket which is closed, not our websocket->open comm proxy.\n",
       "    ws_proxy.onopen();\n",
       "\n",
       "    fig.parent_element = element.get(0);\n",
       "    fig.cell_info = mpl.find_output_cell(\"<div id='\" + id + \"'></div>\");\n",
       "    if (!fig.cell_info) {\n",
       "        console.error(\"Failed to find cell for figure\", id, fig);\n",
       "        return;\n",
       "    }\n",
       "\n",
       "    var output_index = fig.cell_info[2]\n",
       "    var cell = fig.cell_info[0];\n",
       "\n",
       "};\n",
       "\n",
       "mpl.figure.prototype.handle_close = function(fig, msg) {\n",
       "    fig.root.unbind('remove')\n",
       "\n",
       "    // Update the output cell to use the data from the current canvas.\n",
       "    fig.push_to_output();\n",
       "    var dataURL = fig.canvas.toDataURL();\n",
       "    // Re-enable the keyboard manager in IPython - without this line, in FF,\n",
       "    // the notebook keyboard shortcuts fail.\n",
       "    IPython.keyboard_manager.enable()\n",
       "    $(fig.parent_element).html('<img src=\"' + dataURL + '\">');\n",
       "    fig.close_ws(fig, msg);\n",
       "}\n",
       "\n",
       "mpl.figure.prototype.close_ws = function(fig, msg){\n",
       "    fig.send_message('closing', msg);\n",
       "    // fig.ws.close()\n",
       "}\n",
       "\n",
       "mpl.figure.prototype.push_to_output = function(remove_interactive) {\n",
       "    // Turn the data on the canvas into data in the output cell.\n",
       "    var dataURL = this.canvas.toDataURL();\n",
       "    this.cell_info[1]['text/html'] = '<img src=\"' + dataURL + '\">';\n",
       "}\n",
       "\n",
       "mpl.figure.prototype.updated_canvas_event = function() {\n",
       "    // Tell IPython that the notebook contents must change.\n",
       "    IPython.notebook.set_dirty(true);\n",
       "    this.send_message(\"ack\", {});\n",
       "    var fig = this;\n",
       "    // Wait a second, then push the new image to the DOM so\n",
       "    // that it is saved nicely (might be nice to debounce this).\n",
       "    setTimeout(function () { fig.push_to_output() }, 1000);\n",
       "}\n",
       "\n",
       "mpl.figure.prototype._init_toolbar = function() {\n",
       "    var fig = this;\n",
       "\n",
       "    var nav_element = $('<div/>')\n",
       "    nav_element.attr('style', 'width: 100%');\n",
       "    this.root.append(nav_element);\n",
       "\n",
       "    // Define a callback function for later on.\n",
       "    function toolbar_event(event) {\n",
       "        return fig.toolbar_button_onclick(event['data']);\n",
       "    }\n",
       "    function toolbar_mouse_event(event) {\n",
       "        return fig.toolbar_button_onmouseover(event['data']);\n",
       "    }\n",
       "\n",
       "    for(var toolbar_ind in mpl.toolbar_items){\n",
       "        var name = mpl.toolbar_items[toolbar_ind][0];\n",
       "        var tooltip = mpl.toolbar_items[toolbar_ind][1];\n",
       "        var image = mpl.toolbar_items[toolbar_ind][2];\n",
       "        var method_name = mpl.toolbar_items[toolbar_ind][3];\n",
       "\n",
       "        if (!name) { continue; };\n",
       "\n",
       "        var button = $('<button class=\"btn btn-default\" href=\"#\" title=\"' + name + '\"><i class=\"fa ' + image + ' fa-lg\"></i></button>');\n",
       "        button.click(method_name, toolbar_event);\n",
       "        button.mouseover(tooltip, toolbar_mouse_event);\n",
       "        nav_element.append(button);\n",
       "    }\n",
       "\n",
       "    // Add the status bar.\n",
       "    var status_bar = $('<span class=\"mpl-message\" style=\"text-align:right; float: right;\"/>');\n",
       "    nav_element.append(status_bar);\n",
       "    this.message = status_bar[0];\n",
       "\n",
       "    // Add the close button to the window.\n",
       "    var buttongrp = $('<div class=\"btn-group inline pull-right\"></div>');\n",
       "    var button = $('<button class=\"btn btn-mini btn-primary\" href=\"#\" title=\"Stop Interaction\"><i class=\"fa fa-power-off icon-remove icon-large\"></i></button>');\n",
       "    button.click(function (evt) { fig.handle_close(fig, {}); } );\n",
       "    button.mouseover('Stop Interaction', toolbar_mouse_event);\n",
       "    buttongrp.append(button);\n",
       "    var titlebar = this.root.find($('.ui-dialog-titlebar'));\n",
       "    titlebar.prepend(buttongrp);\n",
       "}\n",
       "\n",
       "mpl.figure.prototype._root_extra_style = function(el){\n",
       "    var fig = this\n",
       "    el.on(\"remove\", function(){\n",
       "\tfig.close_ws(fig, {});\n",
       "    });\n",
       "}\n",
       "\n",
       "mpl.figure.prototype._canvas_extra_style = function(el){\n",
       "    // this is important to make the div 'focusable\n",
       "    el.attr('tabindex', 0)\n",
       "    // reach out to IPython and tell the keyboard manager to turn it's self\n",
       "    // off when our div gets focus\n",
       "\n",
       "    // location in version 3\n",
       "    if (IPython.notebook.keyboard_manager) {\n",
       "        IPython.notebook.keyboard_manager.register_events(el);\n",
       "    }\n",
       "    else {\n",
       "        // location in version 2\n",
       "        IPython.keyboard_manager.register_events(el);\n",
       "    }\n",
       "\n",
       "}\n",
       "\n",
       "mpl.figure.prototype._key_event_extra = function(event, name) {\n",
       "    var manager = IPython.notebook.keyboard_manager;\n",
       "    if (!manager)\n",
       "        manager = IPython.keyboard_manager;\n",
       "\n",
       "    // Check for shift+enter\n",
       "    if (event.shiftKey && event.which == 13) {\n",
       "        this.canvas_div.blur();\n",
       "        event.shiftKey = false;\n",
       "        // Send a \"J\" for go to next cell\n",
       "        event.which = 74;\n",
       "        event.keyCode = 74;\n",
       "        manager.command_mode();\n",
       "        manager.handle_keydown(event);\n",
       "    }\n",
       "}\n",
       "\n",
       "mpl.figure.prototype.handle_save = function(fig, msg) {\n",
       "    fig.ondownload(fig, null);\n",
       "}\n",
       "\n",
       "\n",
       "mpl.find_output_cell = function(html_output) {\n",
       "    // Return the cell and output element which can be found *uniquely* in the notebook.\n",
       "    // Note - this is a bit hacky, but it is done because the \"notebook_saving.Notebook\"\n",
       "    // IPython event is triggered only after the cells have been serialised, which for\n",
       "    // our purposes (turning an active figure into a static one), is too late.\n",
       "    var cells = IPython.notebook.get_cells();\n",
       "    var ncells = cells.length;\n",
       "    for (var i=0; i<ncells; i++) {\n",
       "        var cell = cells[i];\n",
       "        if (cell.cell_type === 'code'){\n",
       "            for (var j=0; j<cell.output_area.outputs.length; j++) {\n",
       "                var data = cell.output_area.outputs[j];\n",
       "                if (data.data) {\n",
       "                    // IPython >= 3 moved mimebundle to data attribute of output\n",
       "                    data = data.data;\n",
       "                }\n",
       "                if (data['text/html'] == html_output) {\n",
       "                    return [cell, data, j];\n",
       "                }\n",
       "            }\n",
       "        }\n",
       "    }\n",
       "}\n",
       "\n",
       "// Register the function which deals with the matplotlib target/channel.\n",
       "// The kernel may be null if the page has been refreshed.\n",
       "if (IPython.notebook.kernel != null) {\n",
       "    IPython.notebook.kernel.comm_manager.register_target('matplotlib', mpl.mpl_figure_comm);\n",
       "}\n"
      ],
      "text/plain": [
       "<IPython.core.display.Javascript object>"
      ]
     },
     "metadata": {},
     "output_type": "display_data"
    },
    {
     "data": {
      "text/html": [
       "<img src=\"data:image/png;base64,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\">"
      ],
      "text/plain": [
       "<IPython.core.display.HTML object>"
      ]
     },
     "metadata": {},
     "output_type": "display_data"
    },
    {
     "data": {
      "text/plain": [
       "[<matplotlib.lines.Line2D at 0x7f09d398bc10>]"
      ]
     },
     "execution_count": 20,
     "metadata": {},
     "output_type": "execute_result"
    }
   ],
   "source": [
    "# check beam energy profile\n",
    "import histogram.hdf as hh\n",
    "ie = hh.load(\"beam/out/ienergy.h5\")\n",
    "plt.plot(ie.energy, ie.I)"
   ]
  },
  {
   "cell_type": "markdown",
   "metadata": {},
   "source": [
    "## Step 3. Check and update sample assembly"
   ]
  },
  {
   "cell_type": "code",
   "execution_count": 3,
   "metadata": {
    "collapsed": false
   },
   "outputs": [
    {
     "name": "stdout",
     "output_type": "stream",
     "text": [
      "/SNS/users/lj7/simulations/ARCS/Si/08042016/100K-nersc-edison\n"
     ]
    }
   ],
   "source": [
    "%cd {workdir}"
   ]
  },
  {
   "cell_type": "markdown",
   "metadata": {},
   "source": [
    "** Different from the example in mcvine training material, here we are going to use an existing sample assembly **"
   ]
  },
  {
   "cell_type": "code",
   "execution_count": 22,
   "metadata": {
    "collapsed": true
   },
   "outputs": [],
   "source": [
    "# first move the existing sample assembly to a different name\n",
    "! mv sampleassembly/ sampleassembly-by-mcvine-scaffolding"
   ]
  },
  {
   "cell_type": "code",
   "execution_count": 1,
   "metadata": {
    "collapsed": true
   },
   "outputs": [],
   "source": [
    "# This is where the prebuilt sample assembly is\n",
    "sampleassembly_dir = \"/SNS/users/lj7/simulations/samples/Si/demo/100K\""
   ]
  },
  {
   "cell_type": "code",
   "execution_count": 24,
   "metadata": {
    "collapsed": false
   },
   "outputs": [
    {
     "name": "stdout",
     "output_type": "stream",
     "text": [
      "sending incremental file list\n",
      "created directory sampleassembly\n",
      "./\n",
      ".sampleassembly.xml.swp\n",
      "Si-scatterer.xml\n",
      "Si.xyz\n",
      "sampleassembly.xml\n",
      "Si-phonons/\n",
      "Si-phonons/DOS\n",
      "Si-phonons/FORCE_CONSTANTS\n",
      "Si-phonons/Omega2\n",
      "Si-phonons/POSCAR\n",
      "Si-phonons/Polarizations\n",
      "Si-phonons/Qgridinfo\n",
      "Si-phonons/compute.py\n",
      "Si-phonons/dos-withbroadening.dat\n",
      "Si-phonons/run.sh\n",
      "\n",
      "sent 72,300,929 bytes  received 315 bytes  11,123,268.31 bytes/sec\n",
      "total size is 91,492,002  speedup is 1.27\n"
     ]
    }
   ],
   "source": [
    "# copy it to the working dir\n",
    "!rsync -avzL {sampleassembly_dir}/ sampleassembly/"
   ]
  },
  {
   "cell_type": "code",
   "execution_count": 4,
   "metadata": {
    "collapsed": false
   },
   "outputs": [
    {
     "name": "stdout",
     "output_type": "stream",
     "text": [
      "total 24\r\n",
      "lrwxrwxrwx 1 lj7 users  43 Aug  4 08:45 \u001b[0m\u001b[01;36mbeam\u001b[0m -> \u001b[01;34m/SNS/users/lj7/simulations/ARCS/beam/100meV\u001b[0m/\r\n",
      "-rw-r--r-- 1 lj7 users  73 Aug  1 20:12 README.md\r\n",
      "drwxr-xr-x 1 lj7 users 138 Jun 22 10:23 \u001b[01;34msampleassembly\u001b[0m/\r\n",
      "drwxr-xr-x 1 lj7 users  83 Aug  4 08:43 \u001b[01;34msampleassembly-by-mcvine-scaffolding\u001b[0m/\r\n",
      "drwxr-xr-x 1 lj7 users  47 Aug  4 08:42 \u001b[01;34mscattering\u001b[0m/\r\n",
      "-rw-r--r-- 1 lj7 users 579 Aug  4 08:39 Si.yml\r\n"
     ]
    }
   ],
   "source": [
    "ls -l"
   ]
  },
  {
   "cell_type": "code",
   "execution_count": 36,
   "metadata": {
    "collapsed": false
   },
   "outputs": [],
   "source": [
    "# check sample assembly files\n",
    "#! cat sampleassembly/Si-scatterer.xml\n",
    "#!cat sampleassembly/sampleassembly.xml"
   ]
  },
  {
   "cell_type": "markdown",
   "metadata": {},
   "source": [
    "## Step 4. Scattering sim"
   ]
  },
  {
   "cell_type": "code",
   "execution_count": 5,
   "metadata": {
    "collapsed": false
   },
   "outputs": [
    {
     "name": "stdout",
     "output_type": "stream",
     "text": [
      "/SNS/users/lj7/simulations/ARCS/Si/08042016/100K-nersc-edison/scattering\n"
     ]
    }
   ],
   "source": [
    "%cd \"{workdir}/scattering\""
   ]
  },
  {
   "cell_type": "code",
   "execution_count": 6,
   "metadata": {
    "collapsed": false
   },
   "outputs": [
    {
     "name": "stdout",
     "output_type": "stream",
     "text": [
      "\u001b[0m\u001b[01;34mscripts\u001b[0m/  \u001b[01;34mtemplate\u001b[0m/\r\n"
     ]
    }
   ],
   "source": [
    "ls ."
   ]
  },
  {
   "cell_type": "markdown",
   "metadata": {},
   "source": [
    "### Step 4.1 Staging the simulation files"
   ]
  },
  {
   "cell_type": "code",
   "execution_count": 7,
   "metadata": {
    "collapsed": true
   },
   "outputs": [],
   "source": [
    "# We need both a local work dir and a remote workdir (at nesrc cluster)\n",
    "# Let us be more explicit about that\n",
    "local_workdir = workdir"
   ]
  },
  {
   "cell_type": "code",
   "execution_count": 15,
   "metadata": {
    "collapsed": false
   },
   "outputs": [
    {
     "name": "stdout",
     "output_type": "stream",
     "text": [
      "beam\t   sampleassembly\t\t\t scattering\r\n",
      "README.md  sampleassembly-by-mcvine-scaffolding  Si.yml\r\n"
     ]
    }
   ],
   "source": [
    "!ls {local_workdir}"
   ]
  },
  {
   "cell_type": "code",
   "execution_count": 29,
   "metadata": {
    "collapsed": true
   },
   "outputs": [],
   "source": [
    "cluster = \"edison.nersc.gov\"\n",
    "remote_workdir = \"/scratch2/scratchdirs/linjiao/Si/08042016/T100K\""
   ]
  },
  {
   "cell_type": "code",
   "execution_count": 10,
   "metadata": {
    "collapsed": false
   },
   "outputs": [],
   "source": [
    "# create remote workdir\n",
    "!ssh {cluster} mkdir -p {remote_workdir} 2>/dev/null"
   ]
  },
  {
   "cell_type": "code",
   "execution_count": 14,
   "metadata": {
    "collapsed": false
   },
   "outputs": [],
   "source": [
    "# uncomment the following to check if the remote workdir was created correctly\n",
    "# !ssh {cluster} ls -al {remote_workdir}"
   ]
  },
  {
   "cell_type": "code",
   "execution_count": null,
   "metadata": {
    "collapsed": true
   },
   "outputs": [],
   "source": [
    "# Configuration file for simulation\n",
    "# A node at nersc has 24 cores"
   ]
  },
  {
   "cell_type": "code",
   "execution_count": 16,
   "metadata": {
    "collapsed": false
   },
   "outputs": [
    {
     "name": "stdout",
     "output_type": "stream",
     "text": [
      "Writing /SNS/users/lj7/simulations/ARCS/Si/08042016/100K-nersc-edison/scattering/sim.yml\n"
     ]
    }
   ],
   "source": [
    "%%file {local_workdir}/scattering/sim.yml\n",
    "\n",
    "cluster:\n",
    "  nodes: 24\n",
    "instrument:\n",
    "  name: arcs\n",
    "scatter:\n",
    "  ncount: 1e6\n",
    "  multiple_scattering: off\n",
    "  template: ./template"
   ]
  },
  {
   "cell_type": "code",
   "execution_count": 44,
   "metadata": {
    "collapsed": false
   },
   "outputs": [
    {
     "name": "stdout",
     "output_type": "stream",
     "text": [
      "  \n",
      " *****************************************************************\n",
      " *                                                               *\n",
      " *                      NOTICE TO USERS                          *\n",
      " *                      ---------------                          *\n",
      " *                                                               *\n",
      " *  Lawrence Berkeley National Laboratory operates this          *\n",
      " *  computer system under contract to the U.S. Department of     *\n",
      " *  Energy.  This computer system is the property of the United  *\n",
      " *  States Government and is for authorized use only.  *Users    *\n",
      " *  (authorized or unauthorized) have no explicit or implicit    *\n",
      " *  expectation of privacy.*                                     *\n",
      " *                                                               *\n",
      " *  Any or all uses of this system and all files on this system  *\n",
      " *  may be intercepted, monitored, recorded, copied, audited,    *\n",
      " *  inspected, and disclosed to site, Department of Energy, and  *\n",
      " *  law enforcement personnel, as well as authorized officials   *\n",
      " *  of other agencies, both domestic and foreign.  *By using     *\n",
      " *  this system, the user consents to such interception,         *\n",
      " *  monitoring, recording, copying, auditing, inspection, and    *\n",
      " *  disclosure at the discretion of authorized site or           *\n",
      " *  Department of Energy personnel.*                             *\n",
      " *                                                               *\n",
      " *  *Unauthorized or improper use of this system may result in   *\n",
      " *  administrative disciplinary action and civil and criminal    *\n",
      " *  penalties.  _By continuing to use this system you indicate   *\n",
      " *  your awareness of and consent to these terms and conditions  *\n",
      " *  of use.  LOG OFF IMMEDIATELY if you do not agree to the      *\n",
      " *  conditions stated in this warning._*                         *\n",
      " *                                                               *\n",
      " *****************************************************************\n",
      "\n",
      "sending incremental file list\n",
      "./\n",
      "beam/\n",
      "beam/README.arcs_beam\n",
      "beam/arcs_moderator2sample.pml\n",
      "beam/mcvine-instruments-arcs-analyze_beam.params\n",
      "beam/mcvine-instruments-arcs-beam.params\n",
      "beam/mcvine-instruments-arcs-m2s.params\n",
      "beam/mcvine-instruments-arcs-mod2sample.params\n",
      "beam/mon1-tof.dat\n",
      "beam/mon2-tof.dat\n",
      "beam/run\n",
      "beam/run-m2s.sh\n",
      "beam/_m2sout/\n",
      "beam/_m2sout/mon1-tof.dat\n",
      "beam/_m2sout/mon1-tof.h5\n",
      "beam/_m2sout/mon2-tof.dat\n",
      "beam/_m2sout/mon2-tof.h5\n",
      "beam/out/\n",
      "beam/out/ienergy.h5\n",
      "beam/out/itof.h5\n",
      "beam/out/ix_divx.h5\n",
      "beam/out/ix_divy.h5\n",
      "beam/out/ix_y.h5\n",
      "beam/out/iy_divx.h5\n",
      "beam/out/iy_divy.h5\n",
      "beam/out/mon1-itof-focused.h5\n",
      "beam/out/mon2-itof-focused.h5\n",
      "beam/out/neutrons\n",
      "beam/out/props.json\n",
      "beam/out/rank0-step0/\n",
      "beam/out/rank0-step0/ienergy.h5\n",
      "beam/out/rank0-step0/itof.h5\n",
      "beam/out/rank0-step0/ix_divx.h5\n",
      "beam/out/rank0-step0/ix_divy.h5\n",
      "beam/out/rank0-step0/ix_y.h5\n",
      "beam/out/rank0-step0/iy_divx.h5\n",
      "beam/out/rank0-step0/iy_divy.h5\n",
      "beam/out/rank0-step0/number_of_mc_samples\n",
      "scattering/\n",
      "scattering/scripts/\n",
      "\n",
      "sent 24,834,000 bytes  received 753 bytes  1,602,242.13 bytes/sec\n",
      "total size is 116,344,719  speedup is 4.68\n"
     ]
    }
   ],
   "source": [
    "# staging by copying files to remote cluster\n",
    "!rsync -avL {local_workdir}/ {cluster}:{remote_workdir}/"
   ]
  },
  {
   "cell_type": "markdown",
   "metadata": {},
   "source": [
    "## Step 4.2 Test drive"
   ]
  },
  {
   "cell_type": "code",
   "execution_count": 18,
   "metadata": {
    "collapsed": false
   },
   "outputs": [
    {
     "name": "stdout",
     "output_type": "stream",
     "text": [
      "\r\n",
      "cluster:\r\n",
      "  nodes: 24\r\n",
      "instrument:\r\n",
      "  name: arcs\r\n",
      "scatter:\r\n",
      "  ncount: 1e6\r\n",
      "  multiple_scattering: off\r\n",
      "  template: ./template"
     ]
    }
   ],
   "source": [
    "# one last check of sim config\n",
    "!ssh {cluster} cat {remote_workdir}/scattering/sim.yml 2>/dev/null"
   ]
  },
  {
   "cell_type": "code",
   "execution_count": 19,
   "metadata": {
    "collapsed": true
   },
   "outputs": [],
   "source": [
    "# some cluster may need additional script to set up env vars\n",
    "setupenv_cluster = \" \""
   ]
  },
  {
   "cell_type": "code",
   "execution_count": null,
   "metadata": {
    "collapsed": true
   },
   "outputs": [],
   "source": [
    "# create a job submission script"
   ]
  },
  {
   "cell_type": "code",
   "execution_count": 56,
   "metadata": {
    "collapsed": false
   },
   "outputs": [
    {
     "name": "stdout",
     "output_type": "stream",
     "text": [
      "Writing /SNS/users/lj7/simulations/ARCS/Si/08042016/100K-nersc-edison/scattering/job_31.0.sh\n"
     ]
    }
   ],
   "source": [
    "%%file {local_workdir}/scattering/job_31.0.sh\n",
    "#!/bin/bash -l\n",
    "#SBATCH -p regular\n",
    "#SBATCH --qos=premium\n",
    "#SBATCH -N 1\n",
    "#SBATCH --tasks-per-node=24\n",
    "#SBATCH -t 0:29:59\n",
    "#SBATCH -J Si31.0-100K\n",
    "\n",
    ". /global/homes/l/linjiao/.use-mcvine-in-conda\n",
    "\n",
    "./scripts/sim.py --angle=31.0"
   ]
  },
  {
   "cell_type": "code",
   "execution_count": 57,
   "metadata": {
    "collapsed": false,
    "scrolled": true
   },
   "outputs": [
    {
     "name": "stdout",
     "output_type": "stream",
     "text": [
      "sending incremental file list\n",
      "cannot delete non-empty directory: beam\n",
      "scattering/\n",
      "scattering/job_31.0.sh\n",
      "\n",
      "sent 1,764 bytes  received 176 bytes  554.29 bytes/sec\n",
      "total size is 91,520,574  speedup is 47,175.55\n"
     ]
    }
   ],
   "source": [
    "# copy to remote cluster\n",
    "!rsync -av {local_workdir}/ {cluster}:{remote_workdir}/ 2>/dev/null"
   ]
  },
  {
   "cell_type": "code",
   "execution_count": 61,
   "metadata": {
    "collapsed": true
   },
   "outputs": [],
   "source": [
    "# cmd to submit the job\n",
    "cmd = \"sbatch job_31.0.sh\""
   ]
  },
  {
   "cell_type": "code",
   "execution_count": 64,
   "metadata": {
    "collapsed": false
   },
   "outputs": [
    {
     "name": "stdout",
     "output_type": "stream",
     "text": [
      "bash -c 'cd /scratch2/scratchdirs/linjiao/Si/08042016/T100K/scattering; sbatch job_31.0.sh </dev/null >log.submit_31.0 2>&1 &'\n"
     ]
    }
   ],
   "source": [
    "# full cmd to submit the job\n",
    "cmd2 = \"bash -c 'cd %(remote_workdir)s/scattering; \" % locals()\n",
    "cmd2 += \"%(cmd)s </dev/null >log.submit_31.0 2>&1 &'\" % locals()\n",
    "print cmd2"
   ]
  },
  {
   "cell_type": "code",
   "execution_count": 69,
   "metadata": {
    "collapsed": false
   },
   "outputs": [
    {
     "name": "stdout",
     "output_type": "stream",
     "text": [
      "  \r\n",
      " *****************************************************************\r\n",
      " *                                                               *\r\n",
      " *                      NOTICE TO USERS                          *\r\n",
      " *                      ---------------                          *\r\n",
      " *                                                               *\r\n",
      " *  Lawrence Berkeley National Laboratory operates this          *\r\n",
      " *  computer system under contract to the U.S. Department of     *\r\n",
      " *  Energy.  This computer system is the property of the United  *\r\n",
      " *  States Government and is for authorized use only.  *Users    *\r\n",
      " *  (authorized or unauthorized) have no explicit or implicit    *\r\n",
      " *  expectation of privacy.*                                     *\r\n",
      " *                                                               *\r\n",
      " *  Any or all uses of this system and all files on this system  *\r\n",
      " *  may be intercepted, monitored, recorded, copied, audited,    *\r\n",
      " *  inspected, and disclosed to site, Department of Energy, and  *\r\n",
      " *  law enforcement personnel, as well as authorized officials   *\r\n",
      " *  of other agencies, both domestic and foreign.  *By using     *\r\n",
      " *  this system, the user consents to such interception,         *\r\n",
      " *  monitoring, recording, copying, auditing, inspection, and    *\r\n",
      " *  disclosure at the discretion of authorized site or           *\r\n",
      " *  Department of Energy personnel.*                             *\r\n",
      " *                                                               *\r\n",
      " *  *Unauthorized or improper use of this system may result in   *\r\n",
      " *  administrative disciplinary action and civil and criminal    *\r\n",
      " *  penalties.  _By continuing to use this system you indicate   *\r\n",
      " *  your awareness of and consent to these terms and conditions  *\r\n",
      " *  of use.  LOG OFF IMMEDIATELY if you do not agree to the      *\r\n",
      " *  conditions stated in this warning._*                         *\r\n",
      " *                                                               *\r\n",
      " *****************************************************************\r\n",
      "\r\n"
     ]
    }
   ],
   "source": [
    "# submit the job to the remote cluster\n",
    "!ssh {cluster} \"{cmd2}\""
   ]
  },
  {
   "cell_type": "code",
   "execution_count": 30,
   "metadata": {
    "collapsed": false
   },
   "outputs": [
    {
     "name": "stdout",
     "output_type": "stream",
     "text": [
      "/scratch2/scratchdirs/linjiao/Si/08042016/T100K\n"
     ]
    }
   ],
   "source": [
    "# sanity check\n",
    "print remote_workdir"
   ]
  },
  {
   "cell_type": "code",
   "execution_count": 68,
   "metadata": {
    "collapsed": false
   },
   "outputs": [
    {
     "name": "stdout",
     "output_type": "stream",
     "text": [
      "             JOBID       USER  ACCOUNT       NAME  PARTITION    QOS NODES   TIME_LIMIT       TIME   ST           START_TIME\r\n",
      "           1704803    linjiao    m1503 Si31.0-100    regular premiu     1        30:00       3:19    R  2016-08-05T11:26:52\r\n"
     ]
    }
   ],
   "source": [
    "# check job status\n",
    "!ssh {cluster} \"squeue -u linjiao\" 2>/dev/null"
   ]
  },
  {
   "cell_type": "markdown",
   "metadata": {},
   "source": [
    "** Timing: n=3e7. 0.5 hours **"
   ]
  },
  {
   "cell_type": "markdown",
   "metadata": {},
   "source": [
    "## Step 4.3 Run all angles"
   ]
  },
  {
   "cell_type": "code",
   "execution_count": 72,
   "metadata": {
    "collapsed": true
   },
   "outputs": [],
   "source": [
    "# change ncount to 3e6"
   ]
  },
  {
   "cell_type": "code",
   "execution_count": 82,
   "metadata": {
    "collapsed": false
   },
   "outputs": [
    {
     "name": "stdout",
     "output_type": "stream",
     "text": [
      "Overwriting /SNS/users/lj7/simulations/ARCS/Si/08042016/100K-nersc-edison/scattering/sim.yml\n"
     ]
    }
   ],
   "source": [
    "%%file {local_workdir}/scattering/sim.yml\n",
    "\n",
    "cluster:\n",
    "  nodes: 24\n",
    "instrument:\n",
    "  name: arcs\n",
    "scatter:\n",
    "  ncount: 3e6\n",
    "  multiple_scattering: off\n",
    "  template: ./template"
   ]
  },
  {
   "cell_type": "code",
   "execution_count": 84,
   "metadata": {
    "collapsed": true
   },
   "outputs": [],
   "source": [
    "# may want to remove the 30.0 result\n",
    "# !ssh {cluster} rm -rf {remote_workdir}/scattering/work_30.0 2>/dev/null"
   ]
  },
  {
   "cell_type": "code",
   "execution_count": 89,
   "metadata": {
    "collapsed": true
   },
   "outputs": [],
   "source": [
    "# new job submission script that runs a bunch of angles"
   ]
  },
  {
   "cell_type": "code",
   "execution_count": 73,
   "metadata": {
    "collapsed": false
   },
   "outputs": [
    {
     "name": "stdout",
     "output_type": "stream",
     "text": [
      "Writing /SNS/users/lj7/simulations/ARCS/Si/08042016/100K-nersc-edison/scattering/job_-5,90.1,2.sh\n"
     ]
    }
   ],
   "source": [
    "%%file {local_workdir}/scattering/job_-5,90.1,2.sh\n",
    "#!/bin/bash -l\n",
    "#SBATCH -p regular\n",
    "#SBATCH --qos=premium\n",
    "#SBATCH -N 1\n",
    "#SBATCH --tasks-per-node=24\n",
    "#SBATCH -t 12:00:00\n",
    "#SBATCH -J Si-5,90.5,2-100K\n",
    "\n",
    ". /global/homes/l/linjiao/.use-mcvine-in-conda\n",
    "\n",
    "./scripts/sim.py --angles=\"arange(-5,90.1,2.)\"\n"
   ]
  },
  {
   "cell_type": "code",
   "execution_count": 85,
   "metadata": {
    "collapsed": false
   },
   "outputs": [
    {
     "name": "stdout",
     "output_type": "stream",
     "text": [
      "sending incremental file list\n",
      "scattering/\n",
      "scattering/sim.yml\n",
      "\n",
      "sent 2,418 bytes  received 113 bytes  723.14 bytes/sec\n",
      "total size is 116,345,176  speedup is 45,968.07\n"
     ]
    }
   ],
   "source": [
    "# staging\n",
    "!rsync -avL {local_workdir}/ {cluster}:{remote_workdir}/ 2>/dev/null"
   ]
  },
  {
   "cell_type": "code",
   "execution_count": 86,
   "metadata": {
    "collapsed": false
   },
   "outputs": [
    {
     "name": "stdout",
     "output_type": "stream",
     "text": [
      "bash -c 'cd /scratch2/scratchdirs/linjiao/Si/08042016/T100K/scattering; sbatch job_-5,90.1,2.sh </dev/null >log.submit_-5,90.1,2 2>&1 &'\n"
     ]
    }
   ],
   "source": [
    "# cmd to submit the job\n",
    "cmd = \"sbatch job_-5,90.1,2.sh\"\n",
    "cmd2 = \"bash -c 'cd %(remote_workdir)s/scattering; \" % locals()\n",
    "cmd2 += \"%(cmd)s </dev/null >log.submit_-5,90.1,2 2>&1 &'\" % locals()\n",
    "print cmd2"
   ]
  },
  {
   "cell_type": "code",
   "execution_count": 87,
   "metadata": {
    "collapsed": false
   },
   "outputs": [
    {
     "name": "stdout",
     "output_type": "stream",
     "text": [
      "  \r\n",
      " *****************************************************************\r\n",
      " *                                                               *\r\n",
      " *                      NOTICE TO USERS                          *\r\n",
      " *                      ---------------                          *\r\n",
      " *                                                               *\r\n",
      " *  Lawrence Berkeley National Laboratory operates this          *\r\n",
      " *  computer system under contract to the U.S. Department of     *\r\n",
      " *  Energy.  This computer system is the property of the United  *\r\n",
      " *  States Government and is for authorized use only.  *Users    *\r\n",
      " *  (authorized or unauthorized) have no explicit or implicit    *\r\n",
      " *  expectation of privacy.*                                     *\r\n",
      " *                                                               *\r\n",
      " *  Any or all uses of this system and all files on this system  *\r\n",
      " *  may be intercepted, monitored, recorded, copied, audited,    *\r\n",
      " *  inspected, and disclosed to site, Department of Energy, and  *\r\n",
      " *  law enforcement personnel, as well as authorized officials   *\r\n",
      " *  of other agencies, both domestic and foreign.  *By using     *\r\n",
      " *  this system, the user consents to such interception,         *\r\n",
      " *  monitoring, recording, copying, auditing, inspection, and    *\r\n",
      " *  disclosure at the discretion of authorized site or           *\r\n",
      " *  Department of Energy personnel.*                             *\r\n",
      " *                                                               *\r\n",
      " *  *Unauthorized or improper use of this system may result in   *\r\n",
      " *  administrative disciplinary action and civil and criminal    *\r\n",
      " *  penalties.  _By continuing to use this system you indicate   *\r\n",
      " *  your awareness of and consent to these terms and conditions  *\r\n",
      " *  of use.  LOG OFF IMMEDIATELY if you do not agree to the      *\r\n",
      " *  conditions stated in this warning._*                         *\r\n",
      " *                                                               *\r\n",
      " *****************************************************************\r\n",
      "\r\n"
     ]
    }
   ],
   "source": [
    "# submit the job to the cluster\n",
    "!ssh {cluster} \"{cmd2}\""
   ]
  },
  {
   "cell_type": "code",
   "execution_count": 92,
   "metadata": {
    "collapsed": false
   },
   "outputs": [
    {
     "name": "stdout",
     "output_type": "stream",
     "text": [
      "             JOBID       USER  ACCOUNT       NAME  PARTITION    QOS NODES   TIME_LIMIT       TIME   ST           START_TIME\r\n"
     ]
    }
   ],
   "source": [
    "# check job status\n",
    "!ssh {cluster} \"squeue -u linjiao\" 2>/dev/null"
   ]
  },
  {
   "cell_type": "markdown",
   "metadata": {},
   "source": [
    "## Step 5. Reduction"
   ]
  },
  {
   "cell_type": "code",
   "execution_count": 96,
   "metadata": {
    "collapsed": false
   },
   "outputs": [
    {
     "name": "stdout",
     "output_type": "stream",
     "text": [
      "/SNS/users/lj7/simulations/ARCS/Si/08042016/100K-nersc-edison/scattering\n"
     ]
    }
   ],
   "source": [
    "# copy data back to local dir\n",
    "%cd \"{local_workdir}/scattering\"\n",
    "!mkdir nxs"
   ]
  },
  {
   "cell_type": "code",
   "execution_count": 97,
   "metadata": {
    "collapsed": false
   },
   "outputs": [
    {
     "name": "stdout",
     "output_type": "stream",
     "text": [
      "sim_-1.0.nxs                                  100% 9971KB   1.6MB/s   00:06    \n",
      "sim_-3.0.nxs                                  100% 9963KB   9.7MB/s   00:01    \n",
      "sim_-5.0.nxs                                  100% 9947KB   1.4MB/s   00:07    \n",
      "sim_1.0.nxs                                   100%   10MB   1.2MB/s   00:08    \n",
      "sim_11.0.nxs                                  100% 9982KB   3.3MB/s   00:03    \n",
      "sim_13.0.nxs                                  100%   10MB   3.3MB/s   00:03    \n",
      "sim_15.0.nxs                                  100% 9991KB   1.4MB/s   00:07    \n",
      "sim_17.0.nxs                                  100% 9998KB   2.0MB/s   00:05    \n",
      "sim_19.0.nxs                                  100%   10MB   3.3MB/s   00:03    \n",
      "sim_21.0.nxs                                  100%   10MB   3.3MB/s   00:03    \n",
      "sim_23.0.nxs                                  100% 9992KB 999.2KB/s   00:10    \n",
      "sim_25.0.nxs                                  100% 9984KB   1.2MB/s   00:08    \n",
      "sim_27.0.nxs                                  100%   10MB   1.1MB/s   00:09    \n",
      "sim_29.0.nxs                                  100% 9980KB   1.1MB/s   00:09    \n",
      "sim_3.0.nxs                                   100% 9994KB   2.4MB/s   00:04    \n",
      "sim_31.0.nxs                                  100% 9990KB   3.3MB/s   00:03    \n",
      "sim_33.0.nxs                                  100% 9981KB 907.4KB/s   00:11    \n",
      "sim_35.0.nxs                                  100% 9979KB   1.6MB/s   00:06    \n",
      "sim_37.0.nxs                                  100% 9999KB 909.0KB/s   00:11    \n",
      "sim_39.0.nxs                                  100% 9989KB   2.4MB/s   00:04    \n",
      "sim_41.0.nxs                                  100% 9987KB   3.3MB/s   00:03    \n",
      "sim_43.0.nxs                                  100% 9992KB   3.3MB/s   00:03    \n",
      "sim_45.0.nxs                                  100% 9995KB   1.2MB/s   00:08    \n",
      "sim_47.0.nxs                                  100% 9993KB   2.4MB/s   00:04    \n",
      "sim_49.0.nxs                                  100%   10MB   4.9MB/s   00:02    \n",
      "sim_5.0.nxs                                   100%   10MB   4.9MB/s   00:02    \n",
      "sim_51.0.nxs                                  100% 9985KB   3.3MB/s   00:03    \n",
      "sim_53.0.nxs                                  100% 9983KB   4.9MB/s   00:02    \n",
      "sim_55.0.nxs                                  100%   10MB   1.6MB/s   00:06    \n",
      "sim_57.0.nxs                                  100% 9998KB   2.4MB/s   00:04    \n",
      "sim_59.0.nxs                                  100% 9995KB 908.7KB/s   00:11    \n",
      "sim_61.0.nxs                                  100% 9996KB 908.7KB/s   00:11    \n",
      "sim_63.0.nxs                                  100% 9995KB 768.9KB/s   00:13    \n",
      "sim_65.0.nxs                                  100%   10MB   2.0MB/s   00:05    \n",
      "sim_67.0.nxs                                  100% 9989KB   3.3MB/s   00:03    \n",
      "sim_69.0.nxs                                  100% 9982KB   3.3MB/s   00:03    \n",
      "sim_7.0.nxs                                   100% 9985KB 768.1KB/s   00:13    \n",
      "sim_71.0.nxs                                  100% 9990KB   1.2MB/s   00:08    \n",
      "sim_73.0.nxs                                  100% 9988KB   2.4MB/s   00:04    \n",
      "sim_75.0.nxs                                  100% 9975KB   1.1MB/s   00:09    \n",
      "sim_77.0.nxs                                  100% 9996KB 999.6KB/s   00:10    \n",
      "sim_79.0.nxs                                  100% 9996KB   1.6MB/s   00:06    \n",
      "sim_81.0.nxs                                  100% 9998KB 999.8KB/s   00:10    \n",
      "sim_83.0.nxs                                  100%   10MB   2.4MB/s   00:04    \n",
      "sim_85.0.nxs                                  100%   10MB   3.3MB/s   00:03    \n",
      "sim_87.0.nxs                                  100%   10MB   1.2MB/s   00:08    \n",
      "sim_89.0.nxs                                  100%   10MB   2.4MB/s   00:04    \n",
      "sim_9.0.nxs                                   100% 9994KB   1.4MB/s   00:07    \n"
     ]
    }
   ],
   "source": [
    "!scp {cluster}:{remote_workdir}/scattering/work_*/sim_*.nxs {local_workdir}/scattering/nxs/ 2>/dev/null"
   ]
  },
  {
   "cell_type": "markdown",
   "metadata": {},
   "source": [
    "First we reduce event-mode nexus data for each angle using Mantid"
   ]
  },
  {
   "cell_type": "code",
   "execution_count": 99,
   "metadata": {
    "collapsed": false
   },
   "outputs": [
    {
     "name": "stdout",
     "output_type": "stream",
     "text": [
      "/home/lj7/anaconda2/envs/mcvine/lib/python2.7/site-packages/mcvine/deployment_info.py:41: UserWarning: Neither environment variable MCVINE_DIR nor DANSE_DIR was defined. Assumed that it is /home/lj7/anaconda2/envs/mcvine.\n",
      "  warnings.warn(msg)\n",
      "/home/lj7/anaconda2/envs/mcvine/lib/python2.7/site-packages/mantid/kernel/__init__.py:13: RuntimeWarning: to-Python converter for std::vector<int, std::allocator<int> > already registered; second conversion method ignored.\n",
      "  from ._kernel import *\n",
      "/home/lj7/anaconda2/envs/mcvine/lib/python2.7/site-packages/mantid/kernel/__init__.py:13: RuntimeWarning: to-Python converter for std::vector<double, std::allocator<double> > already registered; second conversion method ignored.\n",
      "  from ._kernel import *\n",
      "11010.23user 624.18system 12:25.15elapsed 1561%CPU (0avgtext+0avgdata 744908maxresident)k\n",
      "768488inputs+2936outputs (0major+35153144minor)pagefaults 0swaps\n"
     ]
    }
   ],
   "source": [
    "# reduce tof events to E events\n",
    "# this takes about 13 minutes\n",
    "!time mcvine workflow sxr reduce --type batch \\\n",
    "    --eaxis -5 75 0.5 --psi-axis -5 90.1 2. --eiguess 100 \\\n",
    "    --eventnxs nxs/sim_%s.nxs --out $PWD/nxs/reduced_%s.nxs\\\n",
    "    > log.reduce"
   ]
  },
  {
   "cell_type": "code",
   "execution_count": 100,
   "metadata": {
    "collapsed": false
   },
   "outputs": [],
   "source": [
    "# create configuration file for getting a slice"
   ]
  },
  {
   "cell_type": "code",
   "execution_count": 101,
   "metadata": {
    "collapsed": false
   },
   "outputs": [
    {
     "name": "stdout",
     "output_type": "stream",
     "text": [
      "Writing slice_111.yml\n"
     ]
    }
   ],
   "source": [
    "%%file slice_111.yml\n",
    "Eaxis:\n",
    " min: 0\n",
    " max: 75\n",
    " N: 151\n",
    "Q_projections:\n",
    " U:\n",
    "  proj: -1,1,-1\n",
    "  proj_name: -H,H,-H\n",
    "  min: -6\n",
    "  max: 6\n",
    "  N: 241\n",
    " V:\n",
    "  proj: 1,.5,-.5\n",
    "  proj_name: H,0.5H,-0.5H\n",
    "  min: -5.45\n",
    "  max: -5.15\n",
    "  N: 1\n",
    " W:\n",
    "  proj: 0,-1,-1\n",
    "  proj_name: 0,-K,-K\n",
    "  min: -0.3\n",
    "  max: 0.3\n",
    "  N: 1"
   ]
  },
  {
   "cell_type": "code",
   "execution_count": 104,
   "metadata": {
    "collapsed": false
   },
   "outputs": [
    {
     "name": "stdout",
     "output_type": "stream",
     "text": [
      "job_30.0.sh  job_-5,90.1,2.sh  \u001b[0m\u001b[01;34mnxs\u001b[0m/      sim.yml        \u001b[01;34mtemplate\u001b[0m/\r\n",
      "job_31.0.sh  log.reduce        \u001b[01;34mscripts\u001b[0m/  slice_111.yml\r\n"
     ]
    }
   ],
   "source": [
    "ls"
   ]
  },
  {
   "cell_type": "code",
   "execution_count": 105,
   "metadata": {
    "collapsed": false
   },
   "outputs": [
    {
     "name": "stdout",
     "output_type": "stream",
     "text": [
      "/home/lj7/anaconda2/envs/mcvine/lib/python2.7/site-packages/mcvine/deployment_info.py:41: UserWarning: Neither environment variable MCVINE_DIR nor DANSE_DIR was defined. Assumed that it is /home/lj7/anaconda2/envs/mcvine.\n",
      "  warnings.warn(msg)\n",
      "/home/lj7/anaconda2/envs/mcvine/lib/python2.7/site-packages/mantid/kernel/__init__.py:13: RuntimeWarning: to-Python converter for std::vector<int, std::allocator<int> > already registered; second conversion method ignored.\n",
      "  from ._kernel import *\n",
      "/home/lj7/anaconda2/envs/mcvine/lib/python2.7/site-packages/mantid/kernel/__init__.py:13: RuntimeWarning: to-Python converter for std::vector<double, std::allocator<double> > already registered; second conversion method ignored.\n",
      "  from ._kernel import *\n",
      "2022.66user 486.50system 1:51.72elapsed 2245%CPU (0avgtext+0avgdata 6104112maxresident)k\n",
      "659352inputs+1544outputs (0major+9863110minor)pagefaults 0swaps\n"
     ]
    }
   ],
   "source": [
    "!time mcvine workflow sxr slice \\\n",
    "    --sample {local_workdir}/Si.yml \\\n",
    "    --psi-axis -5 90.1 2. \\\n",
    "    --nxs nxs/reduced_%s.nxs \\\n",
    "    --slice slice_111.yml \\\n",
    "    --out slice_111.nxs \\\n",
    "    > log.slice_111"
   ]
  },
  {
   "cell_type": "code",
   "execution_count": 106,
   "metadata": {
    "collapsed": false
   },
   "outputs": [
    {
     "name": "stdout",
     "output_type": "stream",
     "text": [
      "/home/lj7/anaconda2/envs/mcvine/lib/python2.7/site-packages/mcvine/deployment_info.py:41: UserWarning: Neither environment variable MCVINE_DIR nor DANSE_DIR was defined. Assumed that it is /home/lj7/anaconda2/envs/mcvine.\n",
      "  warnings.warn(msg)\n",
      "/home/lj7/anaconda2/envs/mcvine/lib/python2.7/site-packages/mantid/kernel/__init__.py:13: RuntimeWarning: to-Python converter for std::vector<int, std::allocator<int> > already registered; second conversion method ignored.\n",
      "  from ._kernel import *\n",
      "/home/lj7/anaconda2/envs/mcvine/lib/python2.7/site-packages/mantid/kernel/__init__.py:13: RuntimeWarning: to-Python converter for std::vector<double, std::allocator<double> > already registered; second conversion method ignored.\n",
      "  from ._kernel import *\n",
      "FrameworkManager-[Notice] Welcome to Mantid 3.6.100\n",
      "FrameworkManager-[Notice] Please cite: http://dx.doi.org/10.1016/j.nima.2014.07.029 and this release: http://dx.doi.org/10.5286/Software/Mantid3.6.100\n",
      "Load-[Notice] Load started\n",
      "Load-[Notice] Load successful, Duration 0.97 seconds\n"
     ]
    }
   ],
   "source": [
    "# convert slice nexus to slice histogram\n",
    "!mcvine workflow sxr slice2hist slice_111.nxs slice_111.h5"
   ]
  },
  {
   "cell_type": "code",
   "execution_count": 108,
   "metadata": {
    "collapsed": false,
    "scrolled": true
   },
   "outputs": [
    {
     "name": "stdout",
     "output_type": "stream",
     "text": [
      "plot z in (0, 1e-05)\n"
     ]
    },
    {
     "data": {
      "application/javascript": [
       "/* Put everything inside the global mpl namespace */\n",
       "window.mpl = {};\n",
       "\n",
       "mpl.get_websocket_type = function() {\n",
       "    if (typeof(WebSocket) !== 'undefined') {\n",
       "        return WebSocket;\n",
       "    } else if (typeof(MozWebSocket) !== 'undefined') {\n",
       "        return MozWebSocket;\n",
       "    } else {\n",
       "        alert('Your browser does not have WebSocket support.' +\n",
       "              'Please try Chrome, Safari or Firefox ≥ 6. ' +\n",
       "              'Firefox 4 and 5 are also supported but you ' +\n",
       "              'have to enable WebSockets in about:config.');\n",
       "    };\n",
       "}\n",
       "\n",
       "mpl.figure = function(figure_id, websocket, ondownload, parent_element) {\n",
       "    this.id = figure_id;\n",
       "\n",
       "    this.ws = websocket;\n",
       "\n",
       "    this.supports_binary = (this.ws.binaryType != undefined);\n",
       "\n",
       "    if (!this.supports_binary) {\n",
       "        var warnings = document.getElementById(\"mpl-warnings\");\n",
       "        if (warnings) {\n",
       "            warnings.style.display = 'block';\n",
       "            warnings.textContent = (\n",
       "                \"This browser does not support binary websocket messages. \" +\n",
       "                    \"Performance may be slow.\");\n",
       "        }\n",
       "    }\n",
       "\n",
       "    this.imageObj = new Image();\n",
       "\n",
       "    this.context = undefined;\n",
       "    this.message = undefined;\n",
       "    this.canvas = undefined;\n",
       "    this.rubberband_canvas = undefined;\n",
       "    this.rubberband_context = undefined;\n",
       "    this.format_dropdown = undefined;\n",
       "\n",
       "    this.image_mode = 'full';\n",
       "\n",
       "    this.root = $('<div/>');\n",
       "    this._root_extra_style(this.root)\n",
       "    this.root.attr('style', 'display: inline-block');\n",
       "\n",
       "    $(parent_element).append(this.root);\n",
       "\n",
       "    this._init_header(this);\n",
       "    this._init_canvas(this);\n",
       "    this._init_toolbar(this);\n",
       "\n",
       "    var fig = this;\n",
       "\n",
       "    this.waiting = false;\n",
       "\n",
       "    this.ws.onopen =  function () {\n",
       "            fig.send_message(\"supports_binary\", {value: fig.supports_binary});\n",
       "            fig.send_message(\"send_image_mode\", {});\n",
       "            fig.send_message(\"refresh\", {});\n",
       "        }\n",
       "\n",
       "    this.imageObj.onload = function() {\n",
       "            if (fig.image_mode == 'full') {\n",
       "                // Full images could contain transparency (where diff images\n",
       "                // almost always do), so we need to clear the canvas so that\n",
       "                // there is no ghosting.\n",
       "                fig.context.clearRect(0, 0, fig.canvas.width, fig.canvas.height);\n",
       "            }\n",
       "            fig.context.drawImage(fig.imageObj, 0, 0);\n",
       "        };\n",
       "\n",
       "    this.imageObj.onunload = function() {\n",
       "        this.ws.close();\n",
       "    }\n",
       "\n",
       "    this.ws.onmessage = this._make_on_message_function(this);\n",
       "\n",
       "    this.ondownload = ondownload;\n",
       "}\n",
       "\n",
       "mpl.figure.prototype._init_header = function() {\n",
       "    var titlebar = $(\n",
       "        '<div class=\"ui-dialog-titlebar ui-widget-header ui-corner-all ' +\n",
       "        'ui-helper-clearfix\"/>');\n",
       "    var titletext = $(\n",
       "        '<div class=\"ui-dialog-title\" style=\"width: 100%; ' +\n",
       "        'text-align: center; padding: 3px;\"/>');\n",
       "    titlebar.append(titletext)\n",
       "    this.root.append(titlebar);\n",
       "    this.header = titletext[0];\n",
       "}\n",
       "\n",
       "\n",
       "\n",
       "mpl.figure.prototype._canvas_extra_style = function(canvas_div) {\n",
       "\n",
       "}\n",
       "\n",
       "\n",
       "mpl.figure.prototype._root_extra_style = function(canvas_div) {\n",
       "\n",
       "}\n",
       "\n",
       "mpl.figure.prototype._init_canvas = function() {\n",
       "    var fig = this;\n",
       "\n",
       "    var canvas_div = $('<div/>');\n",
       "\n",
       "    canvas_div.attr('style', 'position: relative; clear: both; outline: 0');\n",
       "\n",
       "    function canvas_keyboard_event(event) {\n",
       "        return fig.key_event(event, event['data']);\n",
       "    }\n",
       "\n",
       "    canvas_div.keydown('key_press', canvas_keyboard_event);\n",
       "    canvas_div.keyup('key_release', canvas_keyboard_event);\n",
       "    this.canvas_div = canvas_div\n",
       "    this._canvas_extra_style(canvas_div)\n",
       "    this.root.append(canvas_div);\n",
       "\n",
       "    var canvas = $('<canvas/>');\n",
       "    canvas.addClass('mpl-canvas');\n",
       "    canvas.attr('style', \"left: 0; top: 0; z-index: 0; outline: 0\")\n",
       "\n",
       "    this.canvas = canvas[0];\n",
       "    this.context = canvas[0].getContext(\"2d\");\n",
       "\n",
       "    var rubberband = $('<canvas/>');\n",
       "    rubberband.attr('style', \"position: absolute; left: 0; top: 0; z-index: 1;\")\n",
       "\n",
       "    var pass_mouse_events = true;\n",
       "\n",
       "    canvas_div.resizable({\n",
       "        start: function(event, ui) {\n",
       "            pass_mouse_events = false;\n",
       "        },\n",
       "        resize: function(event, ui) {\n",
       "            fig.request_resize(ui.size.width, ui.size.height);\n",
       "        },\n",
       "        stop: function(event, ui) {\n",
       "            pass_mouse_events = true;\n",
       "            fig.request_resize(ui.size.width, ui.size.height);\n",
       "        },\n",
       "    });\n",
       "\n",
       "    function mouse_event_fn(event) {\n",
       "        if (pass_mouse_events)\n",
       "            return fig.mouse_event(event, event['data']);\n",
       "    }\n",
       "\n",
       "    rubberband.mousedown('button_press', mouse_event_fn);\n",
       "    rubberband.mouseup('button_release', mouse_event_fn);\n",
       "    // Throttle sequential mouse events to 1 every 20ms.\n",
       "    rubberband.mousemove('motion_notify', mouse_event_fn);\n",
       "\n",
       "    rubberband.mouseenter('figure_enter', mouse_event_fn);\n",
       "    rubberband.mouseleave('figure_leave', mouse_event_fn);\n",
       "\n",
       "    canvas_div.on(\"wheel\", function (event) {\n",
       "        event = event.originalEvent;\n",
       "        event['data'] = 'scroll'\n",
       "        if (event.deltaY < 0) {\n",
       "            event.step = 1;\n",
       "        } else {\n",
       "            event.step = -1;\n",
       "        }\n",
       "        mouse_event_fn(event);\n",
       "    });\n",
       "\n",
       "    canvas_div.append(canvas);\n",
       "    canvas_div.append(rubberband);\n",
       "\n",
       "    this.rubberband = rubberband;\n",
       "    this.rubberband_canvas = rubberband[0];\n",
       "    this.rubberband_context = rubberband[0].getContext(\"2d\");\n",
       "    this.rubberband_context.strokeStyle = \"#000000\";\n",
       "\n",
       "    this._resize_canvas = function(width, height) {\n",
       "        // Keep the size of the canvas, canvas container, and rubber band\n",
       "        // canvas in synch.\n",
       "        canvas_div.css('width', width)\n",
       "        canvas_div.css('height', height)\n",
       "\n",
       "        canvas.attr('width', width);\n",
       "        canvas.attr('height', height);\n",
       "\n",
       "        rubberband.attr('width', width);\n",
       "        rubberband.attr('height', height);\n",
       "    }\n",
       "\n",
       "    // Set the figure to an initial 600x600px, this will subsequently be updated\n",
       "    // upon first draw.\n",
       "    this._resize_canvas(600, 600);\n",
       "\n",
       "    // Disable right mouse context menu.\n",
       "    $(this.rubberband_canvas).bind(\"contextmenu\",function(e){\n",
       "        return false;\n",
       "    });\n",
       "\n",
       "    function set_focus () {\n",
       "        canvas.focus();\n",
       "        canvas_div.focus();\n",
       "    }\n",
       "\n",
       "    window.setTimeout(set_focus, 100);\n",
       "}\n",
       "\n",
       "mpl.figure.prototype._init_toolbar = function() {\n",
       "    var fig = this;\n",
       "\n",
       "    var nav_element = $('<div/>')\n",
       "    nav_element.attr('style', 'width: 100%');\n",
       "    this.root.append(nav_element);\n",
       "\n",
       "    // Define a callback function for later on.\n",
       "    function toolbar_event(event) {\n",
       "        return fig.toolbar_button_onclick(event['data']);\n",
       "    }\n",
       "    function toolbar_mouse_event(event) {\n",
       "        return fig.toolbar_button_onmouseover(event['data']);\n",
       "    }\n",
       "\n",
       "    for(var toolbar_ind in mpl.toolbar_items) {\n",
       "        var name = mpl.toolbar_items[toolbar_ind][0];\n",
       "        var tooltip = mpl.toolbar_items[toolbar_ind][1];\n",
       "        var image = mpl.toolbar_items[toolbar_ind][2];\n",
       "        var method_name = mpl.toolbar_items[toolbar_ind][3];\n",
       "\n",
       "        if (!name) {\n",
       "            // put a spacer in here.\n",
       "            continue;\n",
       "        }\n",
       "        var button = $('<button/>');\n",
       "        button.addClass('ui-button ui-widget ui-state-default ui-corner-all ' +\n",
       "                        'ui-button-icon-only');\n",
       "        button.attr('role', 'button');\n",
       "        button.attr('aria-disabled', 'false');\n",
       "        button.click(method_name, toolbar_event);\n",
       "        button.mouseover(tooltip, toolbar_mouse_event);\n",
       "\n",
       "        var icon_img = $('<span/>');\n",
       "        icon_img.addClass('ui-button-icon-primary ui-icon');\n",
       "        icon_img.addClass(image);\n",
       "        icon_img.addClass('ui-corner-all');\n",
       "\n",
       "        var tooltip_span = $('<span/>');\n",
       "        tooltip_span.addClass('ui-button-text');\n",
       "        tooltip_span.html(tooltip);\n",
       "\n",
       "        button.append(icon_img);\n",
       "        button.append(tooltip_span);\n",
       "\n",
       "        nav_element.append(button);\n",
       "    }\n",
       "\n",
       "    var fmt_picker_span = $('<span/>');\n",
       "\n",
       "    var fmt_picker = $('<select/>');\n",
       "    fmt_picker.addClass('mpl-toolbar-option ui-widget ui-widget-content');\n",
       "    fmt_picker_span.append(fmt_picker);\n",
       "    nav_element.append(fmt_picker_span);\n",
       "    this.format_dropdown = fmt_picker[0];\n",
       "\n",
       "    for (var ind in mpl.extensions) {\n",
       "        var fmt = mpl.extensions[ind];\n",
       "        var option = $(\n",
       "            '<option/>', {selected: fmt === mpl.default_extension}).html(fmt);\n",
       "        fmt_picker.append(option)\n",
       "    }\n",
       "\n",
       "    // Add hover states to the ui-buttons\n",
       "    $( \".ui-button\" ).hover(\n",
       "        function() { $(this).addClass(\"ui-state-hover\");},\n",
       "        function() { $(this).removeClass(\"ui-state-hover\");}\n",
       "    );\n",
       "\n",
       "    var status_bar = $('<span class=\"mpl-message\"/>');\n",
       "    nav_element.append(status_bar);\n",
       "    this.message = status_bar[0];\n",
       "}\n",
       "\n",
       "mpl.figure.prototype.request_resize = function(x_pixels, y_pixels) {\n",
       "    // Request matplotlib to resize the figure. Matplotlib will then trigger a resize in the client,\n",
       "    // which will in turn request a refresh of the image.\n",
       "    this.send_message('resize', {'width': x_pixels, 'height': y_pixels});\n",
       "}\n",
       "\n",
       "mpl.figure.prototype.send_message = function(type, properties) {\n",
       "    properties['type'] = type;\n",
       "    properties['figure_id'] = this.id;\n",
       "    this.ws.send(JSON.stringify(properties));\n",
       "}\n",
       "\n",
       "mpl.figure.prototype.send_draw_message = function() {\n",
       "    if (!this.waiting) {\n",
       "        this.waiting = true;\n",
       "        this.ws.send(JSON.stringify({type: \"draw\", figure_id: this.id}));\n",
       "    }\n",
       "}\n",
       "\n",
       "\n",
       "mpl.figure.prototype.handle_save = function(fig, msg) {\n",
       "    var format_dropdown = fig.format_dropdown;\n",
       "    var format = format_dropdown.options[format_dropdown.selectedIndex].value;\n",
       "    fig.ondownload(fig, format);\n",
       "}\n",
       "\n",
       "\n",
       "mpl.figure.prototype.handle_resize = function(fig, msg) {\n",
       "    var size = msg['size'];\n",
       "    if (size[0] != fig.canvas.width || size[1] != fig.canvas.height) {\n",
       "        fig._resize_canvas(size[0], size[1]);\n",
       "        fig.send_message(\"refresh\", {});\n",
       "    };\n",
       "}\n",
       "\n",
       "mpl.figure.prototype.handle_rubberband = function(fig, msg) {\n",
       "    var x0 = msg['x0'];\n",
       "    var y0 = fig.canvas.height - msg['y0'];\n",
       "    var x1 = msg['x1'];\n",
       "    var y1 = fig.canvas.height - msg['y1'];\n",
       "    x0 = Math.floor(x0) + 0.5;\n",
       "    y0 = Math.floor(y0) + 0.5;\n",
       "    x1 = Math.floor(x1) + 0.5;\n",
       "    y1 = Math.floor(y1) + 0.5;\n",
       "    var min_x = Math.min(x0, x1);\n",
       "    var min_y = Math.min(y0, y1);\n",
       "    var width = Math.abs(x1 - x0);\n",
       "    var height = Math.abs(y1 - y0);\n",
       "\n",
       "    fig.rubberband_context.clearRect(\n",
       "        0, 0, fig.canvas.width, fig.canvas.height);\n",
       "\n",
       "    fig.rubberband_context.strokeRect(min_x, min_y, width, height);\n",
       "}\n",
       "\n",
       "mpl.figure.prototype.handle_figure_label = function(fig, msg) {\n",
       "    // Updates the figure title.\n",
       "    fig.header.textContent = msg['label'];\n",
       "}\n",
       "\n",
       "mpl.figure.prototype.handle_cursor = function(fig, msg) {\n",
       "    var cursor = msg['cursor'];\n",
       "    switch(cursor)\n",
       "    {\n",
       "    case 0:\n",
       "        cursor = 'pointer';\n",
       "        break;\n",
       "    case 1:\n",
       "        cursor = 'default';\n",
       "        break;\n",
       "    case 2:\n",
       "        cursor = 'crosshair';\n",
       "        break;\n",
       "    case 3:\n",
       "        cursor = 'move';\n",
       "        break;\n",
       "    }\n",
       "    fig.rubberband_canvas.style.cursor = cursor;\n",
       "}\n",
       "\n",
       "mpl.figure.prototype.handle_message = function(fig, msg) {\n",
       "    fig.message.textContent = msg['message'];\n",
       "}\n",
       "\n",
       "mpl.figure.prototype.handle_draw = function(fig, msg) {\n",
       "    // Request the server to send over a new figure.\n",
       "    fig.send_draw_message();\n",
       "}\n",
       "\n",
       "mpl.figure.prototype.handle_image_mode = function(fig, msg) {\n",
       "    fig.image_mode = msg['mode'];\n",
       "}\n",
       "\n",
       "mpl.figure.prototype.updated_canvas_event = function() {\n",
       "    // Called whenever the canvas gets updated.\n",
       "    this.send_message(\"ack\", {});\n",
       "}\n",
       "\n",
       "// A function to construct a web socket function for onmessage handling.\n",
       "// Called in the figure constructor.\n",
       "mpl.figure.prototype._make_on_message_function = function(fig) {\n",
       "    return function socket_on_message(evt) {\n",
       "        if (evt.data instanceof Blob) {\n",
       "            /* FIXME: We get \"Resource interpreted as Image but\n",
       "             * transferred with MIME type text/plain:\" errors on\n",
       "             * Chrome.  But how to set the MIME type?  It doesn't seem\n",
       "             * to be part of the websocket stream */\n",
       "            evt.data.type = \"image/png\";\n",
       "\n",
       "            /* Free the memory for the previous frames */\n",
       "            if (fig.imageObj.src) {\n",
       "                (window.URL || window.webkitURL).revokeObjectURL(\n",
       "                    fig.imageObj.src);\n",
       "            }\n",
       "\n",
       "            fig.imageObj.src = (window.URL || window.webkitURL).createObjectURL(\n",
       "                evt.data);\n",
       "            fig.updated_canvas_event();\n",
       "            fig.waiting = false;\n",
       "            return;\n",
       "        }\n",
       "        else if (typeof evt.data === 'string' && evt.data.slice(0, 21) == \"data:image/png;base64\") {\n",
       "            fig.imageObj.src = evt.data;\n",
       "            fig.updated_canvas_event();\n",
       "            fig.waiting = false;\n",
       "            return;\n",
       "        }\n",
       "\n",
       "        var msg = JSON.parse(evt.data);\n",
       "        var msg_type = msg['type'];\n",
       "\n",
       "        // Call the  \"handle_{type}\" callback, which takes\n",
       "        // the figure and JSON message as its only arguments.\n",
       "        try {\n",
       "            var callback = fig[\"handle_\" + msg_type];\n",
       "        } catch (e) {\n",
       "            console.log(\"No handler for the '\" + msg_type + \"' message type: \", msg);\n",
       "            return;\n",
       "        }\n",
       "\n",
       "        if (callback) {\n",
       "            try {\n",
       "                // console.log(\"Handling '\" + msg_type + \"' message: \", msg);\n",
       "                callback(fig, msg);\n",
       "            } catch (e) {\n",
       "                console.log(\"Exception inside the 'handler_\" + msg_type + \"' callback:\", e, e.stack, msg);\n",
       "            }\n",
       "        }\n",
       "    };\n",
       "}\n",
       "\n",
       "// from http://stackoverflow.com/questions/1114465/getting-mouse-location-in-canvas\n",
       "mpl.findpos = function(e) {\n",
       "    //this section is from http://www.quirksmode.org/js/events_properties.html\n",
       "    var targ;\n",
       "    if (!e)\n",
       "        e = window.event;\n",
       "    if (e.target)\n",
       "        targ = e.target;\n",
       "    else if (e.srcElement)\n",
       "        targ = e.srcElement;\n",
       "    if (targ.nodeType == 3) // defeat Safari bug\n",
       "        targ = targ.parentNode;\n",
       "\n",
       "    // jQuery normalizes the pageX and pageY\n",
       "    // pageX,Y are the mouse positions relative to the document\n",
       "    // offset() returns the position of the element relative to the document\n",
       "    var x = e.pageX - $(targ).offset().left;\n",
       "    var y = e.pageY - $(targ).offset().top;\n",
       "\n",
       "    return {\"x\": x, \"y\": y};\n",
       "};\n",
       "\n",
       "/*\n",
       " * return a copy of an object with only non-object keys\n",
       " * we need this to avoid circular references\n",
       " * http://stackoverflow.com/a/24161582/3208463\n",
       " */\n",
       "function simpleKeys (original) {\n",
       "  return Object.keys(original).reduce(function (obj, key) {\n",
       "    if (typeof original[key] !== 'object')\n",
       "        obj[key] = original[key]\n",
       "    return obj;\n",
       "  }, {});\n",
       "}\n",
       "\n",
       "mpl.figure.prototype.mouse_event = function(event, name) {\n",
       "    var canvas_pos = mpl.findpos(event)\n",
       "\n",
       "    if (name === 'button_press')\n",
       "    {\n",
       "        this.canvas.focus();\n",
       "        this.canvas_div.focus();\n",
       "    }\n",
       "\n",
       "    var x = canvas_pos.x;\n",
       "    var y = canvas_pos.y;\n",
       "\n",
       "    this.send_message(name, {x: x, y: y, button: event.button,\n",
       "                             step: event.step,\n",
       "                             guiEvent: simpleKeys(event)});\n",
       "\n",
       "    /* This prevents the web browser from automatically changing to\n",
       "     * the text insertion cursor when the button is pressed.  We want\n",
       "     * to control all of the cursor setting manually through the\n",
       "     * 'cursor' event from matplotlib */\n",
       "    event.preventDefault();\n",
       "    return false;\n",
       "}\n",
       "\n",
       "mpl.figure.prototype._key_event_extra = function(event, name) {\n",
       "    // Handle any extra behaviour associated with a key event\n",
       "}\n",
       "\n",
       "mpl.figure.prototype.key_event = function(event, name) {\n",
       "\n",
       "    // Prevent repeat events\n",
       "    if (name == 'key_press')\n",
       "    {\n",
       "        if (event.which === this._key)\n",
       "            return;\n",
       "        else\n",
       "            this._key = event.which;\n",
       "    }\n",
       "    if (name == 'key_release')\n",
       "        this._key = null;\n",
       "\n",
       "    var value = '';\n",
       "    if (event.ctrlKey && event.which != 17)\n",
       "        value += \"ctrl+\";\n",
       "    if (event.altKey && event.which != 18)\n",
       "        value += \"alt+\";\n",
       "    if (event.shiftKey && event.which != 16)\n",
       "        value += \"shift+\";\n",
       "\n",
       "    value += 'k';\n",
       "    value += event.which.toString();\n",
       "\n",
       "    this._key_event_extra(event, name);\n",
       "\n",
       "    this.send_message(name, {key: value,\n",
       "                             guiEvent: simpleKeys(event)});\n",
       "    return false;\n",
       "}\n",
       "\n",
       "mpl.figure.prototype.toolbar_button_onclick = function(name) {\n",
       "    if (name == 'download') {\n",
       "        this.handle_save(this, null);\n",
       "    } else {\n",
       "        this.send_message(\"toolbar_button\", {name: name});\n",
       "    }\n",
       "};\n",
       "\n",
       "mpl.figure.prototype.toolbar_button_onmouseover = function(tooltip) {\n",
       "    this.message.textContent = tooltip;\n",
       "};\n",
       "mpl.toolbar_items = [[\"Home\", \"Reset original view\", \"fa fa-home icon-home\", \"home\"], [\"Back\", \"Back to  previous view\", \"fa fa-arrow-left icon-arrow-left\", \"back\"], [\"Forward\", \"Forward to next view\", \"fa fa-arrow-right icon-arrow-right\", \"forward\"], [\"\", \"\", \"\", \"\"], [\"Pan\", \"Pan axes with left mouse, zoom with right\", \"fa fa-arrows icon-move\", \"pan\"], [\"Zoom\", \"Zoom to rectangle\", \"fa fa-square-o icon-check-empty\", \"zoom\"], [\"\", \"\", \"\", \"\"], [\"Download\", \"Download plot\", \"fa fa-floppy-o icon-save\", \"download\"]];\n",
       "\n",
       "mpl.extensions = [\"eps\", \"pdf\", \"png\", \"ps\", \"raw\", \"svg\"];\n",
       "\n",
       "mpl.default_extension = \"png\";var comm_websocket_adapter = function(comm) {\n",
       "    // Create a \"websocket\"-like object which calls the given IPython comm\n",
       "    // object with the appropriate methods. Currently this is a non binary\n",
       "    // socket, so there is still some room for performance tuning.\n",
       "    var ws = {};\n",
       "\n",
       "    ws.close = function() {\n",
       "        comm.close()\n",
       "    };\n",
       "    ws.send = function(m) {\n",
       "        //console.log('sending', m);\n",
       "        comm.send(m);\n",
       "    };\n",
       "    // Register the callback with on_msg.\n",
       "    comm.on_msg(function(msg) {\n",
       "        //console.log('receiving', msg['content']['data'], msg);\n",
       "        // Pass the mpl event to the overriden (by mpl) onmessage function.\n",
       "        ws.onmessage(msg['content']['data'])\n",
       "    });\n",
       "    return ws;\n",
       "}\n",
       "\n",
       "mpl.mpl_figure_comm = function(comm, msg) {\n",
       "    // This is the function which gets called when the mpl process\n",
       "    // starts-up an IPython Comm through the \"matplotlib\" channel.\n",
       "\n",
       "    var id = msg.content.data.id;\n",
       "    // Get hold of the div created by the display call when the Comm\n",
       "    // socket was opened in Python.\n",
       "    var element = $(\"#\" + id);\n",
       "    var ws_proxy = comm_websocket_adapter(comm)\n",
       "\n",
       "    function ondownload(figure, format) {\n",
       "        window.open(figure.imageObj.src);\n",
       "    }\n",
       "\n",
       "    var fig = new mpl.figure(id, ws_proxy,\n",
       "                           ondownload,\n",
       "                           element.get(0));\n",
       "\n",
       "    // Call onopen now - mpl needs it, as it is assuming we've passed it a real\n",
       "    // web socket which is closed, not our websocket->open comm proxy.\n",
       "    ws_proxy.onopen();\n",
       "\n",
       "    fig.parent_element = element.get(0);\n",
       "    fig.cell_info = mpl.find_output_cell(\"<div id='\" + id + \"'></div>\");\n",
       "    if (!fig.cell_info) {\n",
       "        console.error(\"Failed to find cell for figure\", id, fig);\n",
       "        return;\n",
       "    }\n",
       "\n",
       "    var output_index = fig.cell_info[2]\n",
       "    var cell = fig.cell_info[0];\n",
       "\n",
       "};\n",
       "\n",
       "mpl.figure.prototype.handle_close = function(fig, msg) {\n",
       "    fig.root.unbind('remove')\n",
       "\n",
       "    // Update the output cell to use the data from the current canvas.\n",
       "    fig.push_to_output();\n",
       "    var dataURL = fig.canvas.toDataURL();\n",
       "    // Re-enable the keyboard manager in IPython - without this line, in FF,\n",
       "    // the notebook keyboard shortcuts fail.\n",
       "    IPython.keyboard_manager.enable()\n",
       "    $(fig.parent_element).html('<img src=\"' + dataURL + '\">');\n",
       "    fig.close_ws(fig, msg);\n",
       "}\n",
       "\n",
       "mpl.figure.prototype.close_ws = function(fig, msg){\n",
       "    fig.send_message('closing', msg);\n",
       "    // fig.ws.close()\n",
       "}\n",
       "\n",
       "mpl.figure.prototype.push_to_output = function(remove_interactive) {\n",
       "    // Turn the data on the canvas into data in the output cell.\n",
       "    var dataURL = this.canvas.toDataURL();\n",
       "    this.cell_info[1]['text/html'] = '<img src=\"' + dataURL + '\">';\n",
       "}\n",
       "\n",
       "mpl.figure.prototype.updated_canvas_event = function() {\n",
       "    // Tell IPython that the notebook contents must change.\n",
       "    IPython.notebook.set_dirty(true);\n",
       "    this.send_message(\"ack\", {});\n",
       "    var fig = this;\n",
       "    // Wait a second, then push the new image to the DOM so\n",
       "    // that it is saved nicely (might be nice to debounce this).\n",
       "    setTimeout(function () { fig.push_to_output() }, 1000);\n",
       "}\n",
       "\n",
       "mpl.figure.prototype._init_toolbar = function() {\n",
       "    var fig = this;\n",
       "\n",
       "    var nav_element = $('<div/>')\n",
       "    nav_element.attr('style', 'width: 100%');\n",
       "    this.root.append(nav_element);\n",
       "\n",
       "    // Define a callback function for later on.\n",
       "    function toolbar_event(event) {\n",
       "        return fig.toolbar_button_onclick(event['data']);\n",
       "    }\n",
       "    function toolbar_mouse_event(event) {\n",
       "        return fig.toolbar_button_onmouseover(event['data']);\n",
       "    }\n",
       "\n",
       "    for(var toolbar_ind in mpl.toolbar_items){\n",
       "        var name = mpl.toolbar_items[toolbar_ind][0];\n",
       "        var tooltip = mpl.toolbar_items[toolbar_ind][1];\n",
       "        var image = mpl.toolbar_items[toolbar_ind][2];\n",
       "        var method_name = mpl.toolbar_items[toolbar_ind][3];\n",
       "\n",
       "        if (!name) { continue; };\n",
       "\n",
       "        var button = $('<button class=\"btn btn-default\" href=\"#\" title=\"' + name + '\"><i class=\"fa ' + image + ' fa-lg\"></i></button>');\n",
       "        button.click(method_name, toolbar_event);\n",
       "        button.mouseover(tooltip, toolbar_mouse_event);\n",
       "        nav_element.append(button);\n",
       "    }\n",
       "\n",
       "    // Add the status bar.\n",
       "    var status_bar = $('<span class=\"mpl-message\" style=\"text-align:right; float: right;\"/>');\n",
       "    nav_element.append(status_bar);\n",
       "    this.message = status_bar[0];\n",
       "\n",
       "    // Add the close button to the window.\n",
       "    var buttongrp = $('<div class=\"btn-group inline pull-right\"></div>');\n",
       "    var button = $('<button class=\"btn btn-mini btn-primary\" href=\"#\" title=\"Stop Interaction\"><i class=\"fa fa-power-off icon-remove icon-large\"></i></button>');\n",
       "    button.click(function (evt) { fig.handle_close(fig, {}); } );\n",
       "    button.mouseover('Stop Interaction', toolbar_mouse_event);\n",
       "    buttongrp.append(button);\n",
       "    var titlebar = this.root.find($('.ui-dialog-titlebar'));\n",
       "    titlebar.prepend(buttongrp);\n",
       "}\n",
       "\n",
       "mpl.figure.prototype._root_extra_style = function(el){\n",
       "    var fig = this\n",
       "    el.on(\"remove\", function(){\n",
       "\tfig.close_ws(fig, {});\n",
       "    });\n",
       "}\n",
       "\n",
       "mpl.figure.prototype._canvas_extra_style = function(el){\n",
       "    // this is important to make the div 'focusable\n",
       "    el.attr('tabindex', 0)\n",
       "    // reach out to IPython and tell the keyboard manager to turn it's self\n",
       "    // off when our div gets focus\n",
       "\n",
       "    // location in version 3\n",
       "    if (IPython.notebook.keyboard_manager) {\n",
       "        IPython.notebook.keyboard_manager.register_events(el);\n",
       "    }\n",
       "    else {\n",
       "        // location in version 2\n",
       "        IPython.keyboard_manager.register_events(el);\n",
       "    }\n",
       "\n",
       "}\n",
       "\n",
       "mpl.figure.prototype._key_event_extra = function(event, name) {\n",
       "    var manager = IPython.notebook.keyboard_manager;\n",
       "    if (!manager)\n",
       "        manager = IPython.keyboard_manager;\n",
       "\n",
       "    // Check for shift+enter\n",
       "    if (event.shiftKey && event.which == 13) {\n",
       "        this.canvas_div.blur();\n",
       "        event.shiftKey = false;\n",
       "        // Send a \"J\" for go to next cell\n",
       "        event.which = 74;\n",
       "        event.keyCode = 74;\n",
       "        manager.command_mode();\n",
       "        manager.handle_keydown(event);\n",
       "    }\n",
       "}\n",
       "\n",
       "mpl.figure.prototype.handle_save = function(fig, msg) {\n",
       "    fig.ondownload(fig, null);\n",
       "}\n",
       "\n",
       "\n",
       "mpl.find_output_cell = function(html_output) {\n",
       "    // Return the cell and output element which can be found *uniquely* in the notebook.\n",
       "    // Note - this is a bit hacky, but it is done because the \"notebook_saving.Notebook\"\n",
       "    // IPython event is triggered only after the cells have been serialised, which for\n",
       "    // our purposes (turning an active figure into a static one), is too late.\n",
       "    var cells = IPython.notebook.get_cells();\n",
       "    var ncells = cells.length;\n",
       "    for (var i=0; i<ncells; i++) {\n",
       "        var cell = cells[i];\n",
       "        if (cell.cell_type === 'code'){\n",
       "            for (var j=0; j<cell.output_area.outputs.length; j++) {\n",
       "                var data = cell.output_area.outputs[j];\n",
       "                if (data.data) {\n",
       "                    // IPython >= 3 moved mimebundle to data attribute of output\n",
       "                    data = data.data;\n",
       "                }\n",
       "                if (data['text/html'] == html_output) {\n",
       "                    return [cell, data, j];\n",
       "                }\n",
       "            }\n",
       "        }\n",
       "    }\n",
       "}\n",
       "\n",
       "// Register the function which deals with the matplotlib target/channel.\n",
       "// The kernel may be null if the page has been refreshed.\n",
       "if (IPython.notebook.kernel != null) {\n",
       "    IPython.notebook.kernel.comm_manager.register_target('matplotlib', mpl.mpl_figure_comm);\n",
       "}\n"
      ],
      "text/plain": [
       "<IPython.core.display.Javascript object>"
      ]
     },
     "metadata": {},
     "output_type": "display_data"
    },
    {
     "data": {
      "text/html": [
       "<img src=\"data:image/png;base64,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\">"
      ],
      "text/plain": [
       "<IPython.core.display.HTML object>"
      ]
     },
     "metadata": {},
     "output_type": "display_data"
    }
   ],
   "source": [
    "# plot\n",
    "H.plot(hh.load(\"./slice_111.h5\"), min=0, max=1e-5)"
   ]
  },
  {
   "cell_type": "markdown",
   "metadata": {},
   "source": [
    "### Comments\n",
    "This simulation has 2 degrees step size and was not run too long. Result is noisy. It was a quick simulation (~6hours). It is OK. We can run longer on different computing resources."
   ]
  },
  {
   "cell_type": "code",
   "execution_count": null,
   "metadata": {
    "collapsed": true
   },
   "outputs": [],
   "source": []
  }
 ],
 "metadata": {
  "kernelspec": {
   "display_name": "Python 2",
   "language": "python",
   "name": "python2"
  },
  "language_info": {
   "codemirror_mode": {
    "name": "ipython",
    "version": 2
   },
   "file_extension": ".py",
   "mimetype": "text/x-python",
   "name": "python",
   "nbconvert_exporter": "python",
   "pygments_lexer": "ipython2",
   "version": "2.7.12"
  }
 },
 "nbformat": 4,
 "nbformat_minor": 0
}
