{
 "cells": [
  {
   "cell_type": "code",
   "execution_count": 1,
   "metadata": {
    "collapsed": false
   },
   "outputs": [
    {
     "name": "stderr",
     "output_type": "stream",
     "text": [
      "/home/lj7/anaconda2/envs/dev-mcvine/lib/python2.7/site-packages/matplotlib/font_manager.py:273: UserWarning: Matplotlib is building the font cache using fc-list. This may take a moment.\n",
      "  warnings.warn('Matplotlib is building the font cache using fc-list. This may take a moment.')\n"
     ]
    }
   ],
   "source": [
    "%matplotlib notebook\n",
    "from matplotlib import pyplot as plt\n",
    "import numpy as np\n",
    "import histogram.hdf as hh, histogram as H"
   ]
  },
  {
   "cell_type": "code",
   "execution_count": 2,
   "metadata": {
    "collapsed": true
   },
   "outputs": [],
   "source": [
    "datadir=\"/SNS/users/linjiao/simulations/HYSPEC/kvo/scan/\""
   ]
  },
  {
   "cell_type": "code",
   "execution_count": 35,
   "metadata": {
    "collapsed": false
   },
   "outputs": [
    {
     "name": "stdout",
     "output_type": "stream",
     "text": [
      "\u001b[0m\u001b[01;34mbefore-bugfix\u001b[0m/   \u001b[01;34mwork_-16.5\u001b[0m/  \u001b[01;34mwork_-25.0\u001b[0m/  \u001b[01;34mwork_-34.0\u001b[0m/  \u001b[01;34mwork_-44.5\u001b[0m/\r\n",
      "\u001b[01;34mnslice\u001b[0m/          \u001b[01;34mwork_16.5\u001b[0m/   \u001b[01;34mwork_25.0\u001b[0m/   \u001b[01;34mwork_34.0\u001b[0m/   \u001b[01;34mwork_-4.5\u001b[0m/\r\n",
      "\u001b[01;34msampleassembly\u001b[0m/  \u001b[01;34mwork_-17.0\u001b[0m/  \u001b[01;34mwork_-25.5\u001b[0m/  \u001b[01;34mwork_-34.5\u001b[0m/  \u001b[01;34mwork_4.5\u001b[0m/\r\n",
      "\u001b[01;32msim.py\u001b[0m*          \u001b[01;34mwork_17.0\u001b[0m/   \u001b[01;34mwork_25.5\u001b[0m/   \u001b[01;34mwork_34.5\u001b[0m/   \u001b[01;34mwork_-45.0\u001b[0m/\r\n",
      "\u001b[01;34mtemplate\u001b[0m/        \u001b[01;34mwork_-17.5\u001b[0m/  \u001b[01;34mwork_-26.0\u001b[0m/  \u001b[01;34mwork_-3.5\u001b[0m/   \u001b[01;34mwork_-45.5\u001b[0m/\r\n",
      "\u001b[01;34mwork_0.0\u001b[0m/        \u001b[01;34mwork_17.5\u001b[0m/   \u001b[01;34mwork_26.0\u001b[0m/   \u001b[01;34mwork_3.5\u001b[0m/    \u001b[01;34mwork_-46.0\u001b[0m/\r\n",
      "\u001b[01;34mwork_-0.5\u001b[0m/       \u001b[01;34mwork_-18.0\u001b[0m/  \u001b[01;34mwork_-26.5\u001b[0m/  \u001b[01;34mwork_-35.0\u001b[0m/  \u001b[01;34mwork_-46.5\u001b[0m/\r\n",
      "\u001b[01;34mwork_0.5\u001b[0m/        \u001b[01;34mwork_18.0\u001b[0m/   \u001b[01;34mwork_26.5\u001b[0m/   \u001b[01;34mwork_35.0\u001b[0m/   \u001b[01;34mwork_-47.0\u001b[0m/\r\n",
      "\u001b[01;34mwork_-1.0\u001b[0m/       \u001b[01;34mwork_-18.5\u001b[0m/  \u001b[01;34mwork_-27.0\u001b[0m/  \u001b[01;34mwork_-35.5\u001b[0m/  \u001b[01;34mwork_-47.5\u001b[0m/\r\n",
      "\u001b[01;34mwork_1.0\u001b[0m/        \u001b[01;34mwork_18.5\u001b[0m/   \u001b[01;34mwork_27.0\u001b[0m/   \u001b[01;34mwork_35.5\u001b[0m/   \u001b[01;34mwork_-48.0\u001b[0m/\r\n",
      "\u001b[01;34mwork_-10.0\u001b[0m/      \u001b[01;34mwork_-19.0\u001b[0m/  \u001b[01;34mwork_-27.5\u001b[0m/  \u001b[01;34mwork_-36.0\u001b[0m/  \u001b[01;34mwork_-48.5\u001b[0m/\r\n",
      "\u001b[01;34mwork_10.0\u001b[0m/       \u001b[01;34mwork_19.0\u001b[0m/   \u001b[01;34mwork_27.5\u001b[0m/   \u001b[01;34mwork_36.0\u001b[0m/   \u001b[01;34mwork_-49.0\u001b[0m/\r\n",
      "\u001b[01;34mwork_-10.5\u001b[0m/      \u001b[01;34mwork_-19.5\u001b[0m/  \u001b[01;34mwork_-28.0\u001b[0m/  \u001b[01;34mwork_-36.5\u001b[0m/  \u001b[01;34mwork_-49.5\u001b[0m/\r\n",
      "\u001b[01;34mwork_10.5\u001b[0m/       \u001b[01;34mwork_19.5\u001b[0m/   \u001b[01;34mwork_28.0\u001b[0m/   \u001b[01;34mwork_36.5\u001b[0m/   \u001b[01;34mwork_-5.0\u001b[0m/\r\n",
      "\u001b[01;34mwork_-11.0\u001b[0m/      \u001b[01;34mwork_-2.0\u001b[0m/   \u001b[01;34mwork_-28.5\u001b[0m/  \u001b[01;34mwork_-37.0\u001b[0m/  \u001b[01;34mwork_5.0\u001b[0m/\r\n",
      "\u001b[01;34mwork_11.0\u001b[0m/       \u001b[01;34mwork_2.0\u001b[0m/    \u001b[01;34mwork_28.5\u001b[0m/   \u001b[01;34mwork_37.0\u001b[0m/   \u001b[01;34mwork_-50.0\u001b[0m/\r\n",
      "\u001b[01;34mwork_-11.5\u001b[0m/      \u001b[01;34mwork_-20.0\u001b[0m/  \u001b[01;34mwork_-29.0\u001b[0m/  \u001b[01;34mwork_-37.5\u001b[0m/  \u001b[01;34mwork_-5.5\u001b[0m/\r\n",
      "\u001b[01;34mwork_11.5\u001b[0m/       \u001b[01;34mwork_20.0\u001b[0m/   \u001b[01;34mwork_29.0\u001b[0m/   \u001b[01;34mwork_37.5\u001b[0m/   \u001b[01;34mwork_5.5\u001b[0m/\r\n",
      "\u001b[01;34mwork_-12.0\u001b[0m/      \u001b[01;34mwork_-20.5\u001b[0m/  \u001b[01;34mwork_-29.5\u001b[0m/  \u001b[01;34mwork_-38.0\u001b[0m/  \u001b[01;34mwork_-6.0\u001b[0m/\r\n",
      "\u001b[01;34mwork_12.0\u001b[0m/       \u001b[01;34mwork_20.5\u001b[0m/   \u001b[01;34mwork_29.5\u001b[0m/   \u001b[01;34mwork_38.0\u001b[0m/   \u001b[01;34mwork_6.0\u001b[0m/\r\n",
      "\u001b[01;34mwork_-12.5\u001b[0m/      \u001b[01;34mwork_-21.0\u001b[0m/  \u001b[01;34mwork_-3.0\u001b[0m/   \u001b[01;34mwork_-38.5\u001b[0m/  \u001b[01;34mwork_-6.5\u001b[0m/\r\n",
      "\u001b[01;34mwork_12.5\u001b[0m/       \u001b[01;34mwork_21.0\u001b[0m/   \u001b[01;34mwork_3.0\u001b[0m/    \u001b[01;34mwork_38.5\u001b[0m/   \u001b[01;34mwork_6.5\u001b[0m/\r\n",
      "\u001b[01;34mwork_-13.0\u001b[0m/      \u001b[01;34mwork_-21.5\u001b[0m/  \u001b[01;34mwork_-30.0\u001b[0m/  \u001b[01;34mwork_-39.0\u001b[0m/  \u001b[01;34mwork_-7.0\u001b[0m/\r\n",
      "\u001b[01;34mwork_13.0\u001b[0m/       \u001b[01;34mwork_21.5\u001b[0m/   \u001b[01;34mwork_30.0\u001b[0m/   \u001b[01;34mwork_39.0\u001b[0m/   \u001b[01;34mwork_7.0\u001b[0m/\r\n",
      "\u001b[01;34mwork_-13.5\u001b[0m/      \u001b[01;34mwork_-22.0\u001b[0m/  \u001b[01;34mwork_-30.5\u001b[0m/  \u001b[01;34mwork_-39.5\u001b[0m/  \u001b[01;34mwork_-7.5\u001b[0m/\r\n",
      "\u001b[01;34mwork_13.5\u001b[0m/       \u001b[01;34mwork_22.0\u001b[0m/   \u001b[01;34mwork_30.5\u001b[0m/   \u001b[01;34mwork_39.5\u001b[0m/   \u001b[01;34mwork_7.5\u001b[0m/\r\n",
      "\u001b[01;34mwork_-14.0\u001b[0m/      \u001b[01;34mwork_-22.5\u001b[0m/  \u001b[01;34mwork_-31.0\u001b[0m/  \u001b[01;34mwork_-4.0\u001b[0m/   \u001b[01;34mwork_-8.0\u001b[0m/\r\n",
      "\u001b[01;34mwork_14.0\u001b[0m/       \u001b[01;34mwork_22.5\u001b[0m/   \u001b[01;34mwork_31.0\u001b[0m/   \u001b[01;34mwork_4.0\u001b[0m/    \u001b[01;34mwork_8.0\u001b[0m/\r\n",
      "\u001b[01;34mwork_-14.5\u001b[0m/      \u001b[01;34mwork_-23.0\u001b[0m/  \u001b[01;34mwork_-31.5\u001b[0m/  \u001b[01;34mwork_-40.0\u001b[0m/  \u001b[01;34mwork_-8.5\u001b[0m/\r\n",
      "\u001b[01;34mwork_14.5\u001b[0m/       \u001b[01;34mwork_23.0\u001b[0m/   \u001b[01;34mwork_31.5\u001b[0m/   \u001b[01;34mwork_40.0\u001b[0m/   \u001b[01;34mwork_8.5\u001b[0m/\r\n",
      "\u001b[01;34mwork_-1.5\u001b[0m/       \u001b[01;34mwork_-23.5\u001b[0m/  \u001b[01;34mwork_-32.0\u001b[0m/  \u001b[01;34mwork_-40.5\u001b[0m/  \u001b[01;34mwork_-9.0\u001b[0m/\r\n",
      "\u001b[01;34mwork_1.5\u001b[0m/        \u001b[01;34mwork_23.5\u001b[0m/   \u001b[01;34mwork_32.0\u001b[0m/   \u001b[01;34mwork_-41.0\u001b[0m/  \u001b[01;34mwork_9.0\u001b[0m/\r\n",
      "\u001b[01;34mwork_-15.0\u001b[0m/      \u001b[01;34mwork_-24.0\u001b[0m/  \u001b[01;34mwork_-32.5\u001b[0m/  \u001b[01;34mwork_-41.5\u001b[0m/  \u001b[01;34mwork_-9.5\u001b[0m/\r\n",
      "\u001b[01;34mwork_15.0\u001b[0m/       \u001b[01;34mwork_24.0\u001b[0m/   \u001b[01;34mwork_32.5\u001b[0m/   \u001b[01;34mwork_-42.0\u001b[0m/  \u001b[01;34mwork_9.5\u001b[0m/\r\n",
      "\u001b[01;34mwork_-15.5\u001b[0m/      \u001b[01;34mwork_-24.5\u001b[0m/  \u001b[01;34mwork_-33.0\u001b[0m/  \u001b[01;34mwork_-42.5\u001b[0m/\r\n",
      "\u001b[01;34mwork_15.5\u001b[0m/       \u001b[01;34mwork_24.5\u001b[0m/   \u001b[01;34mwork_33.0\u001b[0m/   \u001b[01;34mwork_-43.0\u001b[0m/\r\n",
      "\u001b[01;34mwork_-16.0\u001b[0m/      \u001b[01;34mwork_-2.5\u001b[0m/   \u001b[01;34mwork_-33.5\u001b[0m/  \u001b[01;34mwork_-43.5\u001b[0m/\r\n",
      "\u001b[01;34mwork_16.0\u001b[0m/       \u001b[01;34mwork_2.5\u001b[0m/    \u001b[01;34mwork_33.5\u001b[0m/   \u001b[01;34mwork_-44.0\u001b[0m/\r\n"
     ]
    }
   ],
   "source": [
    "ls {datadir}"
   ]
  },
  {
   "cell_type": "code",
   "execution_count": 5,
   "metadata": {
    "collapsed": false
   },
   "outputs": [
    {
     "name": "stdout",
     "output_type": "stream",
     "text": [
      "-rw-r--r-- 1 lj7 users 2593560 Aug 16  2014 /SNS/users/linjiao/simulations/HYSPEC/kvo/scan//work_0.0/hyspec-sim.nxs\r\n",
      "-rw-r--r-- 1 lj7 users 2593560 Aug 16  2014 /SNS/users/linjiao/simulations/HYSPEC/kvo/scan//work_0.0/hyspec-sim-withMetadata.nxs\r\n"
     ]
    }
   ],
   "source": [
    "ls -l {datadir}/work_0.0/*.nxs"
   ]
  },
  {
   "cell_type": "code",
   "execution_count": 8,
   "metadata": {
    "collapsed": false
   },
   "outputs": [
    {
     "name": "stdout",
     "output_type": "stream",
     "text": [
      "-rw-r--r-- 1 lj7 users 2593560 Aug 16  2014 /SNS/users/linjiao/simulations/HYSPEC/kvo/scan//work_0.0/hyspec-sim-withMetadata.nxs\r\n"
     ]
    }
   ],
   "source": [
    "ls -l {datadir}/work_0.0/hyspec-sim-withMetadata.nxs"
   ]
  },
  {
   "cell_type": "code",
   "execution_count": 32,
   "metadata": {
    "collapsed": false
   },
   "outputs": [],
   "source": [
    "# import mcvine"
   ]
  },
  {
   "cell_type": "code",
   "execution_count": 29,
   "metadata": {
    "collapsed": false
   },
   "outputs": [],
   "source": [
    "#from mcvine_workflow.singlextal import reduction"
   ]
  },
  {
   "cell_type": "code",
   "execution_count": 30,
   "metadata": {
    "collapsed": false
   },
   "outputs": [],
   "source": [
    "# nxsfile = \"%s/work_0.0/hyspec-sim-withMetadata.nxs\" % datadir\n",
    "# print nxsfile"
   ]
  },
  {
   "cell_type": "code",
   "execution_count": 31,
   "metadata": {
    "collapsed": false
   },
   "outputs": [],
   "source": [
    "# reduction.reduceOneKeepingEvents(angle=0., eaxis=(0,6.5,0.1), eiguess=7, nxsfile=nxsfile, outfile=\"reduced_0.0.nxs\")"
   ]
  },
  {
   "cell_type": "code",
   "execution_count": 33,
   "metadata": {
    "collapsed": false
   },
   "outputs": [
    {
     "name": "stdout",
     "output_type": "stream",
     "text": [
      "/home/lj7/anaconda2/envs/dev-mcvine/lib/python2.7/site-packages/mantid/kernel/__init__.py:13: RuntimeWarning: to-Python converter for std::vector<int, std::allocator<int> > already registered; second conversion method ignored.\n",
      "  from ._kernel import *\n",
      "/home/lj7/anaconda2/envs/dev-mcvine/lib/python2.7/site-packages/mantid/kernel/__init__.py:13: RuntimeWarning: to-Python converter for std::vector<double, std::allocator<double> > already registered; second conversion method ignored.\n",
      "  from ._kernel import *\n",
      "FrameworkManager-[Notice] Welcome to Mantid 3.6.100\n",
      "FrameworkManager-[Notice] Please cite: http://dx.doi.org/10.1016/j.nima.2014.07.029 and this release: http://dx.doi.org/10.5286/Software/Mantid3.6.100\n",
      "* working on  /SNS/users/linjiao/simulations/HYSPEC/kvo/scan//work_0.0/hyspec-sim-withMetadata.nxs\n",
      "Load-[Notice] Load started\n",
      "Load-[Notice] Load successful, Duration 1.07 seconds\n",
      "DgsReduction-[Notice] DgsReduction started\n",
      "DgsConvertToEnergyTransfer-[Notice] Starting DgsConvertToEnergyTransfer\n",
      "DgsConvertToEnergyTransfer-[Notice] Processing for SNS\n",
      "DgsConvertToEnergyTransfer-[Notice] Trying to determine file name\n",
      "DgsConvertToEnergyTransfer-[Notice] Loading NeXus monitors\n",
      "DgsConvertToEnergyTransfer-[Notice] Adjusting for T0\n",
      "DgsPreprocessData-[Notice] Starting DgsPreprocessData\n",
      "DgsPreprocessData-[Notice] Incident beam norm method = None\n",
      "DgsConvertToEnergyTransfer-[Notice] Converting to energy transfer.\n",
      "DgsConvertToEnergyTransfer-[Notice] Rebinning data\n",
      "DgsConvertToEnergyTransfer-[Notice] Rebinning data\n",
      "DgsReduction-[Notice] DgsReduction successful, Duration 1.70 seconds\n",
      "AddSampleLog-[Notice] AddSampleLog started\n",
      "AddSampleLog-[Notice] AddSampleLog successful, Duration 0.00 seconds\n",
      "SaveNexus-[Notice] SaveNexus started\n",
      "SaveNexus-[Notice] SaveNexus successful, Duration 0.57 seconds\n"
     ]
    }
   ],
   "source": [
    "!mcvine workflow sxr reduce --type=single --eiguess=7 --psi=0.0 --eventnxs={datadir}/work_0.0/hyspec-sim-withMetadata.nxs  --out=reduced_0.0.nxs"
   ]
  },
  {
   "cell_type": "code",
   "execution_count": 54,
   "metadata": {
    "collapsed": false
   },
   "outputs": [
    {
     "name": "stdout",
     "output_type": "stream",
     "text": [
      "/home/lj7/anaconda2/envs/dev-mcvine/lib/python2.7/site-packages/mantid/kernel/__init__.py:13: RuntimeWarning: to-Python converter for std::vector<int, std::allocator<int> > already registered; second conversion method ignored.\r\n",
      "  from ._kernel import *\r\n",
      "/home/lj7/anaconda2/envs/dev-mcvine/lib/python2.7/site-packages/mantid/kernel/__init__.py:13: RuntimeWarning: to-Python converter for std::vector<double, std::allocator<double> > already registered; second conversion method ignored.\r\n",
      "  from ._kernel import *\r\n"
     ]
    }
   ],
   "source": [
    "!mcvine workflow sxr reduce --type=batch --eiguess=7 --psi-axis -50. 40.1 .5 --eventnxs={datadir}/work_%s/hyspec-sim-withMetadata.nxs --out=reduced_%s.nxs > log.reduce-all "
   ]
  },
  {
   "cell_type": "code",
   "execution_count": 39,
   "metadata": {
    "collapsed": false
   },
   "outputs": [
    {
     "name": "stdout",
     "output_type": "stream",
     "text": [
      "Writing scan.yml\n"
     ]
    }
   ],
   "source": [
    "%%file scan.yml\n",
    "angles: -50,40.1,.5\n",
    "filename_pattern: reduced_%(angle)s.nxs\n",
    "lattice: 8.87, 8.87, 5.2, 90, 90, 90\n",
    "orientation:\n",
    " u: 1, 0, 0\n",
    " v: 0, 1, 0"
   ]
  },
  {
   "cell_type": "code",
   "execution_count": 55,
   "metadata": {
    "collapsed": false
   },
   "outputs": [
    {
     "name": "stdout",
     "output_type": "stream",
     "text": [
      "Writing sliceH10.yml\n"
     ]
    }
   ],
   "source": [
    "%%file sliceH10.yml\n",
    "Eaxis:\n",
    " min: 0\n",
    " max: 6\n",
    " N: 121\n",
    "Q_projections:\n",
    " U:\n",
    "  proj: 1,0,0\n",
    "  proj_name: H,0,0\n",
    "  min: -1\n",
    "  max: 3.5\n",
    "  N: 361\n",
    " V:\n",
    "  proj: 0,1,0\n",
    "  proj_name: 0,K,0\n",
    "  min: 0.93\n",
    "  max: 1.07\n",
    "  N: 1\n",
    " W:\n",
    "  proj: 0,0,1\n",
    "  proj_name: 0,0,L\n",
    "  min: -1\n",
    "  max: 1\n",
    "  N: 1\n"
   ]
  },
  {
   "cell_type": "code",
   "execution_count": 56,
   "metadata": {
    "collapsed": false
   },
   "outputs": [
    {
     "name": "stdout",
     "output_type": "stream",
     "text": [
      "/home/lj7/anaconda2/envs/dev-mcvine/lib/python2.7/site-packages/mantid/kernel/__init__.py:13: RuntimeWarning: to-Python converter for std::vector<int, std::allocator<int> > already registered; second conversion method ignored.\r\n",
      "  from ._kernel import *\r\n",
      "/home/lj7/anaconda2/envs/dev-mcvine/lib/python2.7/site-packages/mantid/kernel/__init__.py:13: RuntimeWarning: to-Python converter for std::vector<double, std::allocator<double> > already registered; second conversion method ignored.\r\n",
      "  from ._kernel import *\r\n"
     ]
    }
   ],
   "source": [
    "!mcvine workflow sxr slice --scan=scan.yml --slice=sliceH10.yml --out=sliceH10.nxs > log.sliceH10"
   ]
  },
  {
   "cell_type": "code",
   "execution_count": 53,
   "metadata": {
    "collapsed": false
   },
   "outputs": [
    {
     "name": "stdout",
     "output_type": "stream",
     "text": [
      "/home/lj7/anaconda2/envs/dev-mcvine/lib/python2.7/site-packages/mantid/kernel/__init__.py:13: RuntimeWarning: to-Python converter for std::vector<int, std::allocator<int> > already registered; second conversion method ignored.\n",
      "  from ._kernel import *\n",
      "/home/lj7/anaconda2/envs/dev-mcvine/lib/python2.7/site-packages/mantid/kernel/__init__.py:13: RuntimeWarning: to-Python converter for std::vector<double, std::allocator<double> > already registered; second conversion method ignored.\n",
      "  from ._kernel import *\n",
      "FrameworkManager-[Notice] Welcome to Mantid 3.6.100\n",
      "FrameworkManager-[Notice] Please cite: http://dx.doi.org/10.1016/j.nima.2014.07.029 and this release: http://dx.doi.org/10.5286/Software/Mantid3.6.100\n",
      "Load-[Notice] Load started\n",
      "Load-[Notice] Load successful, Duration 0.26 seconds\n"
     ]
    }
   ],
   "source": [
    "!mcvine workflow sxr slice2hist sliceH10.nxs sliceH10.h5"
   ]
  },
  {
   "cell_type": "code",
   "execution_count": null,
   "metadata": {
    "collapsed": true
   },
   "outputs": [],
   "source": []
  }
 ],
 "metadata": {
  "kernelspec": {
   "display_name": "Python 2",
   "language": "python",
   "name": "python2"
  },
  "language_info": {
   "codemirror_mode": {
    "name": "ipython",
    "version": 2
   },
   "file_extension": ".py",
   "mimetype": "text/x-python",
   "name": "python",
   "nbconvert_exporter": "python",
   "pygments_lexer": "ipython2",
   "version": "2.7.12"
  }
 },
 "nbformat": 4,
 "nbformat_minor": 0
}
